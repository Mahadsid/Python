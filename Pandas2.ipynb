{
 "cells": [
  {
   "cell_type": "markdown",
   "metadata": {},
   "source": [
    "# Pandas Series"
   ]
  },
  {
   "cell_type": "code",
   "execution_count": 1,
   "metadata": {},
   "outputs": [],
   "source": [
    "import pandas as pd"
   ]
  },
  {
   "cell_type": "code",
   "execution_count": 7,
   "metadata": {},
   "outputs": [
    {
     "name": "stdout",
     "output_type": "stream",
     "text": [
      "[0.25 0.5  0.75 1.  ]\n",
      "Index(['a', 'b', 'c', 'd'], dtype='object')\n"
     ]
    }
   ],
   "source": [
    "data = pd.Series([0.25,0.5,0.75,1.0],index=['a','b','c','d'])\n",
    "print(data.values)\n",
    "print(data.index)"
   ]
  },
  {
   "cell_type": "code",
   "execution_count": 8,
   "metadata": {},
   "outputs": [
    {
     "data": {
      "text/plain": [
       "pandas.core.series.Series"
      ]
     },
     "execution_count": 8,
     "metadata": {},
     "output_type": "execute_result"
    }
   ],
   "source": [
    "type(data)"
   ]
  },
  {
   "cell_type": "code",
   "execution_count": 9,
   "metadata": {},
   "outputs": [
    {
     "data": {
      "text/plain": [
       "numpy.ndarray"
      ]
     },
     "execution_count": 9,
     "metadata": {},
     "output_type": "execute_result"
    }
   ],
   "source": [
    "type(data.values)"
   ]
  },
  {
   "cell_type": "code",
   "execution_count": 10,
   "metadata": {},
   "outputs": [
    {
     "data": {
      "text/plain": [
       "a    0.25\n",
       "b    0.50\n",
       "c    0.75\n",
       "dtype: float64"
      ]
     },
     "execution_count": 10,
     "metadata": {},
     "output_type": "execute_result"
    }
   ],
   "source": [
    "data['a':'c']"
   ]
  },
  {
   "cell_type": "markdown",
   "metadata": {},
   "source": [
    "### Dictionaries in pandas"
   ]
  },
  {
   "cell_type": "code",
   "execution_count": 13,
   "metadata": {},
   "outputs": [],
   "source": [
    "grades_dict={'A':4,'A+':3.5,'B':3,'B+':2.5,'C':5}\n",
    "marks_dict={'A':85,'A+':80,'B':75,'B+':70,'C':60}"
   ]
  },
  {
   "cell_type": "code",
   "execution_count": 14,
   "metadata": {},
   "outputs": [],
   "source": [
    "grades=pd.Series(grades_dict)\n",
    "marks=pd.Series(marks_dict)"
   ]
  },
  {
   "cell_type": "code",
   "execution_count": 15,
   "metadata": {},
   "outputs": [
    {
     "name": "stdout",
     "output_type": "stream",
     "text": [
      "A     4.0\n",
      "A+    3.5\n",
      "B     3.0\n",
      "B+    2.5\n",
      "C     5.0\n",
      "dtype: float64\n",
      "A     85\n",
      "A+    80\n",
      "B     75\n",
      "B+    70\n",
      "C     60\n",
      "dtype: int64\n"
     ]
    }
   ],
   "source": [
    "print(grades)\n",
    "print(marks)"
   ]
  },
  {
   "cell_type": "code",
   "execution_count": 16,
   "metadata": {},
   "outputs": [
    {
     "data": {
      "text/plain": [
       "array([4. , 3.5, 3. , 2.5, 5. ])"
      ]
     },
     "execution_count": 16,
     "metadata": {},
     "output_type": "execute_result"
    }
   ],
   "source": [
    "grades.values"
   ]
  },
  {
   "cell_type": "code",
   "execution_count": 17,
   "metadata": {},
   "outputs": [
    {
     "data": {
      "text/plain": [
       "array([85, 80, 75, 70, 60], dtype=int64)"
      ]
     },
     "execution_count": 17,
     "metadata": {},
     "output_type": "execute_result"
    }
   ],
   "source": [
    "marks.values"
   ]
  },
  {
   "cell_type": "code",
   "execution_count": 18,
   "metadata": {},
   "outputs": [
    {
     "data": {
      "text/plain": [
       "85"
      ]
     },
     "execution_count": 18,
     "metadata": {},
     "output_type": "execute_result"
    }
   ],
   "source": [
    "marks['A']"
   ]
  },
  {
   "cell_type": "code",
   "execution_count": 19,
   "metadata": {},
   "outputs": [
    {
     "data": {
      "text/plain": [
       "A+    80\n",
       "B     75\n",
       "B+    70\n",
       "dtype: int64"
      ]
     },
     "execution_count": 19,
     "metadata": {},
     "output_type": "execute_result"
    }
   ],
   "source": [
    "marks[1:4]"
   ]
  },
  {
   "cell_type": "markdown",
   "metadata": {},
   "source": [
    "# Pandas DataFrame"
   ]
  },
  {
   "cell_type": "code",
   "execution_count": 22,
   "metadata": {},
   "outputs": [],
   "source": [
    "D = pd.DataFrame({'Marks': marks,'Grades':grades})"
   ]
  },
  {
   "cell_type": "code",
   "execution_count": 24,
   "metadata": {},
   "outputs": [
    {
     "data": {
      "text/html": [
       "<div>\n",
       "<style scoped>\n",
       "    .dataframe tbody tr th:only-of-type {\n",
       "        vertical-align: middle;\n",
       "    }\n",
       "\n",
       "    .dataframe tbody tr th {\n",
       "        vertical-align: top;\n",
       "    }\n",
       "\n",
       "    .dataframe thead th {\n",
       "        text-align: right;\n",
       "    }\n",
       "</style>\n",
       "<table border=\"1\" class=\"dataframe\">\n",
       "  <thead>\n",
       "    <tr style=\"text-align: right;\">\n",
       "      <th></th>\n",
       "      <th>Marks</th>\n",
       "      <th>Grades</th>\n",
       "    </tr>\n",
       "  </thead>\n",
       "  <tbody>\n",
       "    <tr>\n",
       "      <th>A</th>\n",
       "      <td>85</td>\n",
       "      <td>4.0</td>\n",
       "    </tr>\n",
       "    <tr>\n",
       "      <th>A+</th>\n",
       "      <td>80</td>\n",
       "      <td>3.5</td>\n",
       "    </tr>\n",
       "    <tr>\n",
       "      <th>B</th>\n",
       "      <td>75</td>\n",
       "      <td>3.0</td>\n",
       "    </tr>\n",
       "    <tr>\n",
       "      <th>B+</th>\n",
       "      <td>70</td>\n",
       "      <td>2.5</td>\n",
       "    </tr>\n",
       "    <tr>\n",
       "      <th>C</th>\n",
       "      <td>60</td>\n",
       "      <td>5.0</td>\n",
       "    </tr>\n",
       "  </tbody>\n",
       "</table>\n",
       "</div>"
      ],
      "text/plain": [
       "    Marks  Grades\n",
       "A      85     4.0\n",
       "A+     80     3.5\n",
       "B      75     3.0\n",
       "B+     70     2.5\n",
       "C      60     5.0"
      ]
     },
     "execution_count": 24,
     "metadata": {},
     "output_type": "execute_result"
    }
   ],
   "source": [
    "D"
   ]
  },
  {
   "cell_type": "code",
   "execution_count": 25,
   "metadata": {},
   "outputs": [
    {
     "data": {
      "text/plain": [
       "array([[85. ,  4. ],\n",
       "       [80. ,  3.5],\n",
       "       [75. ,  3. ],\n",
       "       [70. ,  2.5],\n",
       "       [60. ,  5. ]])"
      ]
     },
     "execution_count": 25,
     "metadata": {},
     "output_type": "execute_result"
    }
   ],
   "source": [
    "D.values"
   ]
  },
  {
   "cell_type": "code",
   "execution_count": 26,
   "metadata": {},
   "outputs": [
    {
     "data": {
      "text/plain": [
       "75.0"
      ]
     },
     "execution_count": 26,
     "metadata": {},
     "output_type": "execute_result"
    }
   ],
   "source": [
    "D.values[2,0]"
   ]
  },
  {
   "cell_type": "code",
   "execution_count": 27,
   "metadata": {},
   "outputs": [
    {
     "data": {
      "text/plain": [
       "Index(['Marks', 'Grades'], dtype='object')"
      ]
     },
     "execution_count": 27,
     "metadata": {},
     "output_type": "execute_result"
    }
   ],
   "source": [
    "D.columns"
   ]
  },
  {
   "cell_type": "code",
   "execution_count": 28,
   "metadata": {},
   "outputs": [],
   "source": [
    "D['ScaleMarks'] = 100*(D['Marks']/90) # adding columns"
   ]
  },
  {
   "cell_type": "code",
   "execution_count": 29,
   "metadata": {},
   "outputs": [
    {
     "data": {
      "text/html": [
       "<div>\n",
       "<style scoped>\n",
       "    .dataframe tbody tr th:only-of-type {\n",
       "        vertical-align: middle;\n",
       "    }\n",
       "\n",
       "    .dataframe tbody tr th {\n",
       "        vertical-align: top;\n",
       "    }\n",
       "\n",
       "    .dataframe thead th {\n",
       "        text-align: right;\n",
       "    }\n",
       "</style>\n",
       "<table border=\"1\" class=\"dataframe\">\n",
       "  <thead>\n",
       "    <tr style=\"text-align: right;\">\n",
       "      <th></th>\n",
       "      <th>Marks</th>\n",
       "      <th>Grades</th>\n",
       "      <th>ScaleMarks</th>\n",
       "    </tr>\n",
       "  </thead>\n",
       "  <tbody>\n",
       "    <tr>\n",
       "      <th>A</th>\n",
       "      <td>85</td>\n",
       "      <td>4.0</td>\n",
       "      <td>94.444444</td>\n",
       "    </tr>\n",
       "    <tr>\n",
       "      <th>A+</th>\n",
       "      <td>80</td>\n",
       "      <td>3.5</td>\n",
       "      <td>88.888889</td>\n",
       "    </tr>\n",
       "    <tr>\n",
       "      <th>B</th>\n",
       "      <td>75</td>\n",
       "      <td>3.0</td>\n",
       "      <td>83.333333</td>\n",
       "    </tr>\n",
       "    <tr>\n",
       "      <th>B+</th>\n",
       "      <td>70</td>\n",
       "      <td>2.5</td>\n",
       "      <td>77.777778</td>\n",
       "    </tr>\n",
       "    <tr>\n",
       "      <th>C</th>\n",
       "      <td>60</td>\n",
       "      <td>5.0</td>\n",
       "      <td>66.666667</td>\n",
       "    </tr>\n",
       "  </tbody>\n",
       "</table>\n",
       "</div>"
      ],
      "text/plain": [
       "    Marks  Grades  ScaleMarks\n",
       "A      85     4.0   94.444444\n",
       "A+     80     3.5   88.888889\n",
       "B      75     3.0   83.333333\n",
       "B+     70     2.5   77.777778\n",
       "C      60     5.0   66.666667"
      ]
     },
     "execution_count": 29,
     "metadata": {},
     "output_type": "execute_result"
    }
   ],
   "source": [
    "D"
   ]
  },
  {
   "cell_type": "code",
   "execution_count": 30,
   "metadata": {},
   "outputs": [],
   "source": [
    "# Deleting Columns\n",
    "del D['ScaleMarks']"
   ]
  },
  {
   "cell_type": "code",
   "execution_count": 31,
   "metadata": {},
   "outputs": [
    {
     "data": {
      "text/html": [
       "<div>\n",
       "<style scoped>\n",
       "    .dataframe tbody tr th:only-of-type {\n",
       "        vertical-align: middle;\n",
       "    }\n",
       "\n",
       "    .dataframe tbody tr th {\n",
       "        vertical-align: top;\n",
       "    }\n",
       "\n",
       "    .dataframe thead th {\n",
       "        text-align: right;\n",
       "    }\n",
       "</style>\n",
       "<table border=\"1\" class=\"dataframe\">\n",
       "  <thead>\n",
       "    <tr style=\"text-align: right;\">\n",
       "      <th></th>\n",
       "      <th>Marks</th>\n",
       "      <th>Grades</th>\n",
       "    </tr>\n",
       "  </thead>\n",
       "  <tbody>\n",
       "    <tr>\n",
       "      <th>A</th>\n",
       "      <td>85</td>\n",
       "      <td>4.0</td>\n",
       "    </tr>\n",
       "    <tr>\n",
       "      <th>A+</th>\n",
       "      <td>80</td>\n",
       "      <td>3.5</td>\n",
       "    </tr>\n",
       "    <tr>\n",
       "      <th>B</th>\n",
       "      <td>75</td>\n",
       "      <td>3.0</td>\n",
       "    </tr>\n",
       "    <tr>\n",
       "      <th>B+</th>\n",
       "      <td>70</td>\n",
       "      <td>2.5</td>\n",
       "    </tr>\n",
       "    <tr>\n",
       "      <th>C</th>\n",
       "      <td>60</td>\n",
       "      <td>5.0</td>\n",
       "    </tr>\n",
       "  </tbody>\n",
       "</table>\n",
       "</div>"
      ],
      "text/plain": [
       "    Marks  Grades\n",
       "A      85     4.0\n",
       "A+     80     3.5\n",
       "B      75     3.0\n",
       "B+     70     2.5\n",
       "C      60     5.0"
      ]
     },
     "execution_count": 31,
     "metadata": {},
     "output_type": "execute_result"
    }
   ],
   "source": [
    "D"
   ]
  },
  {
   "cell_type": "code",
   "execution_count": 32,
   "metadata": {},
   "outputs": [],
   "source": [
    "m = D[D['Marks']>60]"
   ]
  },
  {
   "cell_type": "code",
   "execution_count": 33,
   "metadata": {},
   "outputs": [
    {
     "data": {
      "text/html": [
       "<div>\n",
       "<style scoped>\n",
       "    .dataframe tbody tr th:only-of-type {\n",
       "        vertical-align: middle;\n",
       "    }\n",
       "\n",
       "    .dataframe tbody tr th {\n",
       "        vertical-align: top;\n",
       "    }\n",
       "\n",
       "    .dataframe thead th {\n",
       "        text-align: right;\n",
       "    }\n",
       "</style>\n",
       "<table border=\"1\" class=\"dataframe\">\n",
       "  <thead>\n",
       "    <tr style=\"text-align: right;\">\n",
       "      <th></th>\n",
       "      <th>Marks</th>\n",
       "      <th>Grades</th>\n",
       "    </tr>\n",
       "  </thead>\n",
       "  <tbody>\n",
       "    <tr>\n",
       "      <th>A</th>\n",
       "      <td>85</td>\n",
       "      <td>4.0</td>\n",
       "    </tr>\n",
       "    <tr>\n",
       "      <th>A+</th>\n",
       "      <td>80</td>\n",
       "      <td>3.5</td>\n",
       "    </tr>\n",
       "    <tr>\n",
       "      <th>B</th>\n",
       "      <td>75</td>\n",
       "      <td>3.0</td>\n",
       "    </tr>\n",
       "    <tr>\n",
       "      <th>B+</th>\n",
       "      <td>70</td>\n",
       "      <td>2.5</td>\n",
       "    </tr>\n",
       "  </tbody>\n",
       "</table>\n",
       "</div>"
      ],
      "text/plain": [
       "    Marks  Grades\n",
       "A      85     4.0\n",
       "A+     80     3.5\n",
       "B      75     3.0\n",
       "B+     70     2.5"
      ]
     },
     "execution_count": 33,
     "metadata": {},
     "output_type": "execute_result"
    }
   ],
   "source": [
    "m"
   ]
  },
  {
   "cell_type": "markdown",
   "metadata": {},
   "source": [
    "# How to remove NaN vlaues "
   ]
  },
  {
   "cell_type": "code",
   "execution_count": 34,
   "metadata": {},
   "outputs": [],
   "source": [
    "A = pd.DataFrame([{'a':1,'b':4},{'b':-3,'c':9}])"
   ]
  },
  {
   "cell_type": "code",
   "execution_count": 35,
   "metadata": {},
   "outputs": [
    {
     "data": {
      "text/html": [
       "<div>\n",
       "<style scoped>\n",
       "    .dataframe tbody tr th:only-of-type {\n",
       "        vertical-align: middle;\n",
       "    }\n",
       "\n",
       "    .dataframe tbody tr th {\n",
       "        vertical-align: top;\n",
       "    }\n",
       "\n",
       "    .dataframe thead th {\n",
       "        text-align: right;\n",
       "    }\n",
       "</style>\n",
       "<table border=\"1\" class=\"dataframe\">\n",
       "  <thead>\n",
       "    <tr style=\"text-align: right;\">\n",
       "      <th></th>\n",
       "      <th>a</th>\n",
       "      <th>b</th>\n",
       "      <th>c</th>\n",
       "    </tr>\n",
       "  </thead>\n",
       "  <tbody>\n",
       "    <tr>\n",
       "      <th>0</th>\n",
       "      <td>1.0</td>\n",
       "      <td>4</td>\n",
       "      <td>NaN</td>\n",
       "    </tr>\n",
       "    <tr>\n",
       "      <th>1</th>\n",
       "      <td>NaN</td>\n",
       "      <td>-3</td>\n",
       "      <td>9.0</td>\n",
       "    </tr>\n",
       "  </tbody>\n",
       "</table>\n",
       "</div>"
      ],
      "text/plain": [
       "     a  b    c\n",
       "0  1.0  4  NaN\n",
       "1  NaN -3  9.0"
      ]
     },
     "execution_count": 35,
     "metadata": {},
     "output_type": "execute_result"
    }
   ],
   "source": [
    "A"
   ]
  },
  {
   "cell_type": "code",
   "execution_count": 36,
   "metadata": {},
   "outputs": [
    {
     "data": {
      "text/html": [
       "<div>\n",
       "<style scoped>\n",
       "    .dataframe tbody tr th:only-of-type {\n",
       "        vertical-align: middle;\n",
       "    }\n",
       "\n",
       "    .dataframe tbody tr th {\n",
       "        vertical-align: top;\n",
       "    }\n",
       "\n",
       "    .dataframe thead th {\n",
       "        text-align: right;\n",
       "    }\n",
       "</style>\n",
       "<table border=\"1\" class=\"dataframe\">\n",
       "  <thead>\n",
       "    <tr style=\"text-align: right;\">\n",
       "      <th></th>\n",
       "      <th>a</th>\n",
       "      <th>b</th>\n",
       "      <th>c</th>\n",
       "    </tr>\n",
       "  </thead>\n",
       "  <tbody>\n",
       "    <tr>\n",
       "      <th>0</th>\n",
       "      <td>1.0</td>\n",
       "      <td>4</td>\n",
       "      <td>0.0</td>\n",
       "    </tr>\n",
       "    <tr>\n",
       "      <th>1</th>\n",
       "      <td>0.0</td>\n",
       "      <td>-3</td>\n",
       "      <td>9.0</td>\n",
       "    </tr>\n",
       "  </tbody>\n",
       "</table>\n",
       "</div>"
      ],
      "text/plain": [
       "     a  b    c\n",
       "0  1.0  4  0.0\n",
       "1  0.0 -3  9.0"
      ]
     },
     "execution_count": 36,
     "metadata": {},
     "output_type": "execute_result"
    }
   ],
   "source": [
    "# Filling NaN with some value\n",
    "A.fillna(0)"
   ]
  },
  {
   "cell_type": "code",
   "execution_count": 37,
   "metadata": {},
   "outputs": [],
   "source": [
    "# It drops all the NaN values, but sometime Data can be lost due to this\n",
    "A.dropna?"
   ]
  },
  {
   "cell_type": "markdown",
   "metadata": {},
   "source": [
    "## explicit index: use loc, implicit index use iloc\n",
    "data[1]: explicit index, data[1:3] implicit index "
   ]
  },
  {
   "cell_type": "code",
   "execution_count": 39,
   "metadata": {},
   "outputs": [],
   "source": [
    "Dta = pd.Series(['a','b','c'],index=[1,3,5])"
   ]
  },
  {
   "cell_type": "code",
   "execution_count": 40,
   "metadata": {},
   "outputs": [
    {
     "data": {
      "text/plain": [
       "'a'"
      ]
     },
     "execution_count": 40,
     "metadata": {},
     "output_type": "execute_result"
    }
   ],
   "source": [
    "Dta[1]"
   ]
  },
  {
   "cell_type": "code",
   "execution_count": 41,
   "metadata": {},
   "outputs": [
    {
     "data": {
      "text/plain": [
       "3    b\n",
       "5    c\n",
       "dtype: object"
      ]
     },
     "execution_count": 41,
     "metadata": {},
     "output_type": "execute_result"
    }
   ],
   "source": [
    "Dta[1:3]"
   ]
  },
  {
   "cell_type": "code",
   "execution_count": 42,
   "metadata": {},
   "outputs": [
    {
     "data": {
      "text/plain": [
       "1    a\n",
       "3    b\n",
       "dtype: object"
      ]
     },
     "execution_count": 42,
     "metadata": {},
     "output_type": "execute_result"
    }
   ],
   "source": [
    "Dta.loc[1:3]"
   ]
  },
  {
   "cell_type": "code",
   "execution_count": 43,
   "metadata": {},
   "outputs": [
    {
     "data": {
      "text/plain": [
       "3    b\n",
       "5    c\n",
       "dtype: object"
      ]
     },
     "execution_count": 43,
     "metadata": {},
     "output_type": "execute_result"
    }
   ],
   "source": [
    "Dta.iloc[1:3]"
   ]
  },
  {
   "cell_type": "code",
   "execution_count": 47,
   "metadata": {},
   "outputs": [
    {
     "data": {
      "text/plain": [
       "Marks     75.0\n",
       "Grades     3.0\n",
       "Name: B, dtype: float64"
      ]
     },
     "execution_count": 47,
     "metadata": {},
     "output_type": "execute_result"
    }
   ],
   "source": [
    "D.iloc[2,:]"
   ]
  },
  {
   "cell_type": "code",
   "execution_count": 45,
   "metadata": {},
   "outputs": [
    {
     "data": {
      "text/html": [
       "<div>\n",
       "<style scoped>\n",
       "    .dataframe tbody tr th:only-of-type {\n",
       "        vertical-align: middle;\n",
       "    }\n",
       "\n",
       "    .dataframe tbody tr th {\n",
       "        vertical-align: top;\n",
       "    }\n",
       "\n",
       "    .dataframe thead th {\n",
       "        text-align: right;\n",
       "    }\n",
       "</style>\n",
       "<table border=\"1\" class=\"dataframe\">\n",
       "  <thead>\n",
       "    <tr style=\"text-align: right;\">\n",
       "      <th></th>\n",
       "      <th>Marks</th>\n",
       "      <th>Grades</th>\n",
       "    </tr>\n",
       "  </thead>\n",
       "  <tbody>\n",
       "    <tr>\n",
       "      <th>A</th>\n",
       "      <td>85</td>\n",
       "      <td>4.0</td>\n",
       "    </tr>\n",
       "    <tr>\n",
       "      <th>A+</th>\n",
       "      <td>80</td>\n",
       "      <td>3.5</td>\n",
       "    </tr>\n",
       "    <tr>\n",
       "      <th>B</th>\n",
       "      <td>75</td>\n",
       "      <td>3.0</td>\n",
       "    </tr>\n",
       "    <tr>\n",
       "      <th>B+</th>\n",
       "      <td>70</td>\n",
       "      <td>2.5</td>\n",
       "    </tr>\n",
       "    <tr>\n",
       "      <th>C</th>\n",
       "      <td>60</td>\n",
       "      <td>5.0</td>\n",
       "    </tr>\n",
       "  </tbody>\n",
       "</table>\n",
       "</div>"
      ],
      "text/plain": [
       "    Marks  Grades\n",
       "A      85     4.0\n",
       "A+     80     3.5\n",
       "B      75     3.0\n",
       "B+     70     2.5\n",
       "C      60     5.0"
      ]
     },
     "execution_count": 45,
     "metadata": {},
     "output_type": "execute_result"
    }
   ],
   "source": [
    "D"
   ]
  },
  {
   "cell_type": "code",
   "execution_count": 48,
   "metadata": {},
   "outputs": [
    {
     "data": {
      "text/html": [
       "<div>\n",
       "<style scoped>\n",
       "    .dataframe tbody tr th:only-of-type {\n",
       "        vertical-align: middle;\n",
       "    }\n",
       "\n",
       "    .dataframe tbody tr th {\n",
       "        vertical-align: top;\n",
       "    }\n",
       "\n",
       "    .dataframe thead th {\n",
       "        text-align: right;\n",
       "    }\n",
       "</style>\n",
       "<table border=\"1\" class=\"dataframe\">\n",
       "  <thead>\n",
       "    <tr style=\"text-align: right;\">\n",
       "      <th></th>\n",
       "      <th>Marks</th>\n",
       "      <th>Grades</th>\n",
       "    </tr>\n",
       "  </thead>\n",
       "  <tbody>\n",
       "    <tr>\n",
       "      <th>C</th>\n",
       "      <td>60</td>\n",
       "      <td>5.0</td>\n",
       "    </tr>\n",
       "    <tr>\n",
       "      <th>B+</th>\n",
       "      <td>70</td>\n",
       "      <td>2.5</td>\n",
       "    </tr>\n",
       "    <tr>\n",
       "      <th>B</th>\n",
       "      <td>75</td>\n",
       "      <td>3.0</td>\n",
       "    </tr>\n",
       "    <tr>\n",
       "      <th>A+</th>\n",
       "      <td>80</td>\n",
       "      <td>3.5</td>\n",
       "    </tr>\n",
       "    <tr>\n",
       "      <th>A</th>\n",
       "      <td>85</td>\n",
       "      <td>4.0</td>\n",
       "    </tr>\n",
       "  </tbody>\n",
       "</table>\n",
       "</div>"
      ],
      "text/plain": [
       "    Marks  Grades\n",
       "C      60     5.0\n",
       "B+     70     2.5\n",
       "B      75     3.0\n",
       "A+     80     3.5\n",
       "A      85     4.0"
      ]
     },
     "execution_count": 48,
     "metadata": {},
     "output_type": "execute_result"
    }
   ],
   "source": [
    "D.iloc[::-1,:]"
   ]
  },
  {
   "cell_type": "markdown",
   "metadata": {},
   "source": [
    "## handling missing data from sklearn"
   ]
  },
  {
   "cell_type": "code",
   "execution_count": 49,
   "metadata": {},
   "outputs": [],
   "source": [
    "from sklearn.impute import SimpleImputer"
   ]
  },
  {
   "cell_type": "code",
   "execution_count": 53,
   "metadata": {},
   "outputs": [],
   "source": [
    "df = pd.read_excel('covid19Vaccination.xlsx')"
   ]
  },
  {
   "cell_type": "code",
   "execution_count": 54,
   "metadata": {},
   "outputs": [
    {
     "data": {
      "text/html": [
       "<div>\n",
       "<style scoped>\n",
       "    .dataframe tbody tr th:only-of-type {\n",
       "        vertical-align: middle;\n",
       "    }\n",
       "\n",
       "    .dataframe tbody tr th {\n",
       "        vertical-align: top;\n",
       "    }\n",
       "\n",
       "    .dataframe thead th {\n",
       "        text-align: right;\n",
       "    }\n",
       "</style>\n",
       "<table border=\"1\" class=\"dataframe\">\n",
       "  <thead>\n",
       "    <tr style=\"text-align: right;\">\n",
       "      <th></th>\n",
       "      <th>ID</th>\n",
       "      <th>DATE_</th>\n",
       "      <th>SEQID</th>\n",
       "      <th>CITY</th>\n",
       "      <th>CITY2</th>\n",
       "      <th>_1DOSE</th>\n",
       "      <th>_2DOSE</th>\n",
       "      <th>_TOTAL</th>\n",
       "      <th>POPULATION</th>\n",
       "      <th>DIFF_1DOSE</th>\n",
       "      <th>DIFF_2DOSE</th>\n",
       "      <th>DIFF_TOTAL</th>\n",
       "      <th>PREVID</th>\n",
       "    </tr>\n",
       "  </thead>\n",
       "  <tbody>\n",
       "    <tr>\n",
       "      <th>0</th>\n",
       "      <td>438102</td>\n",
       "      <td>2021-06-26 22:41:31</td>\n",
       "      <td>5412</td>\n",
       "      <td>Adana</td>\n",
       "      <td>Adana</td>\n",
       "      <td>784464</td>\n",
       "      <td>355404</td>\n",
       "      <td>1139868</td>\n",
       "      <td>2258718</td>\n",
       "      <td>15</td>\n",
       "      <td>0</td>\n",
       "      <td>15</td>\n",
       "      <td>438021</td>\n",
       "    </tr>\n",
       "    <tr>\n",
       "      <th>1</th>\n",
       "      <td>438103</td>\n",
       "      <td>2021-06-26 22:41:31</td>\n",
       "      <td>5412</td>\n",
       "      <td>Adıyaman</td>\n",
       "      <td>Adiyaman</td>\n",
       "      <td>170847</td>\n",
       "      <td>77955</td>\n",
       "      <td>248802</td>\n",
       "      <td>632459</td>\n",
       "      <td>2</td>\n",
       "      <td>0</td>\n",
       "      <td>2</td>\n",
       "      <td>438022</td>\n",
       "    </tr>\n",
       "    <tr>\n",
       "      <th>2</th>\n",
       "      <td>438104</td>\n",
       "      <td>2021-06-26 22:41:31</td>\n",
       "      <td>5412</td>\n",
       "      <td>Afyonkarahisar</td>\n",
       "      <td>Afyon</td>\n",
       "      <td>292611</td>\n",
       "      <td>138934</td>\n",
       "      <td>431545</td>\n",
       "      <td>736912</td>\n",
       "      <td>8</td>\n",
       "      <td>0</td>\n",
       "      <td>8</td>\n",
       "      <td>438023</td>\n",
       "    </tr>\n",
       "    <tr>\n",
       "      <th>3</th>\n",
       "      <td>438105</td>\n",
       "      <td>2021-06-26 22:41:31</td>\n",
       "      <td>5412</td>\n",
       "      <td>Ağrı</td>\n",
       "      <td>Agri</td>\n",
       "      <td>94807</td>\n",
       "      <td>41146</td>\n",
       "      <td>135953</td>\n",
       "      <td>535435</td>\n",
       "      <td>0</td>\n",
       "      <td>0</td>\n",
       "      <td>0</td>\n",
       "      <td>438024</td>\n",
       "    </tr>\n",
       "    <tr>\n",
       "      <th>4</th>\n",
       "      <td>438106</td>\n",
       "      <td>2021-06-26 22:41:31</td>\n",
       "      <td>5412</td>\n",
       "      <td>Aksaray</td>\n",
       "      <td>Aksaray</td>\n",
       "      <td>131889</td>\n",
       "      <td>62603</td>\n",
       "      <td>194492</td>\n",
       "      <td>423011</td>\n",
       "      <td>3</td>\n",
       "      <td>0</td>\n",
       "      <td>3</td>\n",
       "      <td>438025</td>\n",
       "    </tr>\n",
       "    <tr>\n",
       "      <th>...</th>\n",
       "      <td>...</td>\n",
       "      <td>...</td>\n",
       "      <td>...</td>\n",
       "      <td>...</td>\n",
       "      <td>...</td>\n",
       "      <td>...</td>\n",
       "      <td>...</td>\n",
       "      <td>...</td>\n",
       "      <td>...</td>\n",
       "      <td>...</td>\n",
       "      <td>...</td>\n",
       "      <td>...</td>\n",
       "      <td>...</td>\n",
       "    </tr>\n",
       "    <tr>\n",
       "      <th>76</th>\n",
       "      <td>438178</td>\n",
       "      <td>2021-06-26 22:41:31</td>\n",
       "      <td>5412</td>\n",
       "      <td>Uşak</td>\n",
       "      <td>Usak</td>\n",
       "      <td>169159</td>\n",
       "      <td>81055</td>\n",
       "      <td>250214</td>\n",
       "      <td>369433</td>\n",
       "      <td>6</td>\n",
       "      <td>0</td>\n",
       "      <td>6</td>\n",
       "      <td>438097</td>\n",
       "    </tr>\n",
       "    <tr>\n",
       "      <th>77</th>\n",
       "      <td>438179</td>\n",
       "      <td>2021-06-26 22:41:31</td>\n",
       "      <td>5412</td>\n",
       "      <td>Van</td>\n",
       "      <td>Van</td>\n",
       "      <td>236641</td>\n",
       "      <td>91208</td>\n",
       "      <td>327849</td>\n",
       "      <td>1149342</td>\n",
       "      <td>5</td>\n",
       "      <td>0</td>\n",
       "      <td>5</td>\n",
       "      <td>438098</td>\n",
       "    </tr>\n",
       "    <tr>\n",
       "      <th>78</th>\n",
       "      <td>438180</td>\n",
       "      <td>2021-06-26 22:41:31</td>\n",
       "      <td>5412</td>\n",
       "      <td>Yalova</td>\n",
       "      <td>Yalova</td>\n",
       "      <td>129888</td>\n",
       "      <td>65920</td>\n",
       "      <td>195808</td>\n",
       "      <td>276050</td>\n",
       "      <td>2</td>\n",
       "      <td>0</td>\n",
       "      <td>2</td>\n",
       "      <td>438099</td>\n",
       "    </tr>\n",
       "    <tr>\n",
       "      <th>79</th>\n",
       "      <td>438181</td>\n",
       "      <td>2021-06-26 22:41:31</td>\n",
       "      <td>5412</td>\n",
       "      <td>Yozgat</td>\n",
       "      <td>Yozgat</td>\n",
       "      <td>151825</td>\n",
       "      <td>81924</td>\n",
       "      <td>233749</td>\n",
       "      <td>419095</td>\n",
       "      <td>1</td>\n",
       "      <td>0</td>\n",
       "      <td>1</td>\n",
       "      <td>438100</td>\n",
       "    </tr>\n",
       "    <tr>\n",
       "      <th>80</th>\n",
       "      <td>438182</td>\n",
       "      <td>2021-06-26 22:41:31</td>\n",
       "      <td>5412</td>\n",
       "      <td>Zonguldak</td>\n",
       "      <td>Zonguldak</td>\n",
       "      <td>275433</td>\n",
       "      <td>139382</td>\n",
       "      <td>414815</td>\n",
       "      <td>591204</td>\n",
       "      <td>6</td>\n",
       "      <td>0</td>\n",
       "      <td>6</td>\n",
       "      <td>438101</td>\n",
       "    </tr>\n",
       "  </tbody>\n",
       "</table>\n",
       "<p>81 rows × 13 columns</p>\n",
       "</div>"
      ],
      "text/plain": [
       "        ID               DATE_  SEQID            CITY      CITY2  _1DOSE  \\\n",
       "0   438102 2021-06-26 22:41:31   5412           Adana      Adana  784464   \n",
       "1   438103 2021-06-26 22:41:31   5412        Adıyaman   Adiyaman  170847   \n",
       "2   438104 2021-06-26 22:41:31   5412  Afyonkarahisar      Afyon  292611   \n",
       "3   438105 2021-06-26 22:41:31   5412            Ağrı       Agri   94807   \n",
       "4   438106 2021-06-26 22:41:31   5412         Aksaray    Aksaray  131889   \n",
       "..     ...                 ...    ...             ...        ...     ...   \n",
       "76  438178 2021-06-26 22:41:31   5412            Uşak       Usak  169159   \n",
       "77  438179 2021-06-26 22:41:31   5412             Van        Van  236641   \n",
       "78  438180 2021-06-26 22:41:31   5412          Yalova     Yalova  129888   \n",
       "79  438181 2021-06-26 22:41:31   5412          Yozgat     Yozgat  151825   \n",
       "80  438182 2021-06-26 22:41:31   5412       Zonguldak  Zonguldak  275433   \n",
       "\n",
       "    _2DOSE   _TOTAL  POPULATION  DIFF_1DOSE  DIFF_2DOSE  DIFF_TOTAL  PREVID  \n",
       "0   355404  1139868     2258718          15           0          15  438021  \n",
       "1    77955   248802      632459           2           0           2  438022  \n",
       "2   138934   431545      736912           8           0           8  438023  \n",
       "3    41146   135953      535435           0           0           0  438024  \n",
       "4    62603   194492      423011           3           0           3  438025  \n",
       "..     ...      ...         ...         ...         ...         ...     ...  \n",
       "76   81055   250214      369433           6           0           6  438097  \n",
       "77   91208   327849     1149342           5           0           5  438098  \n",
       "78   65920   195808      276050           2           0           2  438099  \n",
       "79   81924   233749      419095           1           0           1  438100  \n",
       "80  139382   414815      591204           6           0           6  438101  \n",
       "\n",
       "[81 rows x 13 columns]"
      ]
     },
     "execution_count": 54,
     "metadata": {},
     "output_type": "execute_result"
    }
   ],
   "source": [
    "df"
   ]
  },
  {
   "cell_type": "code",
   "execution_count": 55,
   "metadata": {},
   "outputs": [
    {
     "data": {
      "text/html": [
       "<div>\n",
       "<style scoped>\n",
       "    .dataframe tbody tr th:only-of-type {\n",
       "        vertical-align: middle;\n",
       "    }\n",
       "\n",
       "    .dataframe tbody tr th {\n",
       "        vertical-align: top;\n",
       "    }\n",
       "\n",
       "    .dataframe thead th {\n",
       "        text-align: right;\n",
       "    }\n",
       "</style>\n",
       "<table border=\"1\" class=\"dataframe\">\n",
       "  <thead>\n",
       "    <tr style=\"text-align: right;\">\n",
       "      <th></th>\n",
       "      <th>ID</th>\n",
       "      <th>DATE_</th>\n",
       "      <th>SEQID</th>\n",
       "      <th>CITY</th>\n",
       "      <th>CITY2</th>\n",
       "      <th>_1DOSE</th>\n",
       "      <th>_2DOSE</th>\n",
       "      <th>_TOTAL</th>\n",
       "      <th>POPULATION</th>\n",
       "      <th>DIFF_1DOSE</th>\n",
       "      <th>DIFF_2DOSE</th>\n",
       "      <th>DIFF_TOTAL</th>\n",
       "      <th>PREVID</th>\n",
       "    </tr>\n",
       "  </thead>\n",
       "  <tbody>\n",
       "    <tr>\n",
       "      <th>0</th>\n",
       "      <td>438102</td>\n",
       "      <td>2021-06-26 22:41:31</td>\n",
       "      <td>5412</td>\n",
       "      <td>Adana</td>\n",
       "      <td>Adana</td>\n",
       "      <td>784464</td>\n",
       "      <td>355404</td>\n",
       "      <td>1139868</td>\n",
       "      <td>2258718</td>\n",
       "      <td>15</td>\n",
       "      <td>0</td>\n",
       "      <td>15</td>\n",
       "      <td>438021</td>\n",
       "    </tr>\n",
       "    <tr>\n",
       "      <th>1</th>\n",
       "      <td>438103</td>\n",
       "      <td>2021-06-26 22:41:31</td>\n",
       "      <td>5412</td>\n",
       "      <td>Adıyaman</td>\n",
       "      <td>Adiyaman</td>\n",
       "      <td>170847</td>\n",
       "      <td>77955</td>\n",
       "      <td>248802</td>\n",
       "      <td>632459</td>\n",
       "      <td>2</td>\n",
       "      <td>0</td>\n",
       "      <td>2</td>\n",
       "      <td>438022</td>\n",
       "    </tr>\n",
       "    <tr>\n",
       "      <th>2</th>\n",
       "      <td>438104</td>\n",
       "      <td>2021-06-26 22:41:31</td>\n",
       "      <td>5412</td>\n",
       "      <td>Afyonkarahisar</td>\n",
       "      <td>Afyon</td>\n",
       "      <td>292611</td>\n",
       "      <td>138934</td>\n",
       "      <td>431545</td>\n",
       "      <td>736912</td>\n",
       "      <td>8</td>\n",
       "      <td>0</td>\n",
       "      <td>8</td>\n",
       "      <td>438023</td>\n",
       "    </tr>\n",
       "    <tr>\n",
       "      <th>3</th>\n",
       "      <td>438105</td>\n",
       "      <td>2021-06-26 22:41:31</td>\n",
       "      <td>5412</td>\n",
       "      <td>Ağrı</td>\n",
       "      <td>Agri</td>\n",
       "      <td>94807</td>\n",
       "      <td>41146</td>\n",
       "      <td>135953</td>\n",
       "      <td>535435</td>\n",
       "      <td>0</td>\n",
       "      <td>0</td>\n",
       "      <td>0</td>\n",
       "      <td>438024</td>\n",
       "    </tr>\n",
       "    <tr>\n",
       "      <th>4</th>\n",
       "      <td>438106</td>\n",
       "      <td>2021-06-26 22:41:31</td>\n",
       "      <td>5412</td>\n",
       "      <td>Aksaray</td>\n",
       "      <td>Aksaray</td>\n",
       "      <td>131889</td>\n",
       "      <td>62603</td>\n",
       "      <td>194492</td>\n",
       "      <td>423011</td>\n",
       "      <td>3</td>\n",
       "      <td>0</td>\n",
       "      <td>3</td>\n",
       "      <td>438025</td>\n",
       "    </tr>\n",
       "    <tr>\n",
       "      <th>5</th>\n",
       "      <td>438107</td>\n",
       "      <td>2021-06-26 22:41:31</td>\n",
       "      <td>5412</td>\n",
       "      <td>Amasya</td>\n",
       "      <td>Amasya</td>\n",
       "      <td>169285</td>\n",
       "      <td>87322</td>\n",
       "      <td>256607</td>\n",
       "      <td>335494</td>\n",
       "      <td>1</td>\n",
       "      <td>0</td>\n",
       "      <td>1</td>\n",
       "      <td>438026</td>\n",
       "    </tr>\n",
       "    <tr>\n",
       "      <th>6</th>\n",
       "      <td>438108</td>\n",
       "      <td>2021-06-26 22:41:31</td>\n",
       "      <td>5412</td>\n",
       "      <td>Ankara</td>\n",
       "      <td>Ankara</td>\n",
       "      <td>2652085</td>\n",
       "      <td>1241906</td>\n",
       "      <td>3893991</td>\n",
       "      <td>5663322</td>\n",
       "      <td>91</td>\n",
       "      <td>6</td>\n",
       "      <td>97</td>\n",
       "      <td>438027</td>\n",
       "    </tr>\n",
       "    <tr>\n",
       "      <th>7</th>\n",
       "      <td>438109</td>\n",
       "      <td>2021-06-26 22:41:31</td>\n",
       "      <td>5412</td>\n",
       "      <td>Antalya</td>\n",
       "      <td>Antalya</td>\n",
       "      <td>1055350</td>\n",
       "      <td>530415</td>\n",
       "      <td>1585765</td>\n",
       "      <td>2548308</td>\n",
       "      <td>29</td>\n",
       "      <td>4</td>\n",
       "      <td>33</td>\n",
       "      <td>438028</td>\n",
       "    </tr>\n",
       "    <tr>\n",
       "      <th>8</th>\n",
       "      <td>438110</td>\n",
       "      <td>2021-06-26 22:41:31</td>\n",
       "      <td>5412</td>\n",
       "      <td>Ardahan</td>\n",
       "      <td>Ardahan</td>\n",
       "      <td>34629</td>\n",
       "      <td>18642</td>\n",
       "      <td>53271</td>\n",
       "      <td>96161</td>\n",
       "      <td>0</td>\n",
       "      <td>0</td>\n",
       "      <td>0</td>\n",
       "      <td>438029</td>\n",
       "    </tr>\n",
       "    <tr>\n",
       "      <th>9</th>\n",
       "      <td>438111</td>\n",
       "      <td>2021-06-26 22:41:31</td>\n",
       "      <td>5412</td>\n",
       "      <td>Artvin</td>\n",
       "      <td>Artvin</td>\n",
       "      <td>80554</td>\n",
       "      <td>43132</td>\n",
       "      <td>123686</td>\n",
       "      <td>169501</td>\n",
       "      <td>0</td>\n",
       "      <td>0</td>\n",
       "      <td>0</td>\n",
       "      <td>438030</td>\n",
       "    </tr>\n",
       "    <tr>\n",
       "      <th>10</th>\n",
       "      <td>438112</td>\n",
       "      <td>2021-06-26 22:41:31</td>\n",
       "      <td>5412</td>\n",
       "      <td>Aydın</td>\n",
       "      <td>Aydin</td>\n",
       "      <td>555807</td>\n",
       "      <td>293208</td>\n",
       "      <td>849015</td>\n",
       "      <td>1119084</td>\n",
       "      <td>10</td>\n",
       "      <td>0</td>\n",
       "      <td>10</td>\n",
       "      <td>438031</td>\n",
       "    </tr>\n",
       "    <tr>\n",
       "      <th>11</th>\n",
       "      <td>438113</td>\n",
       "      <td>2021-06-26 22:41:31</td>\n",
       "      <td>5412</td>\n",
       "      <td>Balıkesir</td>\n",
       "      <td>Balikesir</td>\n",
       "      <td>661424</td>\n",
       "      <td>359073</td>\n",
       "      <td>1020497</td>\n",
       "      <td>1240285</td>\n",
       "      <td>18</td>\n",
       "      <td>1</td>\n",
       "      <td>19</td>\n",
       "      <td>438032</td>\n",
       "    </tr>\n",
       "    <tr>\n",
       "      <th>12</th>\n",
       "      <td>438114</td>\n",
       "      <td>2021-06-26 22:41:31</td>\n",
       "      <td>5412</td>\n",
       "      <td>Bartın</td>\n",
       "      <td>Bartin</td>\n",
       "      <td>96816</td>\n",
       "      <td>49086</td>\n",
       "      <td>145902</td>\n",
       "      <td>198979</td>\n",
       "      <td>0</td>\n",
       "      <td>0</td>\n",
       "      <td>0</td>\n",
       "      <td>438033</td>\n",
       "    </tr>\n",
       "    <tr>\n",
       "      <th>13</th>\n",
       "      <td>438115</td>\n",
       "      <td>2021-06-26 22:41:31</td>\n",
       "      <td>5412</td>\n",
       "      <td>Batman</td>\n",
       "      <td>Batman</td>\n",
       "      <td>108989</td>\n",
       "      <td>48556</td>\n",
       "      <td>157545</td>\n",
       "      <td>620278</td>\n",
       "      <td>1</td>\n",
       "      <td>0</td>\n",
       "      <td>1</td>\n",
       "      <td>438034</td>\n",
       "    </tr>\n",
       "    <tr>\n",
       "      <th>14</th>\n",
       "      <td>438116</td>\n",
       "      <td>2021-06-26 22:41:31</td>\n",
       "      <td>5412</td>\n",
       "      <td>Bayburt</td>\n",
       "      <td>Bayburt</td>\n",
       "      <td>24128</td>\n",
       "      <td>13155</td>\n",
       "      <td>37283</td>\n",
       "      <td>81910</td>\n",
       "      <td>0</td>\n",
       "      <td>0</td>\n",
       "      <td>0</td>\n",
       "      <td>438035</td>\n",
       "    </tr>\n",
       "    <tr>\n",
       "      <th>15</th>\n",
       "      <td>438117</td>\n",
       "      <td>2021-06-26 22:41:31</td>\n",
       "      <td>5412</td>\n",
       "      <td>Bilecik</td>\n",
       "      <td>Bilecik</td>\n",
       "      <td>108385</td>\n",
       "      <td>49145</td>\n",
       "      <td>157530</td>\n",
       "      <td>218717</td>\n",
       "      <td>2</td>\n",
       "      <td>0</td>\n",
       "      <td>2</td>\n",
       "      <td>438036</td>\n",
       "    </tr>\n",
       "    <tr>\n",
       "      <th>16</th>\n",
       "      <td>438118</td>\n",
       "      <td>2021-06-26 22:41:31</td>\n",
       "      <td>5412</td>\n",
       "      <td>Bingöl</td>\n",
       "      <td>Bingol</td>\n",
       "      <td>57366</td>\n",
       "      <td>30771</td>\n",
       "      <td>88137</td>\n",
       "      <td>281768</td>\n",
       "      <td>1</td>\n",
       "      <td>0</td>\n",
       "      <td>1</td>\n",
       "      <td>438037</td>\n",
       "    </tr>\n",
       "    <tr>\n",
       "      <th>17</th>\n",
       "      <td>438119</td>\n",
       "      <td>2021-06-26 22:41:31</td>\n",
       "      <td>5412</td>\n",
       "      <td>Bitlis</td>\n",
       "      <td>Bitlis</td>\n",
       "      <td>51093</td>\n",
       "      <td>23726</td>\n",
       "      <td>74819</td>\n",
       "      <td>350994</td>\n",
       "      <td>0</td>\n",
       "      <td>0</td>\n",
       "      <td>0</td>\n",
       "      <td>438038</td>\n",
       "    </tr>\n",
       "    <tr>\n",
       "      <th>18</th>\n",
       "      <td>438120</td>\n",
       "      <td>2021-06-26 22:41:31</td>\n",
       "      <td>5412</td>\n",
       "      <td>Bolu</td>\n",
       "      <td>Bolu</td>\n",
       "      <td>151636</td>\n",
       "      <td>75911</td>\n",
       "      <td>227547</td>\n",
       "      <td>314802</td>\n",
       "      <td>4</td>\n",
       "      <td>0</td>\n",
       "      <td>4</td>\n",
       "      <td>438039</td>\n",
       "    </tr>\n",
       "    <tr>\n",
       "      <th>19</th>\n",
       "      <td>438121</td>\n",
       "      <td>2021-06-26 22:41:31</td>\n",
       "      <td>5412</td>\n",
       "      <td>Burdur</td>\n",
       "      <td>Burdur</td>\n",
       "      <td>128036</td>\n",
       "      <td>66955</td>\n",
       "      <td>194991</td>\n",
       "      <td>267092</td>\n",
       "      <td>2</td>\n",
       "      <td>0</td>\n",
       "      <td>2</td>\n",
       "      <td>438040</td>\n",
       "    </tr>\n",
       "  </tbody>\n",
       "</table>\n",
       "</div>"
      ],
      "text/plain": [
       "        ID               DATE_  SEQID            CITY      CITY2   _1DOSE  \\\n",
       "0   438102 2021-06-26 22:41:31   5412           Adana      Adana   784464   \n",
       "1   438103 2021-06-26 22:41:31   5412        Adıyaman   Adiyaman   170847   \n",
       "2   438104 2021-06-26 22:41:31   5412  Afyonkarahisar      Afyon   292611   \n",
       "3   438105 2021-06-26 22:41:31   5412            Ağrı       Agri    94807   \n",
       "4   438106 2021-06-26 22:41:31   5412         Aksaray    Aksaray   131889   \n",
       "5   438107 2021-06-26 22:41:31   5412          Amasya     Amasya   169285   \n",
       "6   438108 2021-06-26 22:41:31   5412          Ankara     Ankara  2652085   \n",
       "7   438109 2021-06-26 22:41:31   5412         Antalya    Antalya  1055350   \n",
       "8   438110 2021-06-26 22:41:31   5412         Ardahan    Ardahan    34629   \n",
       "9   438111 2021-06-26 22:41:31   5412          Artvin     Artvin    80554   \n",
       "10  438112 2021-06-26 22:41:31   5412           Aydın      Aydin   555807   \n",
       "11  438113 2021-06-26 22:41:31   5412       Balıkesir  Balikesir   661424   \n",
       "12  438114 2021-06-26 22:41:31   5412          Bartın     Bartin    96816   \n",
       "13  438115 2021-06-26 22:41:31   5412          Batman     Batman   108989   \n",
       "14  438116 2021-06-26 22:41:31   5412         Bayburt    Bayburt    24128   \n",
       "15  438117 2021-06-26 22:41:31   5412         Bilecik    Bilecik   108385   \n",
       "16  438118 2021-06-26 22:41:31   5412          Bingöl     Bingol    57366   \n",
       "17  438119 2021-06-26 22:41:31   5412          Bitlis     Bitlis    51093   \n",
       "18  438120 2021-06-26 22:41:31   5412            Bolu       Bolu   151636   \n",
       "19  438121 2021-06-26 22:41:31   5412          Burdur     Burdur   128036   \n",
       "\n",
       "     _2DOSE   _TOTAL  POPULATION  DIFF_1DOSE  DIFF_2DOSE  DIFF_TOTAL  PREVID  \n",
       "0    355404  1139868     2258718          15           0          15  438021  \n",
       "1     77955   248802      632459           2           0           2  438022  \n",
       "2    138934   431545      736912           8           0           8  438023  \n",
       "3     41146   135953      535435           0           0           0  438024  \n",
       "4     62603   194492      423011           3           0           3  438025  \n",
       "5     87322   256607      335494           1           0           1  438026  \n",
       "6   1241906  3893991     5663322          91           6          97  438027  \n",
       "7    530415  1585765     2548308          29           4          33  438028  \n",
       "8     18642    53271       96161           0           0           0  438029  \n",
       "9     43132   123686      169501           0           0           0  438030  \n",
       "10   293208   849015     1119084          10           0          10  438031  \n",
       "11   359073  1020497     1240285          18           1          19  438032  \n",
       "12    49086   145902      198979           0           0           0  438033  \n",
       "13    48556   157545      620278           1           0           1  438034  \n",
       "14    13155    37283       81910           0           0           0  438035  \n",
       "15    49145   157530      218717           2           0           2  438036  \n",
       "16    30771    88137      281768           1           0           1  438037  \n",
       "17    23726    74819      350994           0           0           0  438038  \n",
       "18    75911   227547      314802           4           0           4  438039  \n",
       "19    66955   194991      267092           2           0           2  438040  "
      ]
     },
     "execution_count": 55,
     "metadata": {},
     "output_type": "execute_result"
    }
   ],
   "source": [
    "df.head(20)"
   ]
  },
  {
   "cell_type": "code",
   "execution_count": 56,
   "metadata": {},
   "outputs": [],
   "source": [
    "df.drop(['SEQID'],axis=1,inplace=True) # axis = 1 column or vertical wise, inplace true means reflect changes in original df"
   ]
  },
  {
   "cell_type": "code",
   "execution_count": 58,
   "metadata": {},
   "outputs": [
    {
     "data": {
      "text/html": [
       "<div>\n",
       "<style scoped>\n",
       "    .dataframe tbody tr th:only-of-type {\n",
       "        vertical-align: middle;\n",
       "    }\n",
       "\n",
       "    .dataframe tbody tr th {\n",
       "        vertical-align: top;\n",
       "    }\n",
       "\n",
       "    .dataframe thead th {\n",
       "        text-align: right;\n",
       "    }\n",
       "</style>\n",
       "<table border=\"1\" class=\"dataframe\">\n",
       "  <thead>\n",
       "    <tr style=\"text-align: right;\">\n",
       "      <th></th>\n",
       "      <th>ID</th>\n",
       "      <th>DATE_</th>\n",
       "      <th>CITY</th>\n",
       "      <th>CITY2</th>\n",
       "      <th>_1DOSE</th>\n",
       "      <th>_2DOSE</th>\n",
       "      <th>_TOTAL</th>\n",
       "      <th>POPULATION</th>\n",
       "      <th>DIFF_1DOSE</th>\n",
       "      <th>DIFF_2DOSE</th>\n",
       "      <th>DIFF_TOTAL</th>\n",
       "      <th>PREVID</th>\n",
       "    </tr>\n",
       "  </thead>\n",
       "  <tbody>\n",
       "    <tr>\n",
       "      <th>0</th>\n",
       "      <td>438102</td>\n",
       "      <td>2021-06-26 22:41:31</td>\n",
       "      <td>Adana</td>\n",
       "      <td>Adana</td>\n",
       "      <td>784464</td>\n",
       "      <td>355404</td>\n",
       "      <td>1139868</td>\n",
       "      <td>2258718</td>\n",
       "      <td>15</td>\n",
       "      <td>0</td>\n",
       "      <td>15</td>\n",
       "      <td>438021</td>\n",
       "    </tr>\n",
       "    <tr>\n",
       "      <th>1</th>\n",
       "      <td>438103</td>\n",
       "      <td>2021-06-26 22:41:31</td>\n",
       "      <td>Adıyaman</td>\n",
       "      <td>Adiyaman</td>\n",
       "      <td>170847</td>\n",
       "      <td>77955</td>\n",
       "      <td>248802</td>\n",
       "      <td>632459</td>\n",
       "      <td>2</td>\n",
       "      <td>0</td>\n",
       "      <td>2</td>\n",
       "      <td>438022</td>\n",
       "    </tr>\n",
       "    <tr>\n",
       "      <th>2</th>\n",
       "      <td>438104</td>\n",
       "      <td>2021-06-26 22:41:31</td>\n",
       "      <td>Afyonkarahisar</td>\n",
       "      <td>Afyon</td>\n",
       "      <td>292611</td>\n",
       "      <td>138934</td>\n",
       "      <td>431545</td>\n",
       "      <td>736912</td>\n",
       "      <td>8</td>\n",
       "      <td>0</td>\n",
       "      <td>8</td>\n",
       "      <td>438023</td>\n",
       "    </tr>\n",
       "    <tr>\n",
       "      <th>3</th>\n",
       "      <td>438105</td>\n",
       "      <td>2021-06-26 22:41:31</td>\n",
       "      <td>Ağrı</td>\n",
       "      <td>Agri</td>\n",
       "      <td>94807</td>\n",
       "      <td>41146</td>\n",
       "      <td>135953</td>\n",
       "      <td>535435</td>\n",
       "      <td>0</td>\n",
       "      <td>0</td>\n",
       "      <td>0</td>\n",
       "      <td>438024</td>\n",
       "    </tr>\n",
       "    <tr>\n",
       "      <th>4</th>\n",
       "      <td>438106</td>\n",
       "      <td>2021-06-26 22:41:31</td>\n",
       "      <td>Aksaray</td>\n",
       "      <td>Aksaray</td>\n",
       "      <td>131889</td>\n",
       "      <td>62603</td>\n",
       "      <td>194492</td>\n",
       "      <td>423011</td>\n",
       "      <td>3</td>\n",
       "      <td>0</td>\n",
       "      <td>3</td>\n",
       "      <td>438025</td>\n",
       "    </tr>\n",
       "  </tbody>\n",
       "</table>\n",
       "</div>"
      ],
      "text/plain": [
       "       ID               DATE_            CITY     CITY2  _1DOSE  _2DOSE  \\\n",
       "0  438102 2021-06-26 22:41:31           Adana     Adana  784464  355404   \n",
       "1  438103 2021-06-26 22:41:31        Adıyaman  Adiyaman  170847   77955   \n",
       "2  438104 2021-06-26 22:41:31  Afyonkarahisar     Afyon  292611  138934   \n",
       "3  438105 2021-06-26 22:41:31            Ağrı      Agri   94807   41146   \n",
       "4  438106 2021-06-26 22:41:31         Aksaray   Aksaray  131889   62603   \n",
       "\n",
       "    _TOTAL  POPULATION  DIFF_1DOSE  DIFF_2DOSE  DIFF_TOTAL  PREVID  \n",
       "0  1139868     2258718          15           0          15  438021  \n",
       "1   248802      632459           2           0           2  438022  \n",
       "2   431545      736912           8           0           8  438023  \n",
       "3   135953      535435           0           0           0  438024  \n",
       "4   194492      423011           3           0           3  438025  "
      ]
     },
     "execution_count": 58,
     "metadata": {},
     "output_type": "execute_result"
    }
   ],
   "source": [
    "df.head(5)"
   ]
  },
  {
   "cell_type": "code",
   "execution_count": 59,
   "metadata": {},
   "outputs": [],
   "source": [
    "# renaming columns\n",
    "df.rename(columns={'DATE_':'Date','_1DOSE':'Dose1','_2DOSE':'Dose2','_TOTAL':'Total'},inplace=True)\n"
   ]
  },
  {
   "cell_type": "code",
   "execution_count": 60,
   "metadata": {},
   "outputs": [
    {
     "data": {
      "text/html": [
       "<div>\n",
       "<style scoped>\n",
       "    .dataframe tbody tr th:only-of-type {\n",
       "        vertical-align: middle;\n",
       "    }\n",
       "\n",
       "    .dataframe tbody tr th {\n",
       "        vertical-align: top;\n",
       "    }\n",
       "\n",
       "    .dataframe thead th {\n",
       "        text-align: right;\n",
       "    }\n",
       "</style>\n",
       "<table border=\"1\" class=\"dataframe\">\n",
       "  <thead>\n",
       "    <tr style=\"text-align: right;\">\n",
       "      <th></th>\n",
       "      <th>ID</th>\n",
       "      <th>Date</th>\n",
       "      <th>CITY</th>\n",
       "      <th>CITY2</th>\n",
       "      <th>Dose1</th>\n",
       "      <th>Dose2</th>\n",
       "      <th>Total</th>\n",
       "      <th>POPULATION</th>\n",
       "      <th>DIFF_1DOSE</th>\n",
       "      <th>DIFF_2DOSE</th>\n",
       "      <th>DIFF_TOTAL</th>\n",
       "      <th>PREVID</th>\n",
       "    </tr>\n",
       "  </thead>\n",
       "  <tbody>\n",
       "    <tr>\n",
       "      <th>0</th>\n",
       "      <td>438102</td>\n",
       "      <td>2021-06-26 22:41:31</td>\n",
       "      <td>Adana</td>\n",
       "      <td>Adana</td>\n",
       "      <td>784464</td>\n",
       "      <td>355404</td>\n",
       "      <td>1139868</td>\n",
       "      <td>2258718</td>\n",
       "      <td>15</td>\n",
       "      <td>0</td>\n",
       "      <td>15</td>\n",
       "      <td>438021</td>\n",
       "    </tr>\n",
       "    <tr>\n",
       "      <th>1</th>\n",
       "      <td>438103</td>\n",
       "      <td>2021-06-26 22:41:31</td>\n",
       "      <td>Adıyaman</td>\n",
       "      <td>Adiyaman</td>\n",
       "      <td>170847</td>\n",
       "      <td>77955</td>\n",
       "      <td>248802</td>\n",
       "      <td>632459</td>\n",
       "      <td>2</td>\n",
       "      <td>0</td>\n",
       "      <td>2</td>\n",
       "      <td>438022</td>\n",
       "    </tr>\n",
       "    <tr>\n",
       "      <th>2</th>\n",
       "      <td>438104</td>\n",
       "      <td>2021-06-26 22:41:31</td>\n",
       "      <td>Afyonkarahisar</td>\n",
       "      <td>Afyon</td>\n",
       "      <td>292611</td>\n",
       "      <td>138934</td>\n",
       "      <td>431545</td>\n",
       "      <td>736912</td>\n",
       "      <td>8</td>\n",
       "      <td>0</td>\n",
       "      <td>8</td>\n",
       "      <td>438023</td>\n",
       "    </tr>\n",
       "    <tr>\n",
       "      <th>3</th>\n",
       "      <td>438105</td>\n",
       "      <td>2021-06-26 22:41:31</td>\n",
       "      <td>Ağrı</td>\n",
       "      <td>Agri</td>\n",
       "      <td>94807</td>\n",
       "      <td>41146</td>\n",
       "      <td>135953</td>\n",
       "      <td>535435</td>\n",
       "      <td>0</td>\n",
       "      <td>0</td>\n",
       "      <td>0</td>\n",
       "      <td>438024</td>\n",
       "    </tr>\n",
       "    <tr>\n",
       "      <th>4</th>\n",
       "      <td>438106</td>\n",
       "      <td>2021-06-26 22:41:31</td>\n",
       "      <td>Aksaray</td>\n",
       "      <td>Aksaray</td>\n",
       "      <td>131889</td>\n",
       "      <td>62603</td>\n",
       "      <td>194492</td>\n",
       "      <td>423011</td>\n",
       "      <td>3</td>\n",
       "      <td>0</td>\n",
       "      <td>3</td>\n",
       "      <td>438025</td>\n",
       "    </tr>\n",
       "  </tbody>\n",
       "</table>\n",
       "</div>"
      ],
      "text/plain": [
       "       ID                Date            CITY     CITY2   Dose1   Dose2  \\\n",
       "0  438102 2021-06-26 22:41:31           Adana     Adana  784464  355404   \n",
       "1  438103 2021-06-26 22:41:31        Adıyaman  Adiyaman  170847   77955   \n",
       "2  438104 2021-06-26 22:41:31  Afyonkarahisar     Afyon  292611  138934   \n",
       "3  438105 2021-06-26 22:41:31            Ağrı      Agri   94807   41146   \n",
       "4  438106 2021-06-26 22:41:31         Aksaray   Aksaray  131889   62603   \n",
       "\n",
       "     Total  POPULATION  DIFF_1DOSE  DIFF_2DOSE  DIFF_TOTAL  PREVID  \n",
       "0  1139868     2258718          15           0          15  438021  \n",
       "1   248802      632459           2           0           2  438022  \n",
       "2   431545      736912           8           0           8  438023  \n",
       "3   135953      535435           0           0           0  438024  \n",
       "4   194492      423011           3           0           3  438025  "
      ]
     },
     "execution_count": 60,
     "metadata": {},
     "output_type": "execute_result"
    }
   ],
   "source": [
    "df.head(5)"
   ]
  },
  {
   "cell_type": "code",
   "execution_count": 61,
   "metadata": {},
   "outputs": [
    {
     "data": {
      "text/html": [
       "<div>\n",
       "<style scoped>\n",
       "    .dataframe tbody tr th:only-of-type {\n",
       "        vertical-align: middle;\n",
       "    }\n",
       "\n",
       "    .dataframe tbody tr th {\n",
       "        vertical-align: top;\n",
       "    }\n",
       "\n",
       "    .dataframe thead th {\n",
       "        text-align: right;\n",
       "    }\n",
       "</style>\n",
       "<table border=\"1\" class=\"dataframe\">\n",
       "  <thead>\n",
       "    <tr style=\"text-align: right;\">\n",
       "      <th></th>\n",
       "      <th>ID</th>\n",
       "      <th>Date</th>\n",
       "      <th>CITY</th>\n",
       "      <th>CITY2</th>\n",
       "      <th>Dose1</th>\n",
       "      <th>Dose2</th>\n",
       "      <th>Total</th>\n",
       "      <th>POPULATION</th>\n",
       "      <th>DIFF_1DOSE</th>\n",
       "      <th>DIFF_2DOSE</th>\n",
       "      <th>DIFF_TOTAL</th>\n",
       "      <th>PREVID</th>\n",
       "    </tr>\n",
       "  </thead>\n",
       "  <tbody>\n",
       "    <tr>\n",
       "      <th>0</th>\n",
       "      <td>438102</td>\n",
       "      <td>2021-06-26 22:41:31</td>\n",
       "      <td>Adana</td>\n",
       "      <td>Adana</td>\n",
       "      <td>784464</td>\n",
       "      <td>355404</td>\n",
       "      <td>1139868</td>\n",
       "      <td>2258718</td>\n",
       "      <td>15</td>\n",
       "      <td>0</td>\n",
       "      <td>15</td>\n",
       "      <td>438021</td>\n",
       "    </tr>\n",
       "    <tr>\n",
       "      <th>1</th>\n",
       "      <td>438103</td>\n",
       "      <td>2021-06-26 22:41:31</td>\n",
       "      <td>Adıyaman</td>\n",
       "      <td>Adiyaman</td>\n",
       "      <td>170847</td>\n",
       "      <td>77955</td>\n",
       "      <td>248802</td>\n",
       "      <td>632459</td>\n",
       "      <td>2</td>\n",
       "      <td>0</td>\n",
       "      <td>2</td>\n",
       "      <td>438022</td>\n",
       "    </tr>\n",
       "    <tr>\n",
       "      <th>2</th>\n",
       "      <td>438104</td>\n",
       "      <td>2021-06-26 22:41:31</td>\n",
       "      <td>Afyonkarahisar</td>\n",
       "      <td>Afyon</td>\n",
       "      <td>292611</td>\n",
       "      <td>138934</td>\n",
       "      <td>431545</td>\n",
       "      <td>736912</td>\n",
       "      <td>8</td>\n",
       "      <td>0</td>\n",
       "      <td>8</td>\n",
       "      <td>438023</td>\n",
       "    </tr>\n",
       "    <tr>\n",
       "      <th>3</th>\n",
       "      <td>438105</td>\n",
       "      <td>2021-06-26 22:41:31</td>\n",
       "      <td>Ağrı</td>\n",
       "      <td>Agri</td>\n",
       "      <td>94807</td>\n",
       "      <td>41146</td>\n",
       "      <td>135953</td>\n",
       "      <td>535435</td>\n",
       "      <td>0</td>\n",
       "      <td>0</td>\n",
       "      <td>0</td>\n",
       "      <td>438024</td>\n",
       "    </tr>\n",
       "    <tr>\n",
       "      <th>4</th>\n",
       "      <td>438106</td>\n",
       "      <td>2021-06-26 22:41:31</td>\n",
       "      <td>Aksaray</td>\n",
       "      <td>Aksaray</td>\n",
       "      <td>131889</td>\n",
       "      <td>62603</td>\n",
       "      <td>194492</td>\n",
       "      <td>423011</td>\n",
       "      <td>3</td>\n",
       "      <td>0</td>\n",
       "      <td>3</td>\n",
       "      <td>438025</td>\n",
       "    </tr>\n",
       "  </tbody>\n",
       "</table>\n",
       "</div>"
      ],
      "text/plain": [
       "       ID                Date            CITY     CITY2   Dose1   Dose2  \\\n",
       "0  438102 2021-06-26 22:41:31           Adana     Adana  784464  355404   \n",
       "1  438103 2021-06-26 22:41:31        Adıyaman  Adiyaman  170847   77955   \n",
       "2  438104 2021-06-26 22:41:31  Afyonkarahisar     Afyon  292611  138934   \n",
       "3  438105 2021-06-26 22:41:31            Ağrı      Agri   94807   41146   \n",
       "4  438106 2021-06-26 22:41:31         Aksaray   Aksaray  131889   62603   \n",
       "\n",
       "     Total  POPULATION  DIFF_1DOSE  DIFF_2DOSE  DIFF_TOTAL  PREVID  \n",
       "0  1139868     2258718          15           0          15  438021  \n",
       "1   248802      632459           2           0           2  438022  \n",
       "2   431545      736912           8           0           8  438023  \n",
       "3   135953      535435           0           0           0  438024  \n",
       "4   194492      423011           3           0           3  438025  "
      ]
     },
     "execution_count": 61,
     "metadata": {},
     "output_type": "execute_result"
    }
   ],
   "source": [
    "df['Date'] = pd.to_datetime(df['Date']) # its same according to data\n",
    "df.head(5)"
   ]
  },
  {
   "cell_type": "code",
   "execution_count": 62,
   "metadata": {},
   "outputs": [
    {
     "data": {
      "text/html": [
       "<div>\n",
       "<style scoped>\n",
       "    .dataframe tbody tr th:only-of-type {\n",
       "        vertical-align: middle;\n",
       "    }\n",
       "\n",
       "    .dataframe tbody tr th {\n",
       "        vertical-align: top;\n",
       "    }\n",
       "\n",
       "    .dataframe thead th {\n",
       "        text-align: right;\n",
       "    }\n",
       "</style>\n",
       "<table border=\"1\" class=\"dataframe\">\n",
       "  <thead>\n",
       "    <tr style=\"text-align: right;\">\n",
       "      <th></th>\n",
       "      <th>ID</th>\n",
       "      <th>Dose1</th>\n",
       "      <th>Dose2</th>\n",
       "      <th>Total</th>\n",
       "      <th>POPULATION</th>\n",
       "      <th>DIFF_1DOSE</th>\n",
       "      <th>DIFF_2DOSE</th>\n",
       "      <th>DIFF_TOTAL</th>\n",
       "      <th>PREVID</th>\n",
       "    </tr>\n",
       "  </thead>\n",
       "  <tbody>\n",
       "    <tr>\n",
       "      <th>count</th>\n",
       "      <td>81.000000</td>\n",
       "      <td>8.100000e+01</td>\n",
       "      <td>8.100000e+01</td>\n",
       "      <td>8.100000e+01</td>\n",
       "      <td>8.100000e+01</td>\n",
       "      <td>81.000000</td>\n",
       "      <td>81.000000</td>\n",
       "      <td>81.000000</td>\n",
       "      <td>81.000000</td>\n",
       "    </tr>\n",
       "    <tr>\n",
       "      <th>mean</th>\n",
       "      <td>438142.000000</td>\n",
       "      <td>3.965429e+05</td>\n",
       "      <td>1.828914e+05</td>\n",
       "      <td>5.794343e+05</td>\n",
       "      <td>1.032276e+06</td>\n",
       "      <td>8.407407</td>\n",
       "      <td>0.493827</td>\n",
       "      <td>8.901235</td>\n",
       "      <td>438061.000000</td>\n",
       "    </tr>\n",
       "    <tr>\n",
       "      <th>std</th>\n",
       "      <td>23.526581</td>\n",
       "      <td>7.727379e+05</td>\n",
       "      <td>3.171276e+05</td>\n",
       "      <td>1.088717e+06</td>\n",
       "      <td>1.872576e+06</td>\n",
       "      <td>24.283110</td>\n",
       "      <td>1.574194</td>\n",
       "      <td>25.764610</td>\n",
       "      <td>23.526581</td>\n",
       "    </tr>\n",
       "    <tr>\n",
       "      <th>min</th>\n",
       "      <td>438102.000000</td>\n",
       "      <td>2.412800e+04</td>\n",
       "      <td>1.315500e+04</td>\n",
       "      <td>3.728300e+04</td>\n",
       "      <td>8.191000e+04</td>\n",
       "      <td>0.000000</td>\n",
       "      <td>0.000000</td>\n",
       "      <td>0.000000</td>\n",
       "      <td>438021.000000</td>\n",
       "    </tr>\n",
       "    <tr>\n",
       "      <th>25%</th>\n",
       "      <td>438122.000000</td>\n",
       "      <td>1.069900e+05</td>\n",
       "      <td>4.914500e+04</td>\n",
       "      <td>1.575450e+05</td>\n",
       "      <td>2.849230e+05</td>\n",
       "      <td>0.000000</td>\n",
       "      <td>0.000000</td>\n",
       "      <td>0.000000</td>\n",
       "      <td>438041.000000</td>\n",
       "    </tr>\n",
       "    <tr>\n",
       "      <th>50%</th>\n",
       "      <td>438142.000000</td>\n",
       "      <td>1.976310e+05</td>\n",
       "      <td>9.889600e+04</td>\n",
       "      <td>2.940100e+05</td>\n",
       "      <td>5.377620e+05</td>\n",
       "      <td>1.000000</td>\n",
       "      <td>0.000000</td>\n",
       "      <td>1.000000</td>\n",
       "      <td>438061.000000</td>\n",
       "    </tr>\n",
       "    <tr>\n",
       "      <th>75%</th>\n",
       "      <td>438162.000000</td>\n",
       "      <td>3.955820e+05</td>\n",
       "      <td>1.871380e+05</td>\n",
       "      <td>5.805240e+05</td>\n",
       "      <td>1.081065e+06</td>\n",
       "      <td>6.000000</td>\n",
       "      <td>0.000000</td>\n",
       "      <td>6.000000</td>\n",
       "      <td>438081.000000</td>\n",
       "    </tr>\n",
       "    <tr>\n",
       "      <th>max</th>\n",
       "      <td>438182.000000</td>\n",
       "      <td>6.197550e+06</td>\n",
       "      <td>2.419591e+06</td>\n",
       "      <td>8.617141e+06</td>\n",
       "      <td>1.546245e+07</td>\n",
       "      <td>193.000000</td>\n",
       "      <td>11.000000</td>\n",
       "      <td>204.000000</td>\n",
       "      <td>438101.000000</td>\n",
       "    </tr>\n",
       "  </tbody>\n",
       "</table>\n",
       "</div>"
      ],
      "text/plain": [
       "                  ID         Dose1         Dose2         Total    POPULATION  \\\n",
       "count      81.000000  8.100000e+01  8.100000e+01  8.100000e+01  8.100000e+01   \n",
       "mean   438142.000000  3.965429e+05  1.828914e+05  5.794343e+05  1.032276e+06   \n",
       "std        23.526581  7.727379e+05  3.171276e+05  1.088717e+06  1.872576e+06   \n",
       "min    438102.000000  2.412800e+04  1.315500e+04  3.728300e+04  8.191000e+04   \n",
       "25%    438122.000000  1.069900e+05  4.914500e+04  1.575450e+05  2.849230e+05   \n",
       "50%    438142.000000  1.976310e+05  9.889600e+04  2.940100e+05  5.377620e+05   \n",
       "75%    438162.000000  3.955820e+05  1.871380e+05  5.805240e+05  1.081065e+06   \n",
       "max    438182.000000  6.197550e+06  2.419591e+06  8.617141e+06  1.546245e+07   \n",
       "\n",
       "       DIFF_1DOSE  DIFF_2DOSE  DIFF_TOTAL         PREVID  \n",
       "count   81.000000   81.000000   81.000000      81.000000  \n",
       "mean     8.407407    0.493827    8.901235  438061.000000  \n",
       "std     24.283110    1.574194   25.764610      23.526581  \n",
       "min      0.000000    0.000000    0.000000  438021.000000  \n",
       "25%      0.000000    0.000000    0.000000  438041.000000  \n",
       "50%      1.000000    0.000000    1.000000  438061.000000  \n",
       "75%      6.000000    0.000000    6.000000  438081.000000  \n",
       "max    193.000000   11.000000  204.000000  438101.000000  "
      ]
     },
     "execution_count": 62,
     "metadata": {},
     "output_type": "execute_result"
    }
   ],
   "source": [
    "df.describe()"
   ]
  },
  {
   "cell_type": "code",
   "execution_count": 63,
   "metadata": {},
   "outputs": [
    {
     "name": "stdout",
     "output_type": "stream",
     "text": [
      "<class 'pandas.core.frame.DataFrame'>\n",
      "RangeIndex: 81 entries, 0 to 80\n",
      "Data columns (total 12 columns):\n",
      " #   Column      Non-Null Count  Dtype         \n",
      "---  ------      --------------  -----         \n",
      " 0   ID          81 non-null     int64         \n",
      " 1   Date        81 non-null     datetime64[ns]\n",
      " 2   CITY        81 non-null     object        \n",
      " 3   CITY2       81 non-null     object        \n",
      " 4   Dose1       81 non-null     int64         \n",
      " 5   Dose2       81 non-null     int64         \n",
      " 6   Total       81 non-null     int64         \n",
      " 7   POPULATION  81 non-null     int64         \n",
      " 8   DIFF_1DOSE  81 non-null     int64         \n",
      " 9   DIFF_2DOSE  81 non-null     int64         \n",
      " 10  DIFF_TOTAL  81 non-null     int64         \n",
      " 11  PREVID      81 non-null     int64         \n",
      "dtypes: datetime64[ns](1), int64(9), object(2)\n",
      "memory usage: 7.7+ KB\n"
     ]
    }
   ],
   "source": [
    "df.info() # 81 by 81 all entries are filled "
   ]
  },
  {
   "cell_type": "code",
   "execution_count": 65,
   "metadata": {},
   "outputs": [
    {
     "ename": "TypeError",
     "evalue": "invalid type promotion",
     "output_type": "error",
     "traceback": [
      "\u001b[1;31m---------------------------------------------------------------------------\u001b[0m",
      "\u001b[1;31mTypeError\u001b[0m                                 Traceback (most recent call last)",
      "\u001b[1;32m<ipython-input-65-1816eca44690>\u001b[0m in \u001b[0;36m<module>\u001b[1;34m\u001b[0m\n\u001b[0;32m      3\u001b[0m \u001b[1;33m\u001b[0m\u001b[0m\n\u001b[0;32m      4\u001b[0m \u001b[0mimputer\u001b[0m \u001b[1;33m=\u001b[0m \u001b[0mSimpleImputer\u001b[0m\u001b[1;33m(\u001b[0m\u001b[0mstrategy\u001b[0m\u001b[1;33m=\u001b[0m\u001b[1;34m'constant'\u001b[0m\u001b[1;33m)\u001b[0m\u001b[1;33m\u001b[0m\u001b[1;33m\u001b[0m\u001b[0m\n\u001b[1;32m----> 5\u001b[1;33m \u001b[0mdf2\u001b[0m \u001b[1;33m=\u001b[0m \u001b[0mpd\u001b[0m\u001b[1;33m.\u001b[0m\u001b[0mDataFrame\u001b[0m\u001b[1;33m(\u001b[0m\u001b[0mimputer\u001b[0m\u001b[1;33m.\u001b[0m\u001b[0mfit_transform\u001b[0m\u001b[1;33m(\u001b[0m\u001b[0mdf\u001b[0m\u001b[1;33m)\u001b[0m\u001b[1;33m,\u001b[0m\u001b[0mcolumns\u001b[0m\u001b[1;33m=\u001b[0m\u001b[0mdf\u001b[0m\u001b[1;33m.\u001b[0m\u001b[0mcolumns\u001b[0m\u001b[1;33m)\u001b[0m\u001b[1;33m\u001b[0m\u001b[1;33m\u001b[0m\u001b[0m\n\u001b[0m",
      "\u001b[1;32mC:\\ProgramData\\Anaconda3\\lib\\site-packages\\sklearn\\base.py\u001b[0m in \u001b[0;36mfit_transform\u001b[1;34m(self, X, y, **fit_params)\u001b[0m\n\u001b[0;32m    688\u001b[0m         \u001b[1;32mif\u001b[0m \u001b[0my\u001b[0m \u001b[1;32mis\u001b[0m \u001b[1;32mNone\u001b[0m\u001b[1;33m:\u001b[0m\u001b[1;33m\u001b[0m\u001b[1;33m\u001b[0m\u001b[0m\n\u001b[0;32m    689\u001b[0m             \u001b[1;31m# fit method of arity 1 (unsupervised transformation)\u001b[0m\u001b[1;33m\u001b[0m\u001b[1;33m\u001b[0m\u001b[1;33m\u001b[0m\u001b[0m\n\u001b[1;32m--> 690\u001b[1;33m             \u001b[1;32mreturn\u001b[0m \u001b[0mself\u001b[0m\u001b[1;33m.\u001b[0m\u001b[0mfit\u001b[0m\u001b[1;33m(\u001b[0m\u001b[0mX\u001b[0m\u001b[1;33m,\u001b[0m \u001b[1;33m**\u001b[0m\u001b[0mfit_params\u001b[0m\u001b[1;33m)\u001b[0m\u001b[1;33m.\u001b[0m\u001b[0mtransform\u001b[0m\u001b[1;33m(\u001b[0m\u001b[0mX\u001b[0m\u001b[1;33m)\u001b[0m\u001b[1;33m\u001b[0m\u001b[1;33m\u001b[0m\u001b[0m\n\u001b[0m\u001b[0;32m    691\u001b[0m         \u001b[1;32melse\u001b[0m\u001b[1;33m:\u001b[0m\u001b[1;33m\u001b[0m\u001b[1;33m\u001b[0m\u001b[0m\n\u001b[0;32m    692\u001b[0m             \u001b[1;31m# fit method of arity 2 (supervised transformation)\u001b[0m\u001b[1;33m\u001b[0m\u001b[1;33m\u001b[0m\u001b[1;33m\u001b[0m\u001b[0m\n",
      "\u001b[1;32mC:\\ProgramData\\Anaconda3\\lib\\site-packages\\sklearn\\impute\\_base.py\u001b[0m in \u001b[0;36mfit\u001b[1;34m(self, X, y)\u001b[0m\n\u001b[0;32m    275\u001b[0m         \u001b[0mself\u001b[0m \u001b[1;33m:\u001b[0m \u001b[0mSimpleImputer\u001b[0m\u001b[1;33m\u001b[0m\u001b[1;33m\u001b[0m\u001b[0m\n\u001b[0;32m    276\u001b[0m         \"\"\"\n\u001b[1;32m--> 277\u001b[1;33m         \u001b[0mX\u001b[0m \u001b[1;33m=\u001b[0m \u001b[0mself\u001b[0m\u001b[1;33m.\u001b[0m\u001b[0m_validate_input\u001b[0m\u001b[1;33m(\u001b[0m\u001b[0mX\u001b[0m\u001b[1;33m,\u001b[0m \u001b[0min_fit\u001b[0m\u001b[1;33m=\u001b[0m\u001b[1;32mTrue\u001b[0m\u001b[1;33m)\u001b[0m\u001b[1;33m\u001b[0m\u001b[1;33m\u001b[0m\u001b[0m\n\u001b[0m\u001b[0;32m    278\u001b[0m         \u001b[0msuper\u001b[0m\u001b[1;33m(\u001b[0m\u001b[1;33m)\u001b[0m\u001b[1;33m.\u001b[0m\u001b[0m_fit_indicator\u001b[0m\u001b[1;33m(\u001b[0m\u001b[0mX\u001b[0m\u001b[1;33m)\u001b[0m\u001b[1;33m\u001b[0m\u001b[1;33m\u001b[0m\u001b[0m\n\u001b[0;32m    279\u001b[0m \u001b[1;33m\u001b[0m\u001b[0m\n",
      "\u001b[1;32mC:\\ProgramData\\Anaconda3\\lib\\site-packages\\sklearn\\impute\\_base.py\u001b[0m in \u001b[0;36m_validate_input\u001b[1;34m(self, X, in_fit)\u001b[0m\n\u001b[0;32m    239\u001b[0m \u001b[1;33m\u001b[0m\u001b[0m\n\u001b[0;32m    240\u001b[0m         \u001b[1;32mtry\u001b[0m\u001b[1;33m:\u001b[0m\u001b[1;33m\u001b[0m\u001b[1;33m\u001b[0m\u001b[0m\n\u001b[1;32m--> 241\u001b[1;33m             X = self._validate_data(X, reset=in_fit,\n\u001b[0m\u001b[0;32m    242\u001b[0m                                     \u001b[0maccept_sparse\u001b[0m\u001b[1;33m=\u001b[0m\u001b[1;34m'csc'\u001b[0m\u001b[1;33m,\u001b[0m \u001b[0mdtype\u001b[0m\u001b[1;33m=\u001b[0m\u001b[0mdtype\u001b[0m\u001b[1;33m,\u001b[0m\u001b[1;33m\u001b[0m\u001b[1;33m\u001b[0m\u001b[0m\n\u001b[0;32m    243\u001b[0m                                     \u001b[0mforce_all_finite\u001b[0m\u001b[1;33m=\u001b[0m\u001b[0mforce_all_finite\u001b[0m\u001b[1;33m,\u001b[0m\u001b[1;33m\u001b[0m\u001b[1;33m\u001b[0m\u001b[0m\n",
      "\u001b[1;32mC:\\ProgramData\\Anaconda3\\lib\\site-packages\\sklearn\\base.py\u001b[0m in \u001b[0;36m_validate_data\u001b[1;34m(self, X, y, reset, validate_separately, **check_params)\u001b[0m\n\u001b[0;32m    418\u001b[0m                     \u001b[1;34mf\"requires y to be passed, but the target y is None.\"\u001b[0m\u001b[1;33m\u001b[0m\u001b[1;33m\u001b[0m\u001b[0m\n\u001b[0;32m    419\u001b[0m                 )\n\u001b[1;32m--> 420\u001b[1;33m             \u001b[0mX\u001b[0m \u001b[1;33m=\u001b[0m \u001b[0mcheck_array\u001b[0m\u001b[1;33m(\u001b[0m\u001b[0mX\u001b[0m\u001b[1;33m,\u001b[0m \u001b[1;33m**\u001b[0m\u001b[0mcheck_params\u001b[0m\u001b[1;33m)\u001b[0m\u001b[1;33m\u001b[0m\u001b[1;33m\u001b[0m\u001b[0m\n\u001b[0m\u001b[0;32m    421\u001b[0m             \u001b[0mout\u001b[0m \u001b[1;33m=\u001b[0m \u001b[0mX\u001b[0m\u001b[1;33m\u001b[0m\u001b[1;33m\u001b[0m\u001b[0m\n\u001b[0;32m    422\u001b[0m         \u001b[1;32melse\u001b[0m\u001b[1;33m:\u001b[0m\u001b[1;33m\u001b[0m\u001b[1;33m\u001b[0m\u001b[0m\n",
      "\u001b[1;32mC:\\ProgramData\\Anaconda3\\lib\\site-packages\\sklearn\\utils\\validation.py\u001b[0m in \u001b[0;36minner_f\u001b[1;34m(*args, **kwargs)\u001b[0m\n\u001b[0;32m     71\u001b[0m                           FutureWarning)\n\u001b[0;32m     72\u001b[0m         \u001b[0mkwargs\u001b[0m\u001b[1;33m.\u001b[0m\u001b[0mupdate\u001b[0m\u001b[1;33m(\u001b[0m\u001b[1;33m{\u001b[0m\u001b[0mk\u001b[0m\u001b[1;33m:\u001b[0m \u001b[0marg\u001b[0m \u001b[1;32mfor\u001b[0m \u001b[0mk\u001b[0m\u001b[1;33m,\u001b[0m \u001b[0marg\u001b[0m \u001b[1;32min\u001b[0m \u001b[0mzip\u001b[0m\u001b[1;33m(\u001b[0m\u001b[0msig\u001b[0m\u001b[1;33m.\u001b[0m\u001b[0mparameters\u001b[0m\u001b[1;33m,\u001b[0m \u001b[0margs\u001b[0m\u001b[1;33m)\u001b[0m\u001b[1;33m}\u001b[0m\u001b[1;33m)\u001b[0m\u001b[1;33m\u001b[0m\u001b[1;33m\u001b[0m\u001b[0m\n\u001b[1;32m---> 73\u001b[1;33m         \u001b[1;32mreturn\u001b[0m \u001b[0mf\u001b[0m\u001b[1;33m(\u001b[0m\u001b[1;33m**\u001b[0m\u001b[0mkwargs\u001b[0m\u001b[1;33m)\u001b[0m\u001b[1;33m\u001b[0m\u001b[1;33m\u001b[0m\u001b[0m\n\u001b[0m\u001b[0;32m     74\u001b[0m     \u001b[1;32mreturn\u001b[0m \u001b[0minner_f\u001b[0m\u001b[1;33m\u001b[0m\u001b[1;33m\u001b[0m\u001b[0m\n\u001b[0;32m     75\u001b[0m \u001b[1;33m\u001b[0m\u001b[0m\n",
      "\u001b[1;32mC:\\ProgramData\\Anaconda3\\lib\\site-packages\\sklearn\\utils\\validation.py\u001b[0m in \u001b[0;36mcheck_array\u001b[1;34m(array, accept_sparse, accept_large_sparse, dtype, order, copy, force_all_finite, ensure_2d, allow_nd, ensure_min_samples, ensure_min_features, estimator)\u001b[0m\n\u001b[0;32m    532\u001b[0m \u001b[1;33m\u001b[0m\u001b[0m\n\u001b[0;32m    533\u001b[0m         \u001b[1;32mif\u001b[0m \u001b[0mall\u001b[0m\u001b[1;33m(\u001b[0m\u001b[0misinstance\u001b[0m\u001b[1;33m(\u001b[0m\u001b[0mdtype\u001b[0m\u001b[1;33m,\u001b[0m \u001b[0mnp\u001b[0m\u001b[1;33m.\u001b[0m\u001b[0mdtype\u001b[0m\u001b[1;33m)\u001b[0m \u001b[1;32mfor\u001b[0m \u001b[0mdtype\u001b[0m \u001b[1;32min\u001b[0m \u001b[0mdtypes_orig\u001b[0m\u001b[1;33m)\u001b[0m\u001b[1;33m:\u001b[0m\u001b[1;33m\u001b[0m\u001b[1;33m\u001b[0m\u001b[0m\n\u001b[1;32m--> 534\u001b[1;33m             \u001b[0mdtype_orig\u001b[0m \u001b[1;33m=\u001b[0m \u001b[0mnp\u001b[0m\u001b[1;33m.\u001b[0m\u001b[0mresult_type\u001b[0m\u001b[1;33m(\u001b[0m\u001b[1;33m*\u001b[0m\u001b[0mdtypes_orig\u001b[0m\u001b[1;33m)\u001b[0m\u001b[1;33m\u001b[0m\u001b[1;33m\u001b[0m\u001b[0m\n\u001b[0m\u001b[0;32m    535\u001b[0m \u001b[1;33m\u001b[0m\u001b[0m\n\u001b[0;32m    536\u001b[0m     \u001b[1;32mif\u001b[0m \u001b[0mdtype_numeric\u001b[0m\u001b[1;33m:\u001b[0m\u001b[1;33m\u001b[0m\u001b[1;33m\u001b[0m\u001b[0m\n",
      "\u001b[1;32m<__array_function__ internals>\u001b[0m in \u001b[0;36mresult_type\u001b[1;34m(*args, **kwargs)\u001b[0m\n",
      "\u001b[1;31mTypeError\u001b[0m: invalid type promotion"
     ]
    }
   ],
   "source": [
    "# if not entries are fully filled:\n",
    "# use .fillna( ) function or \n",
    "\n",
    "imputer = SimpleImputer(strategy='constant')\n",
    "df2 = pd.DataFrame(imputer.fit_transform(df),columns=df.columns) "
   ]
  },
  {
   "cell_type": "code",
   "execution_count": 66,
   "metadata": {},
   "outputs": [
    {
     "data": {
      "text/html": [
       "<div>\n",
       "<style scoped>\n",
       "    .dataframe tbody tr th:only-of-type {\n",
       "        vertical-align: middle;\n",
       "    }\n",
       "\n",
       "    .dataframe tbody tr th {\n",
       "        vertical-align: top;\n",
       "    }\n",
       "\n",
       "    .dataframe thead th {\n",
       "        text-align: right;\n",
       "    }\n",
       "</style>\n",
       "<table border=\"1\" class=\"dataframe\">\n",
       "  <thead>\n",
       "    <tr style=\"text-align: right;\">\n",
       "      <th></th>\n",
       "      <th>ID</th>\n",
       "      <th>Date</th>\n",
       "      <th>CITY</th>\n",
       "      <th>CITY2</th>\n",
       "      <th>Dose1</th>\n",
       "      <th>Dose2</th>\n",
       "      <th>Total</th>\n",
       "      <th>POPULATION</th>\n",
       "      <th>DIFF_1DOSE</th>\n",
       "      <th>DIFF_2DOSE</th>\n",
       "      <th>DIFF_TOTAL</th>\n",
       "      <th>PREVID</th>\n",
       "    </tr>\n",
       "  </thead>\n",
       "  <tbody>\n",
       "    <tr>\n",
       "      <th>0</th>\n",
       "      <td>438102</td>\n",
       "      <td>2021-06-26 22:41:31</td>\n",
       "      <td>Adana</td>\n",
       "      <td>Adana</td>\n",
       "      <td>784464</td>\n",
       "      <td>355404</td>\n",
       "      <td>1139868</td>\n",
       "      <td>2258718</td>\n",
       "      <td>15</td>\n",
       "      <td>0</td>\n",
       "      <td>15</td>\n",
       "      <td>438021</td>\n",
       "    </tr>\n",
       "    <tr>\n",
       "      <th>1</th>\n",
       "      <td>438103</td>\n",
       "      <td>2021-06-26 22:41:31</td>\n",
       "      <td>Adıyaman</td>\n",
       "      <td>Adiyaman</td>\n",
       "      <td>170847</td>\n",
       "      <td>77955</td>\n",
       "      <td>248802</td>\n",
       "      <td>632459</td>\n",
       "      <td>2</td>\n",
       "      <td>0</td>\n",
       "      <td>2</td>\n",
       "      <td>438022</td>\n",
       "    </tr>\n",
       "    <tr>\n",
       "      <th>2</th>\n",
       "      <td>438104</td>\n",
       "      <td>2021-06-26 22:41:31</td>\n",
       "      <td>Afyonkarahisar</td>\n",
       "      <td>Afyon</td>\n",
       "      <td>292611</td>\n",
       "      <td>138934</td>\n",
       "      <td>431545</td>\n",
       "      <td>736912</td>\n",
       "      <td>8</td>\n",
       "      <td>0</td>\n",
       "      <td>8</td>\n",
       "      <td>438023</td>\n",
       "    </tr>\n",
       "    <tr>\n",
       "      <th>3</th>\n",
       "      <td>438105</td>\n",
       "      <td>2021-06-26 22:41:31</td>\n",
       "      <td>Ağrı</td>\n",
       "      <td>Agri</td>\n",
       "      <td>94807</td>\n",
       "      <td>41146</td>\n",
       "      <td>135953</td>\n",
       "      <td>535435</td>\n",
       "      <td>0</td>\n",
       "      <td>0</td>\n",
       "      <td>0</td>\n",
       "      <td>438024</td>\n",
       "    </tr>\n",
       "    <tr>\n",
       "      <th>4</th>\n",
       "      <td>438106</td>\n",
       "      <td>2021-06-26 22:41:31</td>\n",
       "      <td>Aksaray</td>\n",
       "      <td>Aksaray</td>\n",
       "      <td>131889</td>\n",
       "      <td>62603</td>\n",
       "      <td>194492</td>\n",
       "      <td>423011</td>\n",
       "      <td>3</td>\n",
       "      <td>0</td>\n",
       "      <td>3</td>\n",
       "      <td>438025</td>\n",
       "    </tr>\n",
       "  </tbody>\n",
       "</table>\n",
       "</div>"
      ],
      "text/plain": [
       "       ID                Date            CITY     CITY2   Dose1   Dose2  \\\n",
       "0  438102 2021-06-26 22:41:31           Adana     Adana  784464  355404   \n",
       "1  438103 2021-06-26 22:41:31        Adıyaman  Adiyaman  170847   77955   \n",
       "2  438104 2021-06-26 22:41:31  Afyonkarahisar     Afyon  292611  138934   \n",
       "3  438105 2021-06-26 22:41:31            Ağrı      Agri   94807   41146   \n",
       "4  438106 2021-06-26 22:41:31         Aksaray   Aksaray  131889   62603   \n",
       "\n",
       "     Total  POPULATION  DIFF_1DOSE  DIFF_2DOSE  DIFF_TOTAL  PREVID  \n",
       "0  1139868     2258718          15           0          15  438021  \n",
       "1   248802      632459           2           0           2  438022  \n",
       "2   431545      736912           8           0           8  438023  \n",
       "3   135953      535435           0           0           0  438024  \n",
       "4   194492      423011           3           0           3  438025  "
      ]
     },
     "execution_count": 66,
     "metadata": {},
     "output_type": "execute_result"
    }
   ],
   "source": [
    "df.head(5)"
   ]
  },
  {
   "cell_type": "code",
   "execution_count": 67,
   "metadata": {},
   "outputs": [],
   "source": [
    "df2 = df.groupby('CITY')[['Dose1','Dose2','Total','POPULATION']].sum().reset_index()"
   ]
  },
  {
   "cell_type": "code",
   "execution_count": 68,
   "metadata": {},
   "outputs": [
    {
     "data": {
      "text/html": [
       "<div>\n",
       "<style scoped>\n",
       "    .dataframe tbody tr th:only-of-type {\n",
       "        vertical-align: middle;\n",
       "    }\n",
       "\n",
       "    .dataframe tbody tr th {\n",
       "        vertical-align: top;\n",
       "    }\n",
       "\n",
       "    .dataframe thead th {\n",
       "        text-align: right;\n",
       "    }\n",
       "</style>\n",
       "<table border=\"1\" class=\"dataframe\">\n",
       "  <thead>\n",
       "    <tr style=\"text-align: right;\">\n",
       "      <th></th>\n",
       "      <th>CITY</th>\n",
       "      <th>Dose1</th>\n",
       "      <th>Dose2</th>\n",
       "      <th>Total</th>\n",
       "      <th>POPULATION</th>\n",
       "    </tr>\n",
       "  </thead>\n",
       "  <tbody>\n",
       "    <tr>\n",
       "      <th>0</th>\n",
       "      <td>Adana</td>\n",
       "      <td>784464</td>\n",
       "      <td>355404</td>\n",
       "      <td>1139868</td>\n",
       "      <td>2258718</td>\n",
       "    </tr>\n",
       "    <tr>\n",
       "      <th>1</th>\n",
       "      <td>Adıyaman</td>\n",
       "      <td>170847</td>\n",
       "      <td>77955</td>\n",
       "      <td>248802</td>\n",
       "      <td>632459</td>\n",
       "    </tr>\n",
       "    <tr>\n",
       "      <th>2</th>\n",
       "      <td>Afyonkarahisar</td>\n",
       "      <td>292611</td>\n",
       "      <td>138934</td>\n",
       "      <td>431545</td>\n",
       "      <td>736912</td>\n",
       "    </tr>\n",
       "    <tr>\n",
       "      <th>3</th>\n",
       "      <td>Aksaray</td>\n",
       "      <td>131889</td>\n",
       "      <td>62603</td>\n",
       "      <td>194492</td>\n",
       "      <td>423011</td>\n",
       "    </tr>\n",
       "    <tr>\n",
       "      <th>4</th>\n",
       "      <td>Amasya</td>\n",
       "      <td>169285</td>\n",
       "      <td>87322</td>\n",
       "      <td>256607</td>\n",
       "      <td>335494</td>\n",
       "    </tr>\n",
       "    <tr>\n",
       "      <th>...</th>\n",
       "      <td>...</td>\n",
       "      <td>...</td>\n",
       "      <td>...</td>\n",
       "      <td>...</td>\n",
       "      <td>...</td>\n",
       "    </tr>\n",
       "    <tr>\n",
       "      <th>76</th>\n",
       "      <td>Çorum</td>\n",
       "      <td>238440</td>\n",
       "      <td>121891</td>\n",
       "      <td>360331</td>\n",
       "      <td>530126</td>\n",
       "    </tr>\n",
       "    <tr>\n",
       "      <th>77</th>\n",
       "      <td>İstanbul</td>\n",
       "      <td>6197550</td>\n",
       "      <td>2419591</td>\n",
       "      <td>8617141</td>\n",
       "      <td>15462452</td>\n",
       "    </tr>\n",
       "    <tr>\n",
       "      <th>78</th>\n",
       "      <td>İzmir</td>\n",
       "      <td>2136705</td>\n",
       "      <td>1006223</td>\n",
       "      <td>3142928</td>\n",
       "      <td>4394694</td>\n",
       "    </tr>\n",
       "    <tr>\n",
       "      <th>79</th>\n",
       "      <td>Şanlıurfa</td>\n",
       "      <td>266534</td>\n",
       "      <td>109394</td>\n",
       "      <td>375928</td>\n",
       "      <td>2115256</td>\n",
       "    </tr>\n",
       "    <tr>\n",
       "      <th>80</th>\n",
       "      <td>Şırnak</td>\n",
       "      <td>70624</td>\n",
       "      <td>25473</td>\n",
       "      <td>96097</td>\n",
       "      <td>537762</td>\n",
       "    </tr>\n",
       "  </tbody>\n",
       "</table>\n",
       "<p>81 rows × 5 columns</p>\n",
       "</div>"
      ],
      "text/plain": [
       "              CITY    Dose1    Dose2    Total  POPULATION\n",
       "0            Adana   784464   355404  1139868     2258718\n",
       "1         Adıyaman   170847    77955   248802      632459\n",
       "2   Afyonkarahisar   292611   138934   431545      736912\n",
       "3          Aksaray   131889    62603   194492      423011\n",
       "4           Amasya   169285    87322   256607      335494\n",
       "..             ...      ...      ...      ...         ...\n",
       "76           Çorum   238440   121891   360331      530126\n",
       "77        İstanbul  6197550  2419591  8617141    15462452\n",
       "78           İzmir  2136705  1006223  3142928     4394694\n",
       "79       Şanlıurfa   266534   109394   375928     2115256\n",
       "80          Şırnak    70624    25473    96097      537762\n",
       "\n",
       "[81 rows x 5 columns]"
      ]
     },
     "execution_count": 68,
     "metadata": {},
     "output_type": "execute_result"
    }
   ],
   "source": [
    "df2"
   ]
  },
  {
   "cell_type": "code",
   "execution_count": 73,
   "metadata": {},
   "outputs": [],
   "source": [
    "df2 = df.groupby(['CITY','CITY2','Date'])[['Date','Dose1','Dose2','Total','POPULATION']].sum().reset_index()"
   ]
  },
  {
   "cell_type": "code",
   "execution_count": 74,
   "metadata": {},
   "outputs": [
    {
     "data": {
      "text/html": [
       "<div>\n",
       "<style scoped>\n",
       "    .dataframe tbody tr th:only-of-type {\n",
       "        vertical-align: middle;\n",
       "    }\n",
       "\n",
       "    .dataframe tbody tr th {\n",
       "        vertical-align: top;\n",
       "    }\n",
       "\n",
       "    .dataframe thead th {\n",
       "        text-align: right;\n",
       "    }\n",
       "</style>\n",
       "<table border=\"1\" class=\"dataframe\">\n",
       "  <thead>\n",
       "    <tr style=\"text-align: right;\">\n",
       "      <th></th>\n",
       "      <th>CITY</th>\n",
       "      <th>CITY2</th>\n",
       "      <th>Date</th>\n",
       "      <th>Dose1</th>\n",
       "      <th>Dose2</th>\n",
       "      <th>Total</th>\n",
       "      <th>POPULATION</th>\n",
       "    </tr>\n",
       "  </thead>\n",
       "  <tbody>\n",
       "    <tr>\n",
       "      <th>0</th>\n",
       "      <td>Adana</td>\n",
       "      <td>Adana</td>\n",
       "      <td>2021-06-26 22:41:31</td>\n",
       "      <td>784464</td>\n",
       "      <td>355404</td>\n",
       "      <td>1139868</td>\n",
       "      <td>2258718</td>\n",
       "    </tr>\n",
       "    <tr>\n",
       "      <th>1</th>\n",
       "      <td>Adıyaman</td>\n",
       "      <td>Adiyaman</td>\n",
       "      <td>2021-06-26 22:41:31</td>\n",
       "      <td>170847</td>\n",
       "      <td>77955</td>\n",
       "      <td>248802</td>\n",
       "      <td>632459</td>\n",
       "    </tr>\n",
       "    <tr>\n",
       "      <th>2</th>\n",
       "      <td>Afyonkarahisar</td>\n",
       "      <td>Afyon</td>\n",
       "      <td>2021-06-26 22:41:31</td>\n",
       "      <td>292611</td>\n",
       "      <td>138934</td>\n",
       "      <td>431545</td>\n",
       "      <td>736912</td>\n",
       "    </tr>\n",
       "    <tr>\n",
       "      <th>3</th>\n",
       "      <td>Aksaray</td>\n",
       "      <td>Aksaray</td>\n",
       "      <td>2021-06-26 22:41:31</td>\n",
       "      <td>131889</td>\n",
       "      <td>62603</td>\n",
       "      <td>194492</td>\n",
       "      <td>423011</td>\n",
       "    </tr>\n",
       "    <tr>\n",
       "      <th>4</th>\n",
       "      <td>Amasya</td>\n",
       "      <td>Amasya</td>\n",
       "      <td>2021-06-26 22:41:31</td>\n",
       "      <td>169285</td>\n",
       "      <td>87322</td>\n",
       "      <td>256607</td>\n",
       "      <td>335494</td>\n",
       "    </tr>\n",
       "    <tr>\n",
       "      <th>...</th>\n",
       "      <td>...</td>\n",
       "      <td>...</td>\n",
       "      <td>...</td>\n",
       "      <td>...</td>\n",
       "      <td>...</td>\n",
       "      <td>...</td>\n",
       "      <td>...</td>\n",
       "    </tr>\n",
       "    <tr>\n",
       "      <th>76</th>\n",
       "      <td>Çorum</td>\n",
       "      <td>Corum</td>\n",
       "      <td>2021-06-26 22:41:31</td>\n",
       "      <td>238440</td>\n",
       "      <td>121891</td>\n",
       "      <td>360331</td>\n",
       "      <td>530126</td>\n",
       "    </tr>\n",
       "    <tr>\n",
       "      <th>77</th>\n",
       "      <td>İstanbul</td>\n",
       "      <td>Istanbul</td>\n",
       "      <td>2021-06-26 22:41:31</td>\n",
       "      <td>6197550</td>\n",
       "      <td>2419591</td>\n",
       "      <td>8617141</td>\n",
       "      <td>15462452</td>\n",
       "    </tr>\n",
       "    <tr>\n",
       "      <th>78</th>\n",
       "      <td>İzmir</td>\n",
       "      <td>Izmir</td>\n",
       "      <td>2021-06-26 22:41:31</td>\n",
       "      <td>2136705</td>\n",
       "      <td>1006223</td>\n",
       "      <td>3142928</td>\n",
       "      <td>4394694</td>\n",
       "    </tr>\n",
       "    <tr>\n",
       "      <th>79</th>\n",
       "      <td>Şanlıurfa</td>\n",
       "      <td>Sanliurfa</td>\n",
       "      <td>2021-06-26 22:41:31</td>\n",
       "      <td>266534</td>\n",
       "      <td>109394</td>\n",
       "      <td>375928</td>\n",
       "      <td>2115256</td>\n",
       "    </tr>\n",
       "    <tr>\n",
       "      <th>80</th>\n",
       "      <td>Şırnak</td>\n",
       "      <td>Sirnak</td>\n",
       "      <td>2021-06-26 22:41:31</td>\n",
       "      <td>70624</td>\n",
       "      <td>25473</td>\n",
       "      <td>96097</td>\n",
       "      <td>537762</td>\n",
       "    </tr>\n",
       "  </tbody>\n",
       "</table>\n",
       "<p>81 rows × 7 columns</p>\n",
       "</div>"
      ],
      "text/plain": [
       "              CITY      CITY2                Date    Dose1    Dose2    Total  \\\n",
       "0            Adana      Adana 2021-06-26 22:41:31   784464   355404  1139868   \n",
       "1         Adıyaman   Adiyaman 2021-06-26 22:41:31   170847    77955   248802   \n",
       "2   Afyonkarahisar      Afyon 2021-06-26 22:41:31   292611   138934   431545   \n",
       "3          Aksaray    Aksaray 2021-06-26 22:41:31   131889    62603   194492   \n",
       "4           Amasya     Amasya 2021-06-26 22:41:31   169285    87322   256607   \n",
       "..             ...        ...                 ...      ...      ...      ...   \n",
       "76           Çorum      Corum 2021-06-26 22:41:31   238440   121891   360331   \n",
       "77        İstanbul   Istanbul 2021-06-26 22:41:31  6197550  2419591  8617141   \n",
       "78           İzmir      Izmir 2021-06-26 22:41:31  2136705  1006223  3142928   \n",
       "79       Şanlıurfa  Sanliurfa 2021-06-26 22:41:31   266534   109394   375928   \n",
       "80          Şırnak     Sirnak 2021-06-26 22:41:31    70624    25473    96097   \n",
       "\n",
       "    POPULATION  \n",
       "0      2258718  \n",
       "1       632459  \n",
       "2       736912  \n",
       "3       423011  \n",
       "4       335494  \n",
       "..         ...  \n",
       "76      530126  \n",
       "77    15462452  \n",
       "78     4394694  \n",
       "79     2115256  \n",
       "80      537762  \n",
       "\n",
       "[81 rows x 7 columns]"
      ]
     },
     "execution_count": 74,
     "metadata": {},
     "output_type": "execute_result"
    }
   ],
   "source": [
    "df2"
   ]
  },
  {
   "cell_type": "code",
   "execution_count": 77,
   "metadata": {},
   "outputs": [],
   "source": [
    "df3 = df2[df2['Total']>256607]"
   ]
  },
  {
   "cell_type": "code",
   "execution_count": 78,
   "metadata": {},
   "outputs": [
    {
     "data": {
      "text/html": [
       "<div>\n",
       "<style scoped>\n",
       "    .dataframe tbody tr th:only-of-type {\n",
       "        vertical-align: middle;\n",
       "    }\n",
       "\n",
       "    .dataframe tbody tr th {\n",
       "        vertical-align: top;\n",
       "    }\n",
       "\n",
       "    .dataframe thead th {\n",
       "        text-align: right;\n",
       "    }\n",
       "</style>\n",
       "<table border=\"1\" class=\"dataframe\">\n",
       "  <thead>\n",
       "    <tr style=\"text-align: right;\">\n",
       "      <th></th>\n",
       "      <th>CITY</th>\n",
       "      <th>CITY2</th>\n",
       "      <th>Date</th>\n",
       "      <th>Dose1</th>\n",
       "      <th>Dose2</th>\n",
       "      <th>Total</th>\n",
       "      <th>POPULATION</th>\n",
       "    </tr>\n",
       "  </thead>\n",
       "  <tbody>\n",
       "    <tr>\n",
       "      <th>0</th>\n",
       "      <td>Adana</td>\n",
       "      <td>Adana</td>\n",
       "      <td>2021-06-26 22:41:31</td>\n",
       "      <td>784464</td>\n",
       "      <td>355404</td>\n",
       "      <td>1139868</td>\n",
       "      <td>2258718</td>\n",
       "    </tr>\n",
       "    <tr>\n",
       "      <th>2</th>\n",
       "      <td>Afyonkarahisar</td>\n",
       "      <td>Afyon</td>\n",
       "      <td>2021-06-26 22:41:31</td>\n",
       "      <td>292611</td>\n",
       "      <td>138934</td>\n",
       "      <td>431545</td>\n",
       "      <td>736912</td>\n",
       "    </tr>\n",
       "    <tr>\n",
       "      <th>5</th>\n",
       "      <td>Ankara</td>\n",
       "      <td>Ankara</td>\n",
       "      <td>2021-06-26 22:41:31</td>\n",
       "      <td>2652085</td>\n",
       "      <td>1241906</td>\n",
       "      <td>3893991</td>\n",
       "      <td>5663322</td>\n",
       "    </tr>\n",
       "    <tr>\n",
       "      <th>6</th>\n",
       "      <td>Antalya</td>\n",
       "      <td>Antalya</td>\n",
       "      <td>2021-06-26 22:41:31</td>\n",
       "      <td>1055350</td>\n",
       "      <td>530415</td>\n",
       "      <td>1585765</td>\n",
       "      <td>2548308</td>\n",
       "    </tr>\n",
       "    <tr>\n",
       "      <th>9</th>\n",
       "      <td>Aydın</td>\n",
       "      <td>Aydin</td>\n",
       "      <td>2021-06-26 22:41:31</td>\n",
       "      <td>555807</td>\n",
       "      <td>293208</td>\n",
       "      <td>849015</td>\n",
       "      <td>1119084</td>\n",
       "    </tr>\n",
       "    <tr>\n",
       "      <th>11</th>\n",
       "      <td>Balıkesir</td>\n",
       "      <td>Balikesir</td>\n",
       "      <td>2021-06-26 22:41:31</td>\n",
       "      <td>661424</td>\n",
       "      <td>359073</td>\n",
       "      <td>1020497</td>\n",
       "      <td>1240285</td>\n",
       "    </tr>\n",
       "    <tr>\n",
       "      <th>20</th>\n",
       "      <td>Bursa</td>\n",
       "      <td>Bursa</td>\n",
       "      <td>2021-06-26 22:41:31</td>\n",
       "      <td>1272038</td>\n",
       "      <td>550539</td>\n",
       "      <td>1822577</td>\n",
       "      <td>3101833</td>\n",
       "    </tr>\n",
       "    <tr>\n",
       "      <th>21</th>\n",
       "      <td>Denizli</td>\n",
       "      <td>Denizli</td>\n",
       "      <td>2021-06-26 22:41:31</td>\n",
       "      <td>475605</td>\n",
       "      <td>212478</td>\n",
       "      <td>688083</td>\n",
       "      <td>1040915</td>\n",
       "    </tr>\n",
       "    <tr>\n",
       "      <th>22</th>\n",
       "      <td>Diyarbakır</td>\n",
       "      <td>Diyarbakir</td>\n",
       "      <td>2021-06-26 22:41:31</td>\n",
       "      <td>307868</td>\n",
       "      <td>134167</td>\n",
       "      <td>442035</td>\n",
       "      <td>1783431</td>\n",
       "    </tr>\n",
       "    <tr>\n",
       "      <th>24</th>\n",
       "      <td>Edirne</td>\n",
       "      <td>Edirne</td>\n",
       "      <td>2021-06-26 22:41:31</td>\n",
       "      <td>226150</td>\n",
       "      <td>123707</td>\n",
       "      <td>349857</td>\n",
       "      <td>407763</td>\n",
       "    </tr>\n",
       "    <tr>\n",
       "      <th>25</th>\n",
       "      <td>Elazığ</td>\n",
       "      <td>Elazig</td>\n",
       "      <td>2021-06-26 22:41:31</td>\n",
       "      <td>191848</td>\n",
       "      <td>101103</td>\n",
       "      <td>292951</td>\n",
       "      <td>587960</td>\n",
       "    </tr>\n",
       "    <tr>\n",
       "      <th>27</th>\n",
       "      <td>Erzurum</td>\n",
       "      <td>Erzurum</td>\n",
       "      <td>2021-06-26 22:41:31</td>\n",
       "      <td>212225</td>\n",
       "      <td>106493</td>\n",
       "      <td>318718</td>\n",
       "      <td>758279</td>\n",
       "    </tr>\n",
       "    <tr>\n",
       "      <th>28</th>\n",
       "      <td>Eskişehir</td>\n",
       "      <td>Eskisehir</td>\n",
       "      <td>2021-06-26 22:41:31</td>\n",
       "      <td>457620</td>\n",
       "      <td>215045</td>\n",
       "      <td>672665</td>\n",
       "      <td>888828</td>\n",
       "    </tr>\n",
       "    <tr>\n",
       "      <th>29</th>\n",
       "      <td>Gaziantep</td>\n",
       "      <td>Gaziantep</td>\n",
       "      <td>2021-06-26 22:41:31</td>\n",
       "      <td>570536</td>\n",
       "      <td>207651</td>\n",
       "      <td>778187</td>\n",
       "      <td>2101157</td>\n",
       "    </tr>\n",
       "    <tr>\n",
       "      <th>30</th>\n",
       "      <td>Giresun</td>\n",
       "      <td>Giresun</td>\n",
       "      <td>2021-06-26 22:41:31</td>\n",
       "      <td>210905</td>\n",
       "      <td>123826</td>\n",
       "      <td>334731</td>\n",
       "      <td>448721</td>\n",
       "    </tr>\n",
       "    <tr>\n",
       "      <th>33</th>\n",
       "      <td>Hatay</td>\n",
       "      <td>Hatay</td>\n",
       "      <td>2021-06-26 22:41:31</td>\n",
       "      <td>512074</td>\n",
       "      <td>223365</td>\n",
       "      <td>735439</td>\n",
       "      <td>1659320</td>\n",
       "    </tr>\n",
       "    <tr>\n",
       "      <th>34</th>\n",
       "      <td>Isparta</td>\n",
       "      <td>Isparta</td>\n",
       "      <td>2021-06-26 22:41:31</td>\n",
       "      <td>205991</td>\n",
       "      <td>107865</td>\n",
       "      <td>313856</td>\n",
       "      <td>440304</td>\n",
       "    </tr>\n",
       "    <tr>\n",
       "      <th>36</th>\n",
       "      <td>Kahramanmaraş</td>\n",
       "      <td>Kahramanmaras</td>\n",
       "      <td>2021-06-26 22:41:31</td>\n",
       "      <td>336185</td>\n",
       "      <td>149207</td>\n",
       "      <td>485392</td>\n",
       "      <td>1168163</td>\n",
       "    </tr>\n",
       "    <tr>\n",
       "      <th>40</th>\n",
       "      <td>Kastamonu</td>\n",
       "      <td>Kastamonu</td>\n",
       "      <td>2021-06-26 22:41:31</td>\n",
       "      <td>175799</td>\n",
       "      <td>99604</td>\n",
       "      <td>275403</td>\n",
       "      <td>376377</td>\n",
       "    </tr>\n",
       "    <tr>\n",
       "      <th>41</th>\n",
       "      <td>Kayseri</td>\n",
       "      <td>Kayseri</td>\n",
       "      <td>2021-06-26 22:41:31</td>\n",
       "      <td>534876</td>\n",
       "      <td>250399</td>\n",
       "      <td>785275</td>\n",
       "      <td>1421455</td>\n",
       "    </tr>\n",
       "    <tr>\n",
       "      <th>43</th>\n",
       "      <td>Kocaeli</td>\n",
       "      <td>Kocaeli</td>\n",
       "      <td>2021-06-26 22:41:31</td>\n",
       "      <td>793994</td>\n",
       "      <td>321371</td>\n",
       "      <td>1115365</td>\n",
       "      <td>1997258</td>\n",
       "    </tr>\n",
       "    <tr>\n",
       "      <th>44</th>\n",
       "      <td>Konya</td>\n",
       "      <td>Konya</td>\n",
       "      <td>2021-06-26 22:41:31</td>\n",
       "      <td>757561</td>\n",
       "      <td>374716</td>\n",
       "      <td>1132277</td>\n",
       "      <td>2250020</td>\n",
       "    </tr>\n",
       "    <tr>\n",
       "      <th>45</th>\n",
       "      <td>Kütahya</td>\n",
       "      <td>Kutahya</td>\n",
       "      <td>2021-06-26 22:41:31</td>\n",
       "      <td>254612</td>\n",
       "      <td>125308</td>\n",
       "      <td>379920</td>\n",
       "      <td>576688</td>\n",
       "    </tr>\n",
       "    <tr>\n",
       "      <th>46</th>\n",
       "      <td>Kırklareli</td>\n",
       "      <td>Kirklareli</td>\n",
       "      <td>2021-06-26 22:41:31</td>\n",
       "      <td>197631</td>\n",
       "      <td>98896</td>\n",
       "      <td>296527</td>\n",
       "      <td>361737</td>\n",
       "    </tr>\n",
       "    <tr>\n",
       "      <th>49</th>\n",
       "      <td>Malatya</td>\n",
       "      <td>Malatya</td>\n",
       "      <td>2021-06-26 22:41:31</td>\n",
       "      <td>290096</td>\n",
       "      <td>147223</td>\n",
       "      <td>437319</td>\n",
       "      <td>806156</td>\n",
       "    </tr>\n",
       "    <tr>\n",
       "      <th>50</th>\n",
       "      <td>Manisa</td>\n",
       "      <td>Manisa</td>\n",
       "      <td>2021-06-26 22:41:31</td>\n",
       "      <td>637609</td>\n",
       "      <td>284045</td>\n",
       "      <td>921654</td>\n",
       "      <td>1450616</td>\n",
       "    </tr>\n",
       "    <tr>\n",
       "      <th>52</th>\n",
       "      <td>Mersin</td>\n",
       "      <td>Mersin</td>\n",
       "      <td>2021-06-26 22:41:31</td>\n",
       "      <td>730833</td>\n",
       "      <td>349594</td>\n",
       "      <td>1080427</td>\n",
       "      <td>1868757</td>\n",
       "    </tr>\n",
       "    <tr>\n",
       "      <th>53</th>\n",
       "      <td>Muğla</td>\n",
       "      <td>Mugla</td>\n",
       "      <td>2021-06-26 22:41:31</td>\n",
       "      <td>578641</td>\n",
       "      <td>286979</td>\n",
       "      <td>865620</td>\n",
       "      <td>1000773</td>\n",
       "    </tr>\n",
       "    <tr>\n",
       "      <th>57</th>\n",
       "      <td>Ordu</td>\n",
       "      <td>Ordu</td>\n",
       "      <td>2021-06-26 22:41:31</td>\n",
       "      <td>352377</td>\n",
       "      <td>187138</td>\n",
       "      <td>539515</td>\n",
       "      <td>761400</td>\n",
       "    </tr>\n",
       "    <tr>\n",
       "      <th>58</th>\n",
       "      <td>Osmaniye</td>\n",
       "      <td>Osmaniye</td>\n",
       "      <td>2021-06-26 22:41:31</td>\n",
       "      <td>198547</td>\n",
       "      <td>95463</td>\n",
       "      <td>294010</td>\n",
       "      <td>548556</td>\n",
       "    </tr>\n",
       "    <tr>\n",
       "      <th>60</th>\n",
       "      <td>Sakarya</td>\n",
       "      <td>Sakarya</td>\n",
       "      <td>2021-06-26 22:41:31</td>\n",
       "      <td>395582</td>\n",
       "      <td>184942</td>\n",
       "      <td>580524</td>\n",
       "      <td>1042649</td>\n",
       "    </tr>\n",
       "    <tr>\n",
       "      <th>61</th>\n",
       "      <td>Samsun</td>\n",
       "      <td>Samsun</td>\n",
       "      <td>2021-06-26 22:41:31</td>\n",
       "      <td>562448</td>\n",
       "      <td>292951</td>\n",
       "      <td>855399</td>\n",
       "      <td>1356079</td>\n",
       "    </tr>\n",
       "    <tr>\n",
       "      <th>64</th>\n",
       "      <td>Sivas</td>\n",
       "      <td>Sivas</td>\n",
       "      <td>2021-06-26 22:41:31</td>\n",
       "      <td>245140</td>\n",
       "      <td>126038</td>\n",
       "      <td>371178</td>\n",
       "      <td>635889</td>\n",
       "    </tr>\n",
       "    <tr>\n",
       "      <th>65</th>\n",
       "      <td>Tekirdağ</td>\n",
       "      <td>Tekirdag</td>\n",
       "      <td>2021-06-26 22:41:31</td>\n",
       "      <td>477726</td>\n",
       "      <td>208146</td>\n",
       "      <td>685872</td>\n",
       "      <td>1081065</td>\n",
       "    </tr>\n",
       "    <tr>\n",
       "      <th>66</th>\n",
       "      <td>Tokat</td>\n",
       "      <td>Tokat</td>\n",
       "      <td>2021-06-26 22:41:31</td>\n",
       "      <td>250396</td>\n",
       "      <td>137312</td>\n",
       "      <td>387708</td>\n",
       "      <td>597861</td>\n",
       "    </tr>\n",
       "    <tr>\n",
       "      <th>67</th>\n",
       "      <td>Trabzon</td>\n",
       "      <td>Trabzon</td>\n",
       "      <td>2021-06-26 22:41:31</td>\n",
       "      <td>341832</td>\n",
       "      <td>186529</td>\n",
       "      <td>528361</td>\n",
       "      <td>811901</td>\n",
       "    </tr>\n",
       "    <tr>\n",
       "      <th>70</th>\n",
       "      <td>Van</td>\n",
       "      <td>Van</td>\n",
       "      <td>2021-06-26 22:41:31</td>\n",
       "      <td>236641</td>\n",
       "      <td>91208</td>\n",
       "      <td>327849</td>\n",
       "      <td>1149342</td>\n",
       "    </tr>\n",
       "    <tr>\n",
       "      <th>73</th>\n",
       "      <td>Zonguldak</td>\n",
       "      <td>Zonguldak</td>\n",
       "      <td>2021-06-26 22:41:31</td>\n",
       "      <td>275433</td>\n",
       "      <td>139382</td>\n",
       "      <td>414815</td>\n",
       "      <td>591204</td>\n",
       "    </tr>\n",
       "    <tr>\n",
       "      <th>74</th>\n",
       "      <td>Çanakkale</td>\n",
       "      <td>Canakkale</td>\n",
       "      <td>2021-06-26 22:41:31</td>\n",
       "      <td>298662</td>\n",
       "      <td>161433</td>\n",
       "      <td>460095</td>\n",
       "      <td>541548</td>\n",
       "    </tr>\n",
       "    <tr>\n",
       "      <th>76</th>\n",
       "      <td>Çorum</td>\n",
       "      <td>Corum</td>\n",
       "      <td>2021-06-26 22:41:31</td>\n",
       "      <td>238440</td>\n",
       "      <td>121891</td>\n",
       "      <td>360331</td>\n",
       "      <td>530126</td>\n",
       "    </tr>\n",
       "    <tr>\n",
       "      <th>77</th>\n",
       "      <td>İstanbul</td>\n",
       "      <td>Istanbul</td>\n",
       "      <td>2021-06-26 22:41:31</td>\n",
       "      <td>6197550</td>\n",
       "      <td>2419591</td>\n",
       "      <td>8617141</td>\n",
       "      <td>15462452</td>\n",
       "    </tr>\n",
       "    <tr>\n",
       "      <th>78</th>\n",
       "      <td>İzmir</td>\n",
       "      <td>Izmir</td>\n",
       "      <td>2021-06-26 22:41:31</td>\n",
       "      <td>2136705</td>\n",
       "      <td>1006223</td>\n",
       "      <td>3142928</td>\n",
       "      <td>4394694</td>\n",
       "    </tr>\n",
       "    <tr>\n",
       "      <th>79</th>\n",
       "      <td>Şanlıurfa</td>\n",
       "      <td>Sanliurfa</td>\n",
       "      <td>2021-06-26 22:41:31</td>\n",
       "      <td>266534</td>\n",
       "      <td>109394</td>\n",
       "      <td>375928</td>\n",
       "      <td>2115256</td>\n",
       "    </tr>\n",
       "  </tbody>\n",
       "</table>\n",
       "</div>"
      ],
      "text/plain": [
       "              CITY          CITY2                Date    Dose1    Dose2  \\\n",
       "0            Adana          Adana 2021-06-26 22:41:31   784464   355404   \n",
       "2   Afyonkarahisar          Afyon 2021-06-26 22:41:31   292611   138934   \n",
       "5           Ankara         Ankara 2021-06-26 22:41:31  2652085  1241906   \n",
       "6          Antalya        Antalya 2021-06-26 22:41:31  1055350   530415   \n",
       "9            Aydın          Aydin 2021-06-26 22:41:31   555807   293208   \n",
       "11       Balıkesir      Balikesir 2021-06-26 22:41:31   661424   359073   \n",
       "20           Bursa          Bursa 2021-06-26 22:41:31  1272038   550539   \n",
       "21         Denizli        Denizli 2021-06-26 22:41:31   475605   212478   \n",
       "22      Diyarbakır     Diyarbakir 2021-06-26 22:41:31   307868   134167   \n",
       "24          Edirne         Edirne 2021-06-26 22:41:31   226150   123707   \n",
       "25          Elazığ         Elazig 2021-06-26 22:41:31   191848   101103   \n",
       "27         Erzurum        Erzurum 2021-06-26 22:41:31   212225   106493   \n",
       "28       Eskişehir      Eskisehir 2021-06-26 22:41:31   457620   215045   \n",
       "29       Gaziantep      Gaziantep 2021-06-26 22:41:31   570536   207651   \n",
       "30         Giresun        Giresun 2021-06-26 22:41:31   210905   123826   \n",
       "33           Hatay          Hatay 2021-06-26 22:41:31   512074   223365   \n",
       "34         Isparta        Isparta 2021-06-26 22:41:31   205991   107865   \n",
       "36   Kahramanmaraş  Kahramanmaras 2021-06-26 22:41:31   336185   149207   \n",
       "40       Kastamonu      Kastamonu 2021-06-26 22:41:31   175799    99604   \n",
       "41         Kayseri        Kayseri 2021-06-26 22:41:31   534876   250399   \n",
       "43         Kocaeli        Kocaeli 2021-06-26 22:41:31   793994   321371   \n",
       "44           Konya          Konya 2021-06-26 22:41:31   757561   374716   \n",
       "45         Kütahya        Kutahya 2021-06-26 22:41:31   254612   125308   \n",
       "46      Kırklareli     Kirklareli 2021-06-26 22:41:31   197631    98896   \n",
       "49         Malatya        Malatya 2021-06-26 22:41:31   290096   147223   \n",
       "50          Manisa         Manisa 2021-06-26 22:41:31   637609   284045   \n",
       "52          Mersin         Mersin 2021-06-26 22:41:31   730833   349594   \n",
       "53           Muğla          Mugla 2021-06-26 22:41:31   578641   286979   \n",
       "57            Ordu           Ordu 2021-06-26 22:41:31   352377   187138   \n",
       "58        Osmaniye       Osmaniye 2021-06-26 22:41:31   198547    95463   \n",
       "60         Sakarya        Sakarya 2021-06-26 22:41:31   395582   184942   \n",
       "61          Samsun         Samsun 2021-06-26 22:41:31   562448   292951   \n",
       "64           Sivas          Sivas 2021-06-26 22:41:31   245140   126038   \n",
       "65        Tekirdağ       Tekirdag 2021-06-26 22:41:31   477726   208146   \n",
       "66           Tokat          Tokat 2021-06-26 22:41:31   250396   137312   \n",
       "67         Trabzon        Trabzon 2021-06-26 22:41:31   341832   186529   \n",
       "70             Van            Van 2021-06-26 22:41:31   236641    91208   \n",
       "73       Zonguldak      Zonguldak 2021-06-26 22:41:31   275433   139382   \n",
       "74       Çanakkale      Canakkale 2021-06-26 22:41:31   298662   161433   \n",
       "76           Çorum          Corum 2021-06-26 22:41:31   238440   121891   \n",
       "77        İstanbul       Istanbul 2021-06-26 22:41:31  6197550  2419591   \n",
       "78           İzmir          Izmir 2021-06-26 22:41:31  2136705  1006223   \n",
       "79       Şanlıurfa      Sanliurfa 2021-06-26 22:41:31   266534   109394   \n",
       "\n",
       "      Total  POPULATION  \n",
       "0   1139868     2258718  \n",
       "2    431545      736912  \n",
       "5   3893991     5663322  \n",
       "6   1585765     2548308  \n",
       "9    849015     1119084  \n",
       "11  1020497     1240285  \n",
       "20  1822577     3101833  \n",
       "21   688083     1040915  \n",
       "22   442035     1783431  \n",
       "24   349857      407763  \n",
       "25   292951      587960  \n",
       "27   318718      758279  \n",
       "28   672665      888828  \n",
       "29   778187     2101157  \n",
       "30   334731      448721  \n",
       "33   735439     1659320  \n",
       "34   313856      440304  \n",
       "36   485392     1168163  \n",
       "40   275403      376377  \n",
       "41   785275     1421455  \n",
       "43  1115365     1997258  \n",
       "44  1132277     2250020  \n",
       "45   379920      576688  \n",
       "46   296527      361737  \n",
       "49   437319      806156  \n",
       "50   921654     1450616  \n",
       "52  1080427     1868757  \n",
       "53   865620     1000773  \n",
       "57   539515      761400  \n",
       "58   294010      548556  \n",
       "60   580524     1042649  \n",
       "61   855399     1356079  \n",
       "64   371178      635889  \n",
       "65   685872     1081065  \n",
       "66   387708      597861  \n",
       "67   528361      811901  \n",
       "70   327849     1149342  \n",
       "73   414815      591204  \n",
       "74   460095      541548  \n",
       "76   360331      530126  \n",
       "77  8617141    15462452  \n",
       "78  3142928     4394694  \n",
       "79   375928     2115256  "
      ]
     },
     "execution_count": 78,
     "metadata": {},
     "output_type": "execute_result"
    }
   ],
   "source": [
    "df3"
   ]
  },
  {
   "cell_type": "code",
   "execution_count": 81,
   "metadata": {},
   "outputs": [],
   "source": [
    "import matplotlib.pyplot as plt\n",
    "import numpy as np"
   ]
  },
  {
   "cell_type": "code",
   "execution_count": 82,
   "metadata": {},
   "outputs": [
    {
     "data": {
      "text/plain": [
       "[<matplotlib.lines.Line2D at 0x1e8695e9820>]"
      ]
     },
     "execution_count": 82,
     "metadata": {},
     "output_type": "execute_result"
    },
    {
     "data": {
      "image/png": "[encoded data removed]",
      "text/plain": [
       "<Figure size 432x288 with 1 Axes>"
      ]
     },
     "metadata": {
      "needs_background": "light"
     },
     "output_type": "display_data"
    }
   ],
   "source": [
    "x = np.linspace(0,10,1000) # start from zero go to 10\n",
    "y = np.sin(x)\n",
    "plt.plot(x,y)"
   ]
  },
  {
   "cell_type": "code",
   "execution_count": 88,
   "metadata": {},
   "outputs": [
    {
     "data": {
      "text/plain": [
       "<matplotlib.collections.PathCollection at 0x1e865761580>"
      ]
     },
     "execution_count": 88,
     "metadata": {},
     "output_type": "execute_result"
    },
    {
     "data": {
      "image/png": "[encoded data removed]",
      "text/plain": [
       "<Figure size 432x288 with 1 Axes>"
      ]
     },
     "metadata": {
      "needs_background": "light"
     },
     "output_type": "display_data"
    }
   ],
   "source": [
    "plt.scatter(x[::10],y[::10],color='red') # scatter plot "
   ]
  },
  {
   "cell_type": "code",
   "execution_count": 84,
   "metadata": {},
   "outputs": [
    {
     "data": {
      "text/plain": [
       "[<matplotlib.lines.Line2D at 0x1e869741e50>]"
      ]
     },
     "execution_count": 84,
     "metadata": {},
     "output_type": "execute_result"
    },
    {
     "data": {
      "image/png": "[encoded data removed]",
      "text/plain": [
       "<Figure size 432x288 with 1 Axes>"
      ]
     },
     "metadata": {
      "needs_background": "light"
     },
     "output_type": "display_data"
    }
   ],
   "source": [
    "plt.plot(x,y,color='b')\n",
    "plt.plot(x,np.cos(x),color='g')\n"
   ]
  },
  {
   "cell_type": "code",
   "execution_count": 89,
   "metadata": {},
   "outputs": [
    {
     "data": {
      "text/plain": [
       "43"
      ]
     },
     "execution_count": 89,
     "metadata": {},
     "output_type": "execute_result"
    }
   ],
   "source": [
    "city = df3['CITY'].unique()\n",
    "len(city)"
   ]
  },
  {
   "cell_type": "code",
   "execution_count": 90,
   "metadata": {},
   "outputs": [
    {
     "data": {
      "image/png": "[encoded data removed]",
      "text/plain": [
       "<Figure size 432x288 with 1 Axes>"
      ]
     },
     "metadata": {
      "needs_background": "light"
     },
     "output_type": "display_data"
    },
    {
     "data": {
      "image/png": "[encoded data removed]",
      "text/plain": [
       "<Figure size 432x288 with 1 Axes>"
      ]
     },
     "metadata": {
      "needs_background": "light"
     },
     "output_type": "display_data"
    },
    {
     "data": {
      "image/png": "[encoded data removed]",
      "text/plain": [
       "<Figure size 432x288 with 1 Axes>"
      ]
     },
     "metadata": {
      "needs_background": "light"
     },
     "output_type": "display_data"
    },
    {
     "data": {
      "image/png": "[encoded data removed]",
      "text/plain": [
       "<Figure size 432x288 with 1 Axes>"
      ]
     },
     "metadata": {
      "needs_background": "light"
     },
     "output_type": "display_data"
    },
    {
     "data": {
      "image/png": "[encoded data removed]",
      "text/plain": [
       "<Figure size 432x288 with 1 Axes>"
      ]
     },
     "metadata": {
      "needs_background": "light"
     },
     "output_type": "display_data"
    },
    {
     "data": {
      "image/png": "[encoded data removed]",
      "text/plain": [
       "<Figure size 432x288 with 1 Axes>"
      ]
     },
     "metadata": {
      "needs_background": "light"
     },
     "output_type": "display_data"
    },
    {
     "data": {
      "image/png": "[encoded data removed]",
      "text/plain": [
       "<Figure size 432x288 with 1 Axes>"
      ]
     },
     "metadata": {
      "needs_background": "light"
     },
     "output_type": "display_data"
    },
    {
     "data": {
      "image/png": "[encoded data removed]",
      "text/plain": [
       "<Figure size 432x288 with 1 Axes>"
      ]
     },
     "metadata": {
      "needs_background": "light"
     },
     "output_type": "display_data"
    },
    {
     "data": {
      "image/png": "[encoded data removed]",
      "text/plain": [
       "<Figure size 432x288 with 1 Axes>"
      ]
     },
     "metadata": {
      "needs_background": "light"
     },
     "output_type": "display_data"
    },
    {
     "data": {
      "image/png": "[encoded data removed]",
      "text/plain": [
       "<Figure size 432x288 with 1 Axes>"
      ]
     },
     "metadata": {
      "needs_background": "light"
     },
     "output_type": "display_data"
    },
    {
     "data": {
      "image/png": "[encoded data removed]",
      "text/plain": [
       "<Figure size 432x288 with 1 Axes>"
      ]
     },
     "metadata": {
      "needs_background": "light"
     },
     "output_type": "display_data"
    },
    {
     "data": {
      "image/png": "[encoded data removed]",
      "text/plain": [
       "<Figure size 432x288 with 1 Axes>"
      ]
     },
     "metadata": {
      "needs_background": "light"
     },
     "output_type": "display_data"
    },
    {
     "data": {
      "image/png": "[encoded data removed]",
      "text/plain": [
       "<Figure size 432x288 with 1 Axes>"
      ]
     },
     "metadata": {
      "needs_background": "light"
     },
     "output_type": "display_data"
    },
    {
     "data": {
      "image/png": "[encoded data removed]",
      "text/plain": [
       "<Figure size 432x288 with 1 Axes>"
      ]
     },
     "metadata": {
      "needs_background": "light"
     },
     "output_type": "display_data"
    },
    {
     "data": {
      "image/png": "[encoded data removed]",
      "text/plain": [
       "<Figure size 432x288 with 1 Axes>"
      ]
     },
     "metadata": {
      "needs_background": "light"
     },
     "output_type": "display_data"
    },
    {
     "data": {
      "image/png": "[encoded data removed]",
      "text/plain": [
       "<Figure size 432x288 with 1 Axes>"
      ]
     },
     "metadata": {
      "needs_background": "light"
     },
     "output_type": "display_data"
    },
    {
     "data": {
      "image/png": "[encoded data removed]",
      "text/plain": [
       "<Figure size 432x288 with 1 Axes>"
      ]
     },
     "metadata": {
      "needs_background": "light"
     },
     "output_type": "display_data"
    },
    {
     "data": {
      "image/png": "[encoded data removed]",
      "text/plain": [
       "<Figure size 432x288 with 1 Axes>"
      ]
     },
     "metadata": {
      "needs_background": "light"
     },
     "output_type": "display_data"
    },
    {
     "data": {
      "image/png": "[encoded data removed]",
      "text/plain": [
       "<Figure size 432x288 with 1 Axes>"
      ]
     },
     "metadata": {
      "needs_background": "light"
     },
     "output_type": "display_data"
    },
    {
     "data": {
      "image/png": "[encoded data removed]",
      "text/plain": [
       "<Figure size 432x288 with 1 Axes>"
      ]
     },
     "metadata": {
      "needs_background": "light"
     },
     "output_type": "display_data"
    },
    {
     "data": {
      "image/png": "[encoded data removed]",
      "text/plain": [
       "<Figure size 432x288 with 1 Axes>"
      ]
     },
     "metadata": {
      "needs_background": "light"
     },
     "output_type": "display_data"
    },
    {
     "data": {
      "image/png": "[encoded data removed]",
      "text/plain": [
       "<Figure size 432x288 with 1 Axes>"
      ]
     },
     "metadata": {
      "needs_background": "light"
     },
     "output_type": "display_data"
    },
    {
     "data": {
      "image/png": "[encoded data removed]",
      "text/plain": [
       "<Figure size 432x288 with 1 Axes>"
      ]
     },
     "metadata": {
      "needs_background": "light"
     },
     "output_type": "display_data"
    },
    {
     "data": {
      "image/png": "[encoded data removed]",
      "text/plain": [
       "<Figure size 432x288 with 1 Axes>"
      ]
     },
     "metadata": {
      "needs_background": "light"
     },
     "output_type": "display_data"
    },
    {
     "data": {
      "image/png": "[encoded data removed]",
      "text/plain": [
       "<Figure size 432x288 with 1 Axes>"
      ]
     },
     "metadata": {
      "needs_background": "light"
     },
     "output_type": "display_data"
    },
    {
     "data": {
      "image/png": "[encoded data removed]",
      "text/plain": [
       "<Figure size 432x288 with 1 Axes>"
      ]
     },
     "metadata": {
      "needs_background": "light"
     },
     "output_type": "display_data"
    },
    {
     "data": {
      "image/png": "[encoded data removed]",
      "text/plain": [
       "<Figure size 432x288 with 1 Axes>"
      ]
     },
     "metadata": {
      "needs_background": "light"
     },
     "output_type": "display_data"
    },
    {
     "data": {
      "image/png": "[encoded data removed]",
      "text/plain": [
       "<Figure size 432x288 with 1 Axes>"
      ]
     },
     "metadata": {
      "needs_background": "light"
     },
     "output_type": "display_data"
    },
    {
     "data": {
      "image/png": "[encoded data removed]",
      "text/plain": [
       "<Figure size 432x288 with 1 Axes>"
      ]
     },
     "metadata": {
      "needs_background": "light"
     },
     "output_type": "display_data"
    },
    {
     "data": {
      "image/png": "[encoded data removed]",
      "text/plain": [
       "<Figure size 432x288 with 1 Axes>"
      ]
     },
     "metadata": {
      "needs_background": "light"
     },
     "output_type": "display_data"
    },
    {
     "data": {
      "image/png": "[encoded data removed]",
      "text/plain": [
       "<Figure size 432x288 with 1 Axes>"
      ]
     },
     "metadata": {
      "needs_background": "light"
     },
     "output_type": "display_data"
    },
    {
     "data": {
      "image/png": "[encoded data removed]",
      "text/plain": [
       "<Figure size 432x288 with 1 Axes>"
      ]
     },
     "metadata": {
      "needs_background": "light"
     },
     "output_type": "display_data"
    },
    {
     "data": {
      "image/png": "[encoded data removed]",
      "text/plain": [
       "<Figure size 432x288 with 1 Axes>"
      ]
     },
     "metadata": {
      "needs_background": "light"
     },
     "output_type": "display_data"
    },
    {
     "data": {
      "image/png": "[encoded data removed]",
      "text/plain": [
       "<Figure size 432x288 with 1 Axes>"
      ]
     },
     "metadata": {
      "needs_background": "light"
     },
     "output_type": "display_data"
    },
    {
     "data": {
      "image/png": "[encoded data removed]",
      "text/plain": [
       "<Figure size 432x288 with 1 Axes>"
      ]
     },
     "metadata": {
      "needs_background": "light"
     },
     "output_type": "display_data"
    },
    {
     "data": {
      "image/png": "[encoded data removed]",
      "text/plain": [
       "<Figure size 432x288 with 1 Axes>"
      ]
     },
     "metadata": {
      "needs_background": "light"
     },
     "output_type": "display_data"
    },
    {
     "data": {
      "image/png": "[encoded data removed]",
      "text/plain": [
       "<Figure size 432x288 with 1 Axes>"
      ]
     },
     "metadata": {
      "needs_background": "light"
     },
     "output_type": "display_data"
    },
    {
     "data": {
      "image/png": "[encoded data removed]",
      "text/plain": [
       "<Figure size 432x288 with 1 Axes>"
      ]
     },
     "metadata": {
      "needs_background": "light"
     },
     "output_type": "display_data"
    },
    {
     "data": {
      "image/png": "[encoded data removed]",
      "text/plain": [
       "<Figure size 432x288 with 1 Axes>"
      ]
     },
     "metadata": {
      "needs_background": "light"
     },
     "output_type": "display_data"
    },
    {
     "data": {
      "image/png": "[encoded data removed]",
      "text/plain": [
       "<Figure size 432x288 with 1 Axes>"
      ]
     },
     "metadata": {
      "needs_background": "light"
     },
     "output_type": "display_data"
    },
    {
     "data": {
      "image/png": "[encoded data removed]",
      "text/plain": [
       "<Figure size 432x288 with 1 Axes>"
      ]
     },
     "metadata": {
      "needs_background": "light"
     },
     "output_type": "display_data"
    },
    {
     "data": {
      "image/png": "[encoded data removed]",
      "text/plain": [
       "<Figure size 432x288 with 1 Axes>"
      ]
     },
     "metadata": {
      "needs_background": "light"
     },
     "output_type": "display_data"
    },
    {
     "data": {
      "image/png": "[encoded data removed]",
      "text/plain": [
       "<Figure size 432x288 with 1 Axes>"
      ]
     },
     "metadata": {
      "needs_background": "light"
     },
     "output_type": "display_data"
    }
   ],
   "source": [
    "for idx in range(0,len(city)):    \n",
    "    C = df3[df3['CITY']==city[idx]].reset_index()        \n",
    "    plt.scatter(np.arange(0,len(C)),C['Dose1'],color='blue',label='Dose-1')\n",
    "    plt.scatter(np.arange(0,len(C)),C['Dose2'],color='green',label='Dose-2')\n",
    "    plt.scatter(np.arange(0,len(C)),C['Total'],color='red',label='Total')\n",
    "    plt.title(city[idx])\n",
    "    plt.xlabel('Dose1')\n",
    "    plt.ylabel('Dose2')\n",
    "    plt.legend()\n",
    "    plt.show()"
   ]
  },
  {
   "cell_type": "code",
   "execution_count": null,
   "metadata": {},
   "outputs": [],
   "source": []
  }
 ],
 "metadata": {
  "kernelspec": {
   "display_name": "Python 3",
   "language": "python",
   "name": "python3"
  },
  "language_info": {
   "codemirror_mode": {
    "name": "ipython",
    "version": 3
   },
   "file_extension": ".py",
   "mimetype": "text/x-python",
   "name": "python",
   "nbconvert_exporter": "python",
   "pygments_lexer": "ipython3",
   "version": "3.8.3"
  }
 },
 "nbformat": 4,
 "nbformat_minor": 4
}
