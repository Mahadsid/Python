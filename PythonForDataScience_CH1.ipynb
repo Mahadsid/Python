{
 "cells": [
  {
   "cell_type": "markdown",
   "metadata": {},
   "source": [
    "# Python For Data Science  <br>\n",
    "Hello! I am willing to make a carrer in Data Science as I have this very great interest in this field, so I am taking step by step approach to learn things and what I learn I'll be sharing it on github(https://github.com/Mahadsid) and Twitter(https://twitter.com/M_Sid_).<br>\n",
    "I have a favour to ask to all who have knowledege in this field to guide me in my journey, review my study, correct me on my mistake, share their experience and show me the way how to make a carrer in tech as I am a amateur. <br>\n",
    "Thank you!"
   ]
  },
  {
   "cell_type": "markdown",
   "metadata": {},
   "source": [
    "# By- Muhammad Mahad"
   ]
  },
  {
   "cell_type": "markdown",
   "metadata": {},
   "source": [
    "## What is Python?"
   ]
  },
  {
   "cell_type": "markdown",
   "metadata": {},
   "source": [
    "Let me put it in simple ways <br> \n",
    "Python is a very simple high level programming language, it is very easy to understand.<br>\n",
    "The pseudo-code nature of Python make it very easy to learn it, it just feels like reading english.<br>\n",
    "\n",
    "### Features Of Python<br>\n",
    "Easy to understand.<br>\n",
    "Free and Open Source.<br>\n",
    "Portable: works on many platforms like windows, linux, mac-os etc.<br>\n",
    "It is high level language<br>\n"
   ]
  },
  {
   "cell_type": "markdown",
   "metadata": {},
   "source": [
    "#### Let us write our first program!!"
   ]
  },
  {
   "cell_type": "code",
   "execution_count": 34,
   "metadata": {},
   "outputs": [
    {
     "name": "stdout",
     "output_type": "stream",
     "text": [
      "Hello This is M.Sid\n"
     ]
    }
   ],
   "source": [
    "print(\"Hello This is M.Sid\") #print is predefined function in python that helps us to print something/output to the screen.<br>\n",
    "                             # to use print write print use parenthesis and in between paranthesis write what you want to print.\n",
    "                             #to print senetence i.e string enclose it in double quotes."
   ]
  },
  {
   "cell_type": "markdown",
   "metadata": {},
   "source": [
    "# Chapter 1."
   ]
  },
  {
   "cell_type": "markdown",
   "metadata": {},
   "source": [
    "# Variables & DataTypes in Python."
   ]
  },
  {
   "cell_type": "markdown",
   "metadata": {},
   "source": [
    "Variables is container to store data that can be used later on.<br>\n",
    " #### Rules for defining a variable name.<br>\n",
    " 1.A variable name can contain alphabets, digits and underscores.<br>\n",
    " 2.A variable name can only start with an alphabet and underscore.<br>\n",
    " 3.A variable name cannot start with a digit.<br>\n",
    " 4.No white spaces is allowed to be used inside a variable name.<br>\n",
    " 5.Ex- var, var8, var_1, etc\n",
    "\n",
    "## DataTypes<br>\n",
    "Primirily there are following datatypes in python:<br>\n",
    "Integer- int<br>\n",
    "Floating point numbers- float<br>\n",
    "Strings- str<br>\n",
    "Boolean- bool<br>\n",
    "None<br>"
   ]
  },
  {
   "cell_type": "code",
   "execution_count": 36,
   "metadata": {},
   "outputs": [
    {
     "name": "stdout",
     "output_type": "stream",
     "text": [
      "1\n",
      "2\n",
      "<class 'int'>\n",
      "<class 'int'>\n",
      "10\n",
      "10.0\n",
      "<class 'int'>\n",
      "<class 'float'>\n",
      "(8+16j)\n",
      "Hii\n",
      "50\n",
      "<class 'str'>\n",
      "<class 'str'>\n",
      "<class 'bool'>\n"
     ]
    }
   ],
   "source": [
    "x=1 #assignment of variable\n",
    "y=2\n",
    "xy=100 # remember this is not x or y, xy is a completely new variable \n",
    "print(x)\n",
    "print(y)\n",
    "print(type(x)) # type function gives what is the datatype of the variable.\n",
    "print(type(xy))\n",
    "\n",
    "a,b=10,10.0 #multiple variables assignment\n",
    "print(a) \n",
    "print(b)\n",
    "print(type(a))\n",
    "print(type(b))\n",
    "\n",
    "c=8+16j #defining of complex number\n",
    "print(c)\n",
    "\n",
    "s=\"Hii\" #defining string awlays in double quotes\n",
    "s1=\"50\" #Now 12 is not integer its now string\n",
    "print(s)\n",
    "print(s1)\n",
    "print(type (s1))\n",
    "print(type(s))\n",
    "\n",
    "e=True #Boolean type variable\n",
    "print(type(e))\n",
    "\n",
    "del y # deleteing a variable:deletes y now if you print it it will throw error\n",
    "#print y now it gives error"
   ]
  },
  {
   "cell_type": "code",
   "execution_count": 12,
   "metadata": {},
   "outputs": [
    {
     "name": "stdout",
     "output_type": "stream",
     "text": [
      "Variable   Type       Data/Info\n",
      "-------------------------------\n",
      "a          int        10\n",
      "b          float      10.0\n",
      "c          complex    (8+16j)\n",
      "s          str        Hii\n",
      "s1         str        50\n",
      "x          int        1\n",
      "xy         int        100\n"
     ]
    }
   ],
   "source": [
    "%whos #it gives how many variables are there in memory "
   ]
  },
  {
   "cell_type": "code",
   "execution_count": 37,
   "metadata": {},
   "outputs": [
    {
     "name": "stdout",
     "output_type": "stream",
     "text": [
      "<class 'float'>\n"
     ]
    }
   ],
   "source": [
    "x=20.5\n",
    "print(type(x)) #we change the value of x to new value=20.5 and you can see its data type also changed to float.\n"
   ]
  },
  {
   "cell_type": "markdown",
   "metadata": {},
   "source": [
    "# Operaters in Python."
   ]
  },
  {
   "cell_type": "markdown",
   "metadata": {},
   "source": [
    "Some common operators in python:\n",
    "1. Arithmetic Operator: +, -, *, /, // etc\n",
    "2. Assignment Operator: =, +=, -=, *= etc\n",
    "3. Comparision Operator: ==, >, >=, <, <= etc\n",
    "4. Logical Operator: and, or, not.\n",
    "\n",
    "Lets play around and have fun with these operators."
   ]
  },
  {
   "cell_type": "code",
   "execution_count": 17,
   "metadata": {},
   "outputs": [],
   "source": [
    "sumofaAndb= a+b"
   ]
  },
  {
   "cell_type": "code",
   "execution_count": 38,
   "metadata": {},
   "outputs": [
    {
     "name": "stdout",
     "output_type": "stream",
     "text": [
      "20.0\n"
     ]
    }
   ],
   "source": [
    "print(sumofaAndb) # adding a and b"
   ]
  },
  {
   "cell_type": "code",
   "execution_count": 39,
   "metadata": {},
   "outputs": [
    {
     "data": {
      "text/plain": [
       "float"
      ]
     },
     "execution_count": 39,
     "metadata": {},
     "output_type": "execute_result"
    }
   ],
   "source": [
    "type(sumofaAndb) # adding float to integer result in float."
   ]
  },
  {
   "cell_type": "code",
   "execution_count": 22,
   "metadata": {},
   "outputs": [],
   "source": [
    "d = ((a+b)**3)/4"
   ]
  },
  {
   "cell_type": "code",
   "execution_count": 23,
   "metadata": {},
   "outputs": [
    {
     "data": {
      "text/plain": [
       "2000.0"
      ]
     },
     "execution_count": 23,
     "metadata": {},
     "output_type": "execute_result"
    }
   ],
   "source": [
    "d # simply wiriting variable name prints its value."
   ]
  },
  {
   "cell_type": "code",
   "execution_count": 26,
   "metadata": {},
   "outputs": [
    {
     "name": "stdout",
     "output_type": "stream",
     "text": [
      "Hii50\n"
     ]
    }
   ],
   "source": [
    "s2= s+s1 # we can add two string and it result in one single string, we going to see it in throughly in later chapters.\n",
    "print(s2)"
   ]
  },
  {
   "cell_type": "code",
   "execution_count": 41,
   "metadata": {},
   "outputs": [
    {
     "data": {
      "text/plain": [
       "3"
      ]
     },
     "execution_count": 41,
     "metadata": {},
     "output_type": "execute_result"
    }
   ],
   "source": [
    "10//3 # this is called floor divison it gives the integer part of the answer only. "
   ]
  },
  {
   "cell_type": "code",
   "execution_count": 28,
   "metadata": {},
   "outputs": [
    {
     "data": {
      "text/plain": [
       "3.3333333333333335"
      ]
     },
     "execution_count": 28,
     "metadata": {},
     "output_type": "execute_result"
    }
   ],
   "source": [
    "10/3 # this is simple division it divides number and give the decimal values also."
   ]
  },
  {
   "cell_type": "code",
   "execution_count": 29,
   "metadata": {},
   "outputs": [
    {
     "data": {
      "text/plain": [
       "3.3333333333333335"
      ]
     },
     "execution_count": 29,
     "metadata": {},
     "output_type": "execute_result"
    }
   ],
   "source": [
    "_ \n",
    "\n",
    "# _ gives the last value of what you calculated in the terminal. \n",
    "#dont assign anything to _ so its default property dont change. "
   ]
  },
  {
   "cell_type": "code",
   "execution_count": 42,
   "metadata": {},
   "outputs": [
    {
     "data": {
      "text/plain": [
       "8"
      ]
     },
     "execution_count": 42,
     "metadata": {},
     "output_type": "execute_result"
    }
   ],
   "source": [
    "2**3 # ** act as power of, so 2 power 3 results in 8 "
   ]
  },
  {
   "cell_type": "code",
   "execution_count": 43,
   "metadata": {},
   "outputs": [
    {
     "data": {
      "text/plain": [
       "1"
      ]
     },
     "execution_count": 43,
     "metadata": {},
     "output_type": "execute_result"
    }
   ],
   "source": [
    "10%3 # mod = %, this gives the remainder value after dividing."
   ]
  },
  {
   "cell_type": "code",
   "execution_count": 2,
   "metadata": {},
   "outputs": [
    {
     "name": "stdout",
     "output_type": "stream",
     "text": [
      "False\n",
      "False\n",
      "True\n",
      "True\n",
      "True\n"
     ]
    }
   ],
   "source": [
    "g=8\n",
    "h=10\n",
    "print(g==h) # comparision operator give false because 8 is not equal to 10, it always give answer in boolean i.e true or false.\n",
    "print(g>h)\n",
    "print(g<h)\n",
    "i=12\n",
    "j=12\n",
    "print(i>=j) # true because 12=12\n",
    "print(3==3.0) #comparing value discarding the decimal position"
   ]
  },
  {
   "cell_type": "code",
   "execution_count": 59,
   "metadata": {},
   "outputs": [
    {
     "data": {
      "text/plain": [
       "30"
      ]
     },
     "execution_count": 59,
     "metadata": {},
     "output_type": "execute_result"
    }
   ],
   "source": [
    "k = 15 \n",
    "k += 15 # it will add 15 to 15 then save it to k and print it and you run it several times it will add 15 in each run. \n",
    "k\n"
   ]
  },
  {
   "cell_type": "code",
   "execution_count": 60,
   "metadata": {},
   "outputs": [
    {
     "data": {
      "text/plain": [
       "True"
      ]
     },
     "execution_count": 60,
     "metadata": {},
     "output_type": "execute_result"
    }
   ],
   "source": [
    "l=45 \n",
    "m=50\n",
    "l != m # this operator is called not equals, as you can see clearly l is not equals to m, this also give boolean result."
   ]
  },
  {
   "cell_type": "code",
   "execution_count": 61,
   "metadata": {},
   "outputs": [
    {
     "data": {
      "text/plain": [
       "20"
      ]
     },
     "execution_count": 61,
     "metadata": {},
     "output_type": "execute_result"
    }
   ],
   "source": [
    "n = 20\n",
    "n =+ 20 # first it will print the value of  n then it will add 20 to it, so first you will see 20 then if yoy run it again it will show 40 and at the same time add 20 to it.\n",
    "n"
   ]
  },
  {
   "cell_type": "markdown",
   "metadata": {},
   "source": [
    "## Comments"
   ]
  },
  {
   "cell_type": "markdown",
   "metadata": {},
   "source": [
    "Comments are used to write something which the programmer does not want to execute.<br>\n",
    "It can be used to mark something next to code.<br>\n",
    "To use comment use #."
   ]
  },
  {
   "cell_type": "code",
   "execution_count": 1,
   "metadata": {},
   "outputs": [
    {
     "name": "stdout",
     "output_type": "stream",
     "text": [
      "10\n"
     ]
    }
   ],
   "source": [
    "o = 10\n",
    "print(o) # HII!!! this is comment, this is not executed."
   ]
  },
  {
   "cell_type": "markdown",
   "metadata": {},
   "source": [
    "## type() function and Typecasting"
   ]
  },
  {
   "cell_type": "markdown",
   "metadata": {},
   "source": [
    "type() functions is used to find the dat type of the variable in python.<br>\n",
    "typecasting is used to convert datatype of variables.<br> "
   ]
  },
  {
   "cell_type": "code",
   "execution_count": 7,
   "metadata": {},
   "outputs": [
    {
     "name": "stdout",
     "output_type": "stream",
     "text": [
      "<class 'int'>\n"
     ]
    }
   ],
   "source": [
    "p=10\n",
    "print(type(p)) #this gives the datatype of the variavle"
   ]
  },
  {
   "cell_type": "code",
   "execution_count": 3,
   "metadata": {},
   "outputs": [
    {
     "data": {
      "text/plain": [
       "32"
      ]
     },
     "execution_count": 3,
     "metadata": {},
     "output_type": "execute_result"
    }
   ],
   "source": [
    "int(\"32\") # 32 as a string gets converted to int datatype"
   ]
  },
  {
   "cell_type": "code",
   "execution_count": 6,
   "metadata": {},
   "outputs": [
    {
     "data": {
      "text/plain": [
       "45.0"
      ]
     },
     "execution_count": 6,
     "metadata": {},
     "output_type": "execute_result"
    }
   ],
   "source": [
    "float(45) # int type 45 converted to float type"
   ]
  },
  {
   "cell_type": "code",
   "execution_count": 5,
   "metadata": {},
   "outputs": [
    {
     "data": {
      "text/plain": [
       "'31'"
      ]
     },
     "execution_count": 5,
     "metadata": {},
     "output_type": "execute_result"
    }
   ],
   "source": [
    "str(31) # int type 31 converted to string type\n",
    "#... and so on."
   ]
  },
  {
   "cell_type": "markdown",
   "metadata": {},
   "source": [
    "## input() function"
   ]
  },
  {
   "cell_type": "markdown",
   "metadata": {},
   "source": [
    "This function allows the user to take input from the user with help of keyboard as a string. <br>\n",
    "Note: The output of input is always a string (even if the number is entered)."
   ]
  },
  {
   "cell_type": "code",
   "execution_count": 1,
   "metadata": {},
   "outputs": [
    {
     "name": "stdout",
     "output_type": "stream",
     "text": [
      "Enter Name john wick\n"
     ]
    }
   ],
   "source": [
    "q= input(\"Enter Name \")"
   ]
  },
  {
   "cell_type": "code",
   "execution_count": 3,
   "metadata": {},
   "outputs": [
    {
     "name": "stdout",
     "output_type": "stream",
     "text": [
      "Enter a Integer:25\n"
     ]
    }
   ],
   "source": [
    "r= int(input(\"Enter a Integer:\")) #typecasting the input(str) to int."
   ]
  },
  {
   "cell_type": "code",
   "execution_count": 4,
   "metadata": {},
   "outputs": [
    {
     "data": {
      "text/plain": [
       "int"
      ]
     },
     "execution_count": 4,
     "metadata": {},
     "output_type": "execute_result"
    }
   ],
   "source": [
    "type(r)"
   ]
  },
  {
   "cell_type": "markdown",
   "metadata": {},
   "source": [
    "## If you dont know how to use a function: type function name followed by ? run it, then the documentation will open!"
   ]
  },
  {
   "cell_type": "code",
   "execution_count": 1,
   "metadata": {},
   "outputs": [],
   "source": [
    "input?"
   ]
  },
  {
   "cell_type": "markdown",
   "metadata": {},
   "source": [
    "## Please ignore my bad typing skill I always do some mistakes while typing and also sorry if I write bad grammer sometime! But I am improving day by day so stay tuned!"
   ]
  },
  {
   "cell_type": "markdown",
   "metadata": {},
   "source": [
    "## Thank you thats all for chapter 1, hope to see you in next! Till then take good care of yourself! bye!"
   ]
  }
 ],
 "metadata": {
  "kernelspec": {
   "display_name": "Python 3",
   "language": "python",
   "name": "python3"
  },
  "language_info": {
   "codemirror_mode": {
    "name": "ipython",
    "version": 3
   },
   "file_extension": ".py",
   "mimetype": "text/x-python",
   "name": "python",
   "nbconvert_exporter": "python",
   "pygments_lexer": "ipython3",
   "version": "3.8.3"
  }
 },
 "nbformat": 4,
 "nbformat_minor": 4
}
