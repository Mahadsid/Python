{
 "cells": [
  {
   "cell_type": "markdown",
   "metadata": {},
   "source": [
    "# JSON<br>\n",
    "JSON (JavaScript Object Notation) is a leightweight data format for data exchange. In Python you have the built-in json module for encoding and decoding JSON data. <br>\n",
    "Some advantages of JSON:<br>\n",
    "\n",
    "JSON exists as a \"sequence of bytes\" which is very useful in the case we need to transmit (stream) data over a network.<br>\n",
    "Compared to XML, JSON is much smaller, translating into faster data transfers, and better experiences.<br>\n",
    "JSON is extremely human-friendly since it is textual, and simultaneously machine-friendly.<br>"
   ]
  },
  {
   "cell_type": "code",
   "execution_count": 1,
   "metadata": {},
   "outputs": [
    {
     "data": {
      "text/plain": [
       "{'firstName': 'Jane',\n",
       " 'lastName': 'Doe',\n",
       " 'hobbies': ['running', 'swimming', 'singing'],\n",
       " 'age': 28,\n",
       " 'children': [{'firstName': 'Alex', 'age': 5}, {'firstName': 'Bob', 'age': 7}]}"
      ]
     },
     "execution_count": 1,
     "metadata": {},
     "output_type": "execute_result"
    }
   ],
   "source": [
    "import json\n",
    "{\n",
    "    \"firstName\": \"Jane\",\n",
    "    \"lastName\": \"Doe\",\n",
    "    \"hobbies\": [\"running\", \"swimming\", \"singing\"],\n",
    "    \"age\": 28,\n",
    "    \"children\": [\n",
    "        {\n",
    "            \"firstName\": \"Alex\",\n",
    "            \"age\": 5\n",
    "        },\n",
    "        {\n",
    "            \"firstName\": \"Bob\",\n",
    "            \"age\": 7\n",
    "        }\n",
    "    ]\n",
    "}"
   ]
  },
  {
   "cell_type": "markdown",
   "metadata": {},
   "source": [
    "JSON supports primitive types (strings, numbers, boolean), as well as nested arrays and objects. Simple Python objects are translated to JSON according to the following conversion:<br>\n",
    "\n",
    "Python\t      --->      JSON<br>\n",
    "\n",
    "dict\t        --->     object<br>\n",
    "list,tuple\t     --->    array<br>\n",
    "str\t             --->    string<br>\n",
    "int, long, float\t---> number<br>\n",
    "True\t          --->   true<br>\n",
    "False\t         --->    false<br>\n",
    "None\t         --->    null<br>"
   ]
  },
  {
   "cell_type": "markdown",
   "metadata": {},
   "source": [
    "# Serialization ,, Python to JSON<br>\n",
    "Convert Python objects into a JSON string with the json.dumps() method."
   ]
  },
  {
   "cell_type": "code",
   "execution_count": 2,
   "metadata": {},
   "outputs": [
    {
     "name": "stdout",
     "output_type": "stream",
     "text": [
      "{\"name\": \"Jeffery\", \"age\": 30, \"city\": \"California\", \"hasChildren\": false, \"titles\": [\"CEO\", \"entrepreneur\"]}\n",
      "{\n",
      "    \"age\"= 30; \n",
      "    \"city\"= \"California\"; \n",
      "    \"hasChildren\"= false; \n",
      "    \"name\"= \"Jeffery\"; \n",
      "    \"titles\"= [\n",
      "        \"CEO\"; \n",
      "        \"entrepreneur\"\n",
      "    ]\n",
      "}\n"
     ]
    }
   ],
   "source": [
    "import json\n",
    "\n",
    "person = {\"name\": \"Jeffery\", \"age\": 30, \"city\": \"California\", \"hasChildren\": False, \"titles\": [\"CEO\", \"entrepreneur\"]}\n",
    "\n",
    "\n",
    "person_json = json.dumps(person)# convert into JSON:\n",
    "\n",
    "person_json2 = json.dumps(person, indent=4, separators=(\"; \", \"= \"), sort_keys=True)# use different formatting style\n",
    "\n",
    "\n",
    "print(person_json) \n",
    "print(person_json2)"
   ]
  },
  {
   "cell_type": "code",
   "execution_count": 4,
   "metadata": {},
   "outputs": [],
   "source": [
    "import json\n",
    "\n",
    "person = {\"name\": \"John\", \"age\": 30, \"city\": \"New York\", \"hasChildren\": False, \"titles\": [\"engineer\", \"programmer\"]}\n",
    "\n",
    "with open('person.json', 'w') as f:\n",
    "    json.dump(person, f)"
   ]
  },
  {
   "cell_type": "markdown",
   "metadata": {},
   "source": [
    "# Deserialization, Decode, JSON to Python"
   ]
  },
  {
   "cell_type": "code",
   "execution_count": 5,
   "metadata": {},
   "outputs": [
    {
     "name": "stdout",
     "output_type": "stream",
     "text": [
      "{'age': 30, 'city': 'New York', 'hasChildren': False, 'name': 'John', 'titles': ['engineer', 'programmer']}\n"
     ]
    }
   ],
   "source": [
    "\n",
    "import json\n",
    "person_json = \"\"\"\n",
    "{\n",
    "    \"age\": 30, \n",
    "    \"city\": \"New York\",\n",
    "    \"hasChildren\": false, \n",
    "    \"name\": \"John\",\n",
    "    \"titles\": [\n",
    "        \"engineer\",\n",
    "        \"programmer\"\n",
    "    ]\n",
    "}\n",
    "\"\"\"\n",
    "person = json.loads(person_json)\n",
    "print(person)"
   ]
  },
  {
   "cell_type": "code",
   "execution_count": 7,
   "metadata": {},
   "outputs": [
    {
     "name": "stdout",
     "output_type": "stream",
     "text": [
      "{'name': 'John', 'age': 30, 'city': 'New York', 'hasChildren': False, 'titles': ['engineer', 'programmer']}\n"
     ]
    }
   ],
   "source": [
    "import json\n",
    "\n",
    "with open('person.json', 'r') as f:\n",
    "    person = json.load(f)\n",
    "    print(person)"
   ]
  },
  {
   "cell_type": "code",
   "execution_count": 8,
   "metadata": {},
   "outputs": [
    {
     "name": "stdout",
     "output_type": "stream",
     "text": [
      "{\"tom\": {\"name\": \"tom\", \"address\": \"skystreet, CL\"}, \"bob\": {\"name\": \"bob\", \"address\": \"builder, UK\"}}\n"
     ]
    }
   ],
   "source": [
    "book = {}\n",
    "book['tom']={\n",
    "    'name':'tom',\n",
    "    'address':'skystreet, CL'\n",
    "\n",
    "}\n",
    "book['bob']={\n",
    "    'name':'bob',\n",
    "    'address':'builder, UK'\n",
    "\n",
    "}\n",
    "import json\n",
    "s=json.dumps(book)\n",
    "print(s)\n",
    "with open(\"F://Datascience//2.Python//book.txt\",\"w\") as f:\n",
    "    f.write(s)"
   ]
  }
 ],
 "metadata": {
  "kernelspec": {
   "display_name": "Python 3",
   "language": "python",
   "name": "python3"
  },
  "language_info": {
   "codemirror_mode": {
    "name": "ipython",
    "version": 3
   },
   "file_extension": ".py",
   "mimetype": "text/x-python",
   "name": "python",
   "nbconvert_exporter": "python",
   "pygments_lexer": "ipython3",
   "version": "3.8.3"
  }
 },
 "nbformat": 4,
 "nbformat_minor": 4
}
