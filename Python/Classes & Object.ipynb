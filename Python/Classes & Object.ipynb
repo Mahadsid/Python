{
 "cells": [
  {
   "cell_type": "code",
   "execution_count": 4,
   "metadata": {},
   "outputs": [
    {
     "name": "stdout",
     "output_type": "stream",
     "text": [
      "area:  100.0\n"
     ]
    }
   ],
   "source": [
    "def calclulate_area(base, height):\n",
    "    return 1/2*(base*height)\n",
    "if __name__ == \"__main__\":\n",
    "    a=calclulate_area(10,20)\n",
    "    print(\"area: \",a)"
   ]
  },
  {
   "cell_type": "markdown",
   "metadata": {},
   "source": [
    "# Class"
   ]
  },
  {
   "cell_type": "code",
   "execution_count": 7,
   "metadata": {},
   "outputs": [
    {
     "name": "stdout",
     "output_type": "stream",
     "text": [
      "jerry employee\n",
      "jerry hii!!\n",
      "tom student\n",
      "tom hii!!\n"
     ]
    }
   ],
   "source": [
    "class human:\n",
    "    def __init__(self,n,a): #properties\n",
    "        self.name=n\n",
    "        self.age=a\n",
    "        \n",
    "    def occupation(self): #methods\n",
    "        if self.age <= 20:\n",
    "            print(self.name,\"student\")\n",
    "        elif self.age > 20:\n",
    "            print(self.name, \"employee\")\n",
    "        \n",
    "    def speaks(self):\n",
    "        print(self.name, \"hii!!\")\n",
    "        \n",
    "        \n",
    "j = human(\"jerry\",35) # creating instance of a class\n",
    "j.occupation()\n",
    "j.speaks()\n",
    "\n",
    "t= human(\"tom\",10)\n",
    "t.occupation()\n",
    "t.speaks()"
   ]
  },
  {
   "cell_type": "code",
   "execution_count": null,
   "metadata": {},
   "outputs": [],
   "source": []
  }
 ],
 "metadata": {
  "kernelspec": {
   "display_name": "Python 3",
   "language": "python",
   "name": "python3"
  },
  "language_info": {
   "codemirror_mode": {
    "name": "ipython",
    "version": 3
   },
   "file_extension": ".py",
   "mimetype": "text/x-python",
   "name": "python",
   "nbconvert_exporter": "python",
   "pygments_lexer": "ipython3",
   "version": "3.8.3"
  }
 },
 "nbformat": 4,
 "nbformat_minor": 4
}
