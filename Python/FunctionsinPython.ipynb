{
 "cells": [
  {
   "cell_type": "markdown",
   "metadata": {},
   "source": [
    "# Functions"
   ]
  },
  {
   "cell_type": "markdown",
   "metadata": {},
   "source": [
    "A function is a group of statements performing a specific task.<br>\n",
    "When a program get big in size of lines, a function is used to keep track which thing is doing what.<br>\n",
    "A function can be reused any no of times.<br>\n",
    "syntax:<br>\n",
    "def fun1():<br>\n",
    "print(\"hello world\")<br>\n",
    "Function is declared by typing: def function_name()<br>\n",
    "Function can take parameters.\n",
    "\n"
   ]
  },
  {
   "cell_type": "markdown",
   "metadata": {},
   "source": [
    "#### Function Call<br>\n",
    "Whenever a function is needed, to call a function, put name of function followed by paranthesis and can pass arguments in paranthesis if function have any<br>\n",
    "\n",
    "so Function defination: The part containing the exact set of instructions which are executed during the function call.<br>\n"
   ]
  },
  {
   "cell_type": "markdown",
   "metadata": {},
   "source": [
    "### Types of Function<br>\n",
    "There are two types of function in python<br>\n",
    "1.Built in Functions: len(), range() etc <br>\n",
    "2.User Defined Functions: fun1() etc //defined by user \n"
   ]
  },
  {
   "cell_type": "code",
   "execution_count": 1,
   "metadata": {},
   "outputs": [],
   "source": [
    "def display():\n",
    "    print(\"PRINTING\")\n",
    "    print(\"HII! I am inside function\")"
   ]
  },
  {
   "cell_type": "code",
   "execution_count": 2,
   "metadata": {},
   "outputs": [
    {
     "name": "stdout",
     "output_type": "stream",
     "text": [
      "PRINTING\n",
      "HII! I am inside function\n"
     ]
    }
   ],
   "source": [
    "display() # calling of a function"
   ]
  },
  {
   "cell_type": "code",
   "execution_count": 3,
   "metadata": {},
   "outputs": [
    {
     "name": "stdout",
     "output_type": "stream",
     "text": [
      "Hello I am outside function\n",
      "PRINTING\n",
      "HII! I am inside function\n"
     ]
    }
   ],
   "source": [
    "print(\"Hello I am outside function\")\n",
    "display() # write once call from anywhere anytime!"
   ]
  },
  {
   "cell_type": "markdown",
   "metadata": {},
   "source": [
    "### Functions (Docs String) : to know what the function is doing without seeing the full implementation"
   ]
  },
  {
   "cell_type": "markdown",
   "metadata": {},
   "source": [
    "Syntax: after defining a function use triple qotes\"\"\" \"\"\" to enclose the doc of function"
   ]
  },
  {
   "cell_type": "code",
   "execution_count": 4,
   "metadata": {},
   "outputs": [],
   "source": [
    "def display1():\n",
    "    \"\"\" This function display a hello message.\n",
    "    \"\"\"\n",
    "    print(\"Hello!!\")"
   ]
  },
  {
   "cell_type": "code",
   "execution_count": 16,
   "metadata": {},
   "outputs": [],
   "source": [
    "display1?"
   ]
  },
  {
   "cell_type": "code",
   "execution_count": 17,
   "metadata": {},
   "outputs": [],
   "source": [
    "#You can see the documentation , with ?? you can also see the implementation as well.\n",
    "# its a good habit to write docs for your functions in lenghty code"
   ]
  },
  {
   "cell_type": "code",
   "execution_count": 18,
   "metadata": {},
   "outputs": [
    {
     "name": "stdout",
     "output_type": "stream",
     "text": [
      "Help on function display1 in module __main__:\n",
      "\n",
      "display1()\n",
      "    This function display a hello message.\n",
      "\n"
     ]
    }
   ],
   "source": [
    "help(display1) # this also tells about function"
   ]
  },
  {
   "cell_type": "markdown",
   "metadata": {},
   "source": [
    "## Function with Arguments <br>\n",
    "A function can accept some values it can work with.<br>\n",
    "We can put those values in the paranthesis<br>\n",
    "A function can also returns value as shown below:"
   ]
  },
  {
   "cell_type": "code",
   "execution_count": 5,
   "metadata": {},
   "outputs": [],
   "source": [
    "def greet(name): #function that take name as an argument\n",
    "    gr=\"Hello \" +  name\n",
    "    return gr"
   ]
  },
  {
   "cell_type": "code",
   "execution_count": 6,
   "metadata": {},
   "outputs": [
    {
     "name": "stdout",
     "output_type": "stream",
     "text": [
      "Hello John\n"
     ]
    }
   ],
   "source": [
    "a=greet(\"John\") #calling and passing the argument\n",
    "print(a)"
   ]
  },
  {
   "cell_type": "markdown",
   "metadata": {},
   "source": [
    "Note: at time of defining the function we define its \"Parameter\" and at time of calling we pass \"argumnets\", so remember it this way \"Arguments are real\" that what real value we pass!"
   ]
  },
  {
   "cell_type": "markdown",
   "metadata": {},
   "source": [
    "## Default Parameter value"
   ]
  },
  {
   "cell_type": "markdown",
   "metadata": {},
   "source": [
    "we can have a default value arugment in a function.<br>\n",
    "If we specify name=\"stranger\" in the line containing def, this value is used when no argument is passed, take a look:\n"
   ]
  },
  {
   "cell_type": "code",
   "execution_count": 7,
   "metadata": {},
   "outputs": [],
   "source": [
    "def greet1(name=\"stranger\"):\n",
    "    g1=\"Hii! \" + name\n",
    "    return g1"
   ]
  },
  {
   "cell_type": "code",
   "execution_count": 8,
   "metadata": {},
   "outputs": [
    {
     "name": "stdout",
     "output_type": "stream",
     "text": [
      "Hii! stranger\n"
     ]
    }
   ],
   "source": [
    "b=greet1() #with no argument, using default value\n",
    "print(b)"
   ]
  },
  {
   "cell_type": "code",
   "execution_count": 9,
   "metadata": {},
   "outputs": [
    {
     "name": "stdout",
     "output_type": "stream",
     "text": [
      "Hii! wick\n"
     ]
    }
   ],
   "source": [
    "c=greet1(\"wick\") #with argument, using argument value\n",
    "print(c)"
   ]
  },
  {
   "cell_type": "markdown",
   "metadata": {},
   "source": [
    "## Function example"
   ]
  },
  {
   "cell_type": "code",
   "execution_count": 16,
   "metadata": {},
   "outputs": [],
   "source": [
    "def typeofmsg(msg):\n",
    "    \"\"\"Docs:- This functin prints the  type of message is in string or in other type\"\"\"\n",
    "    if isinstance(msg,str):\n",
    "        print(msg)\n",
    "    else:\n",
    "        print(\"Your given msg is not in string type\")\n",
    "        print(\"The given msg is of type: \",type(msg))"
   ]
  },
  {
   "cell_type": "code",
   "execution_count": 17,
   "metadata": {},
   "outputs": [
    {
     "name": "stdout",
     "output_type": "stream",
     "text": [
      "Enter your message12\n",
      "12\n"
     ]
    }
   ],
   "source": [
    "#msg=input(\"Enter your message\"), silly me! here i thought using input from user and give 12 as msg and it should print \"not in string type\"\n",
    "#so i forget that input function always take input as string even you give another datatype value, so you thats why you have to practice more and learn from mistakes is the best learning!!\n",
    "typeofmsg(msg)"
   ]
  },
  {
   "cell_type": "code",
   "execution_count": 18,
   "metadata": {},
   "outputs": [
    {
     "name": "stdout",
     "output_type": "stream",
     "text": [
      "Your given msg is not in string type\n",
      "The given msg is of type:  <class 'int'>\n"
     ]
    }
   ],
   "source": [
    "typeofmsg(12)"
   ]
  },
  {
   "cell_type": "code",
   "execution_count": 19,
   "metadata": {},
   "outputs": [
    {
     "name": "stdout",
     "output_type": "stream",
     "text": [
      "2021\n"
     ]
    }
   ],
   "source": [
    "typeofmsg(\"2021\") # here I make int as a string."
   ]
  },
  {
   "cell_type": "code",
   "execution_count": 20,
   "metadata": {},
   "outputs": [
    {
     "name": "stdout",
     "output_type": "stream",
     "text": [
      "This is John, John Wick\n"
     ]
    }
   ],
   "source": [
    "typeofmsg(\"This is John, John Wick\")"
   ]
  },
  {
   "cell_type": "markdown",
   "metadata": {},
   "source": [
    "### Function with more than one argument"
   ]
  },
  {
   "cell_type": "code",
   "execution_count": 21,
   "metadata": {},
   "outputs": [],
   "source": [
    "def power(a,b):\n",
    "    c=a**b\n",
    "    print(c)"
   ]
  },
  {
   "cell_type": "code",
   "execution_count": 23,
   "metadata": {},
   "outputs": [
    {
     "name": "stdout",
     "output_type": "stream",
     "text": [
      "256\n"
     ]
    }
   ],
   "source": [
    "power(2,8)"
   ]
  },
  {
   "cell_type": "code",
   "execution_count": 26,
   "metadata": {},
   "outputs": [],
   "source": [
    "def checktype (w,x,y,z):\n",
    "    if isinstance(w,(int,float)) and isinstance(x,(int,float)) and isinstance(y,(int,float)) and isinstance(z,(int,float)):\n",
    "        print(w+x*y+z)\n",
    "    else:\n",
    "        print(\"Arguments are not of float or int type\")\n",
    "    "
   ]
  },
  {
   "cell_type": "code",
   "execution_count": 27,
   "metadata": {},
   "outputs": [
    {
     "name": "stdout",
     "output_type": "stream",
     "text": [
      "36\n"
     ]
    }
   ],
   "source": [
    "checktype(1,4,8,3)"
   ]
  },
  {
   "cell_type": "code",
   "execution_count": 28,
   "metadata": {},
   "outputs": [
    {
     "name": "stdout",
     "output_type": "stream",
     "text": [
      "Arguments are not of float or int type\n"
     ]
    }
   ],
   "source": [
    "checktype(4,5,\"a\",7) # agrguments shold be passed exact 4 argument, not more neither less and of defined type. "
   ]
  },
  {
   "cell_type": "markdown",
   "metadata": {},
   "source": [
    "## Function(order of input arguments)"
   ]
  },
  {
   "cell_type": "code",
   "execution_count": 29,
   "metadata": {},
   "outputs": [],
   "source": [
    "def fu(a,b,c):\n",
    "    print(\"1 is :\",a)\n",
    "    print(\"2 is :\",b)\n",
    "    print(\"3 is :\",c)"
   ]
  },
  {
   "cell_type": "code",
   "execution_count": 30,
   "metadata": {},
   "outputs": [
    {
     "name": "stdout",
     "output_type": "stream",
     "text": [
      "1 is : eat\n",
      "2 is : sleep\n",
      "3 is : repeat\n"
     ]
    }
   ],
   "source": [
    "fu(\"eat\",\"sleep\",\"repeat\")"
   ]
  },
  {
   "cell_type": "code",
   "execution_count": 31,
   "metadata": {},
   "outputs": [
    {
     "name": "stdout",
     "output_type": "stream",
     "text": [
      "1 is : sleep\n",
      "2 is : repeat\n",
      "3 is : eat\n"
     ]
    }
   ],
   "source": [
    "fu(\"sleep\",\"repeat\",\"eat\") # order is changing if we change the arguments,"
   ]
  },
  {
   "cell_type": "code",
   "execution_count": 32,
   "metadata": {},
   "outputs": [
    {
     "name": "stdout",
     "output_type": "stream",
     "text": [
      "1 is : eat\n",
      "2 is : sleep\n",
      "3 is : repeat\n"
     ]
    }
   ],
   "source": [
    "#to stop changing order we defined it at the time of passing\n",
    "fu(b=\"sleep\",c=\"repeat\",a=\"eat\") # now it will print accordingly, but we have to know the placement"
   ]
  },
  {
   "cell_type": "markdown",
   "metadata": {},
   "source": [
    "## Function(variable inside)"
   ]
  },
  {
   "cell_type": "code",
   "execution_count": 40,
   "metadata": {},
   "outputs": [],
   "source": [
    "def addition(a,b):\n",
    "    c=a+b # this variable is not accessed outside this function\n",
    "    return c # you have to return the vlaue to where it gets called otherwise it shows none, due to return we get to access that variable outside the function"
   ]
  },
  {
   "cell_type": "code",
   "execution_count": 41,
   "metadata": {},
   "outputs": [
    {
     "name": "stdout",
     "output_type": "stream",
     "text": [
      "10\n"
     ]
    }
   ],
   "source": [
    "add = addition(5,5)\n",
    "#print(c) # throws error \n",
    "print(add)"
   ]
  },
  {
   "cell_type": "code",
   "execution_count": 42,
   "metadata": {},
   "outputs": [],
   "source": [
    "# multiple values can be accessed through return\n",
    "def r():\n",
    "    h=5\n",
    "    j=10\n",
    "    k=\"wassup\"\n",
    "    return h, j, k"
   ]
  },
  {
   "cell_type": "code",
   "execution_count": 43,
   "metadata": {},
   "outputs": [
    {
     "name": "stdout",
     "output_type": "stream",
     "text": [
      "5 10 wassup\n"
     ]
    }
   ],
   "source": [
    "i,o,p = r() #order is important, values returned in order'ed way\n",
    "print(i,o,p)"
   ]
  },
  {
   "cell_type": "markdown",
   "metadata": {},
   "source": [
    "## Function (any number of arguments)"
   ]
  },
  {
   "cell_type": "code",
   "execution_count": 44,
   "metadata": {},
   "outputs": [],
   "source": [
    "def add1(*args): #*args act like a list and the no of arguments you passed it stores them all in\n",
    "    sum=0\n",
    "    for i in range(len(args)):\n",
    "        sum+=args[i]\n",
    "    return sum"
   ]
  },
  {
   "cell_type": "code",
   "execution_count": 45,
   "metadata": {},
   "outputs": [
    {
     "data": {
      "text/plain": [
       "34"
      ]
     },
     "execution_count": 45,
     "metadata": {},
     "output_type": "execute_result"
    }
   ],
   "source": [
    "add1(1,5,9,6,7,6)"
   ]
  },
  {
   "cell_type": "code",
   "execution_count": 46,
   "metadata": {},
   "outputs": [
    {
     "data": {
      "text/plain": [
       "3"
      ]
     },
     "execution_count": 46,
     "metadata": {},
     "output_type": "execute_result"
    }
   ],
   "source": [
    "add1(1,2)"
   ]
  },
  {
   "cell_type": "code",
   "execution_count": 47,
   "metadata": {},
   "outputs": [
    {
     "data": {
      "text/plain": [
       "2"
      ]
     },
     "execution_count": 47,
     "metadata": {},
     "output_type": "execute_result"
    }
   ],
   "source": [
    "add1(2)"
   ]
  },
  {
   "cell_type": "code",
   "execution_count": 49,
   "metadata": {},
   "outputs": [
    {
     "data": {
      "text/plain": [
       "0"
      ]
     },
     "execution_count": 49,
     "metadata": {},
     "output_type": "execute_result"
    }
   ],
   "source": [
    "add1() # any no of arguments can be passed without worrying!"
   ]
  },
  {
   "cell_type": "markdown",
   "metadata": {},
   "source": [
    "## Function(any number arguments) but in ordered way!"
   ]
  },
  {
   "cell_type": "code",
   "execution_count": 50,
   "metadata": {},
   "outputs": [],
   "source": [
    "def fun2(**c): #with ** means we have key value pair list, every element would be associated with key\n",
    "    for x in c:\n",
    "        print(x,c[x])"
   ]
  },
  {
   "cell_type": "code",
   "execution_count": 52,
   "metadata": {},
   "outputs": [
    {
     "name": "stdout",
     "output_type": "stream",
     "text": [
      "c1 eat\n",
      "c2 sleep\n",
      "c3 code\n",
      "c4 repeat\n",
      "c5 3000\n"
     ]
    }
   ],
   "source": [
    "fun2(c1=\"eat\", c2=\"sleep\", c3=\"code\", c4=\"repeat\", c5=3000)"
   ]
  },
  {
   "cell_type": "code",
   "execution_count": null,
   "metadata": {},
   "outputs": [],
   "source": []
  },
  {
   "cell_type": "markdown",
   "metadata": {},
   "source": [
    "# Recurssion"
   ]
  },
  {
   "cell_type": "markdown",
   "metadata": {},
   "source": [
    "Recurssion is a funcyion which call itself.<br>\n",
    "It is used to directly use a mathematical formula as a function<br>\n",
    "Have to apply some base condition to terminate recurrsion otherwise it goes infinitely."
   ]
  },
  {
   "cell_type": "code",
   "execution_count": 12,
   "metadata": {},
   "outputs": [],
   "source": [
    "def factorial(n):\n",
    "    if n==0 or n==1:\n",
    "        return 1  \n",
    "    else:\n",
    "        return n*factorial(n-1)"
   ]
  },
  {
   "cell_type": "markdown",
   "metadata": {},
   "source": [
    "### working\n",
    " factorial(4) #function called<br>\n",
    "     4* factorial(3) #because factorial(n-1)<br>\n",
    "         4 * 3 * factorial(2)<br>\n",
    "             4 * 3 * 2 * factorial(1)  # and now when 1 is passed so we written a terminate condition that when n=1, return 1 so:<br>\n",
    "                 4 * 3 * 2 * 1  # this gives result 24. and that what we wanted<br>\n",
    "                 "
   ]
  },
  {
   "cell_type": "code",
   "execution_count": 13,
   "metadata": {},
   "outputs": [
    {
     "data": {
      "text/plain": [
       "24"
      ]
     },
     "execution_count": 13,
     "metadata": {},
     "output_type": "execute_result"
    }
   ],
   "source": [
    "factorial(4)"
   ]
  },
  {
   "cell_type": "code",
   "execution_count": 14,
   "metadata": {},
   "outputs": [
    {
     "data": {
      "text/plain": [
       "1"
      ]
     },
     "execution_count": 14,
     "metadata": {},
     "output_type": "execute_result"
    }
   ],
   "source": [
    "factorial(0)"
   ]
  },
  {
   "cell_type": "code",
   "execution_count": 15,
   "metadata": {},
   "outputs": [
    {
     "data": {
      "text/plain": [
       "1"
      ]
     },
     "execution_count": 15,
     "metadata": {},
     "output_type": "execute_result"
    }
   ],
   "source": [
    "factorial(1)"
   ]
  },
  {
   "cell_type": "markdown",
   "metadata": {},
   "source": [
    "## Ques: write a function for sorting a list in ascending order, and place that sorted list into another list?"
   ]
  },
  {
   "cell_type": "code",
   "execution_count": 79,
   "metadata": {},
   "outputs": [],
   "source": [
    "def findminimum(L,startindx):\n",
    "    m=L[startindx]\n",
    "    indx=startindx\n",
    "    for i in range(startindx,len(L)):\n",
    "        x=L[i]\n",
    "        if x<m:\n",
    "            m = x\n",
    "            indx = i\n",
    "        else:\n",
    "            pass\n",
    "        i+=1\n",
    "    return m,indx"
   ]
  },
  {
   "cell_type": "code",
   "execution_count": 71,
   "metadata": {},
   "outputs": [],
   "source": [
    "a,b= findminimum([2,3,4,0])\n"
   ]
  },
  {
   "cell_type": "code",
   "execution_count": 72,
   "metadata": {},
   "outputs": [
    {
     "name": "stdout",
     "output_type": "stream",
     "text": [
      "0 3\n"
     ]
    }
   ],
   "source": [
    "print(a,b)"
   ]
  },
  {
   "cell_type": "code",
   "execution_count": 73,
   "metadata": {},
   "outputs": [],
   "source": [
    "def swapval(L,indx1,indx2):\n",
    "    temp=L[indx1]\n",
    "    L[indx1]=L[indx2]\n",
    "    L[indx2]=temp\n",
    "    return L"
   ]
  },
  {
   "cell_type": "code",
   "execution_count": 78,
   "metadata": {},
   "outputs": [
    {
     "name": "stdout",
     "output_type": "stream",
     "text": [
      "[2, 7, 6, 3]\n"
     ]
    }
   ],
   "source": [
    "L=[2,3,6,7]\n",
    "L2 = swapval(L,1,3)\n",
    "print(L2)"
   ]
  },
  {
   "cell_type": "code",
   "execution_count": 88,
   "metadata": {},
   "outputs": [],
   "source": [
    "def checkfornumeric2(L):\n",
    "    for x in L:\n",
    "        if not(isinstance(x,(int,float))):\n",
    "             return False\n",
    "       \n",
    "    return True"
   ]
  },
  {
   "cell_type": "code",
   "execution_count": 89,
   "metadata": {},
   "outputs": [
    {
     "data": {
      "text/plain": [
       "True"
      ]
     },
     "execution_count": 89,
     "metadata": {},
     "output_type": "execute_result"
    }
   ],
   "source": [
    "checkfornumeric2([2,5,6,3,7,8,9])"
   ]
  },
  {
   "cell_type": "code",
   "execution_count": 90,
   "metadata": {},
   "outputs": [],
   "source": [
    "\n",
    "def sorting(L):\n",
    "    if not(checkfornumeric2(L)):\n",
    "        print(\"List does not have numeric values\")\n",
    "        return\n",
    "    else:\n",
    "        c=0\n",
    "        for x in L:\n",
    "            m,indx=findminimum(L,c)\n",
    "            L=swapval(L,c,indx)\n",
    "            c+=1\n",
    "            \n",
    "    return L\n",
    "            \n",
    "    "
   ]
  },
  {
   "cell_type": "code",
   "execution_count": 91,
   "metadata": {},
   "outputs": [],
   "source": [
    "L2=sorting([2,5,6,3,7,8,9])"
   ]
  },
  {
   "cell_type": "code",
   "execution_count": 92,
   "metadata": {},
   "outputs": [
    {
     "data": {
      "text/plain": [
       "[2, 3, 5, 6, 7, 8, 9]"
      ]
     },
     "execution_count": 92,
     "metadata": {},
     "output_type": "execute_result"
    }
   ],
   "source": [
    "L2"
   ]
  },
  {
   "cell_type": "code",
   "execution_count": null,
   "metadata": {},
   "outputs": [],
   "source": []
  }
 ],
 "metadata": {
  "kernelspec": {
   "display_name": "Python 3",
   "language": "python",
   "name": "python3"
  },
  "language_info": {
   "codemirror_mode": {
    "name": "ipython",
    "version": 3
   },
   "file_extension": ".py",
   "mimetype": "text/x-python",
   "name": "python",
   "nbconvert_exporter": "python",
   "pygments_lexer": "ipython3",
   "version": "3.8.3"
  }
 },
 "nbformat": 4,
 "nbformat_minor": 4
}
