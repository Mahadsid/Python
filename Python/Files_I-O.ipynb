{
 "cells": [
  {
   "cell_type": "markdown",
   "metadata": {},
   "source": [
    "# File<br>\n",
    "A file is where data is stored in a storage device.<br>\n",
    "A program can talk to the file by reading content from it and writing content to it.<br>\n",
    "Since the random access memory(RAM) is volatile i.e. all the content in it losses when power supply is cut to it, so we use file system to store our data permanently."
   ]
  },
  {
   "cell_type": "markdown",
   "metadata": {},
   "source": [
    "# Types of file<br>\n",
    "1. Text Files (ex:- .txt, .c etc)<br>\n",
    "2. Binary Flies (ex:- .jpg, .dat etc)<br>\n",
    "\n",
    "with the help of python we can read a file, write to a file, update a file, delete a file, and mach more."
   ]
  },
  {
   "cell_type": "markdown",
   "metadata": {},
   "source": [
    "# Opening a file"
   ]
  },
  {
   "cell_type": "markdown",
   "metadata": {},
   "source": [
    "Python has open() function for opening files. It takes two parameters: filename and mode\n"
   ]
  },
  {
   "cell_type": "code",
   "execution_count": 21,
   "metadata": {},
   "outputs": [
    {
     "name": "stdout",
     "output_type": "stream",
     "text": [
      "H!! Welcome to new lesson of learning python!\n",
      "In this lesson we will learn about learning using files python.\n",
      "Stay tuned and follow for learning new lessons\n",
      "Thnk you! bye! take care!\n"
     ]
    }
   ],
   "source": [
    "fle=open(\"txtexmpl.txt\",\"r\") # opening a file\n",
    "txt=fle.read() # reading from that file\n",
    "print(txt) # printing its content to see it on console"
   ]
  },
  {
   "cell_type": "code",
   "execution_count": 22,
   "metadata": {},
   "outputs": [],
   "source": [
    "fle.close() # closing a file"
   ]
  },
  {
   "cell_type": "markdown",
   "metadata": {},
   "source": [
    "# Modes for opening a file<br>\n",
    "r = open for reading<br>\n",
    "w = open for writing<br>\n",
    "a = open for appending<br>\n",
    "+ = open for updating<br>\n",
    "\n",
    "rb = open for read in binary mode<br>\n",
    "r+ = open for read in text mode<br>"
   ]
  },
  {
   "cell_type": "markdown",
   "metadata": {},
   "source": [
    "# Writing Files in Python<br>\n",
    "In order to write to a file, we first open it in write or append(to write at last) mode after which, we use the python, file.write() method to write to the file"
   ]
  },
  {
   "cell_type": "code",
   "execution_count": 14,
   "metadata": {},
   "outputs": [
    {
     "data": {
      "text/plain": [
       "18"
      ]
     },
     "execution_count": 14,
     "metadata": {},
     "output_type": "execute_result"
    }
   ],
   "source": [
    "f=open(\"textfileexample.txt\",\"w\") # opening to write in file\n",
    "f.write(\"Hello! How are you\")"
   ]
  },
  {
   "cell_type": "code",
   "execution_count": 17,
   "metadata": {},
   "outputs": [],
   "source": [
    "f.close()"
   ]
  },
  {
   "cell_type": "code",
   "execution_count": 19,
   "metadata": {},
   "outputs": [],
   "source": [
    "g=open(\"textfileexample.txt\",\"a\") # appending at last\n",
    "g.write(\"Take Care\")\n",
    "g.close()"
   ]
  },
  {
   "cell_type": "code",
   "execution_count": 20,
   "metadata": {},
   "outputs": [
    {
     "name": "stdout",
     "output_type": "stream",
     "text": [
      "Hello! How are youTake Care\n"
     ]
    }
   ],
   "source": [
    "h=open(\"textfileexample.txt\",\"r\") # opening to read\n",
    "i=h.read()\n",
    "print(i)"
   ]
  },
  {
   "cell_type": "code",
   "execution_count": 23,
   "metadata": {},
   "outputs": [],
   "source": [
    "h.close()"
   ]
  },
  {
   "cell_type": "markdown",
   "metadata": {},
   "source": [
    "# with statement<br>\n",
    "The best way to open and close the file automatically is the with statement"
   ]
  },
  {
   "cell_type": "code",
   "execution_count": 25,
   "metadata": {},
   "outputs": [
    {
     "name": "stdout",
     "output_type": "stream",
     "text": [
      "<_io.TextIOWrapper name='textfileexample.txt' mode='r' encoding='cp1252'>\n"
     ]
    }
   ],
   "source": [
    "with open(\"textfileexample.txt\") as b:\n",
    "    b.read()\n",
    "print(b)"
   ]
  },
  {
   "cell_type": "code",
   "execution_count": null,
   "metadata": {},
   "outputs": [],
   "source": []
  }
 ],
 "metadata": {
  "kernelspec": {
   "display_name": "Python 3",
   "language": "python",
   "name": "python3"
  },
  "language_info": {
   "codemirror_mode": {
    "name": "ipython",
    "version": 3
   },
   "file_extension": ".py",
   "mimetype": "text/x-python",
   "name": "python",
   "nbconvert_exporter": "python",
   "pygments_lexer": "ipython3",
   "version": "3.8.3"
  }
 },
 "nbformat": 4,
 "nbformat_minor": 4
}
