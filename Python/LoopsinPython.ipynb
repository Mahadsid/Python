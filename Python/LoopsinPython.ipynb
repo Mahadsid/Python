{
 "cells": [
  {
   "cell_type": "markdown",
   "metadata": {},
   "source": [
    "# Loops in Python"
   ]
  },
  {
   "cell_type": "markdown",
   "metadata": {},
   "source": [
    "Primirarly there are two types of loops in python:<br>\n",
    "1.while loop<br>\n",
    "2.for loop<br>\n"
   ]
  },
  {
   "cell_type": "markdown",
   "metadata": {},
   "source": [
    "# While Loop"
   ]
  },
  {
   "cell_type": "markdown",
   "metadata": {},
   "source": [
    "In while loop condition is checked first.<br>\n",
    "If it is evaluates to true, the body of loop is executed otherwise not<br>\n",
    "If it evaluates to true, then the process of condition check and execution is continued until the condition becomes false(we knowingly use certain condition thats gets terminated after some iteration otherwise a true condition gets executed for lifetime and your computer gets blown up!! hehe)<br>\n",
    "syntax:<br>\n",
    "while(condition)<br>\n",
    "    body of the program"
   ]
  },
  {
   "cell_type": "code",
   "execution_count": 1,
   "metadata": {},
   "outputs": [
    {
     "name": "stdout",
     "output_type": "stream",
     "text": [
      "give number of iteration: 5\n",
      "5\n",
      "This is iteration no. 1\n",
      "10\n",
      "This is iteration no. 2\n",
      "15\n",
      "This is iteration no. 3\n",
      "20\n",
      "This is iteration no. 4\n",
      "done\n"
     ]
    }
   ],
   "source": [
    "a=int(input(\"give number of iteration: \"))\n",
    "i=1\n",
    "while(i<a):\n",
    "    print(i*5)\n",
    "    print(\"This is iteration no.\",i)\n",
    "    i+=1 #i=i+1\n",
    "print(\"done\")"
   ]
  },
  {
   "cell_type": "markdown",
   "metadata": {},
   "source": [
    "## Break Statement"
   ]
  },
  {
   "cell_type": "markdown",
   "metadata": {},
   "source": [
    "Break is used to come out of loop when encountered.<br>\n",
    "It instructs the program to exit the loop NOW!"
   ]
  },
  {
   "cell_type": "code",
   "execution_count": 2,
   "metadata": {},
   "outputs": [
    {
     "name": "stdout",
     "output_type": "stream",
     "text": [
      "Inside Else\n",
      "Inside Else\n",
      "Inside Else\n",
      "Inside Else\n",
      "Inside Else\n",
      "Inside Else\n",
      "Inside Else\n",
      "Inside Else\n",
      "Inside If\n",
      "done\n"
     ]
    }
   ],
   "source": [
    "n = 10\n",
    "i = 1 \n",
    "while True:\n",
    "    if i%9 == 0: \n",
    "        print(\"Inside If\")\n",
    "        break\n",
    "    else: \n",
    "        i = i+1\n",
    "        print(\"Inside Else\")\n",
    "print(\"done\")"
   ]
  },
  {
   "cell_type": "code",
   "execution_count": 3,
   "metadata": {},
   "outputs": [
    {
     "name": "stdout",
     "output_type": "stream",
     "text": [
      "0\n",
      "1\n",
      "2\n",
      "3\n"
     ]
    }
   ],
   "source": [
    "for i in range(0,80):\n",
    "    print(i)\n",
    "    if i==3:\n",
    "        break"
   ]
  },
  {
   "cell_type": "markdown",
   "metadata": {},
   "source": [
    "## Continue Statement"
   ]
  },
  {
   "cell_type": "markdown",
   "metadata": {},
   "source": [
    "Continue is used to stop the current iteration of the loop and continue with the next one.<br>\n",
    "It instructs the program to 'skip the particular iteration'\n",
    "                                                                                          "
   ]
  },
  {
   "cell_type": "code",
   "execution_count": 4,
   "metadata": {},
   "outputs": [
    {
     "name": "stdout",
     "output_type": "stream",
     "text": [
      "I am not divisble 9\n",
      "I am not divisble 9\n",
      "I am not divisble 9\n",
      "I am not divisble 9\n",
      "I am not divisble 9\n",
      "I am not divisble 9\n",
      "I am not divisble 9\n",
      "I am not divisble 9\n",
      "HII i am divisble by 9\n",
      "done\n"
     ]
    }
   ],
   "source": [
    "n = 10\n",
    "i = 1 \n",
    "while True:\n",
    "    if i%9 != 0:\n",
    "        print(\"I am not divisble 9\")\n",
    "        i += 1\n",
    "        continue\n",
    "    print(\"HII i am divisble by 9\")\n",
    "    break\n",
    "\n",
    "print(\"done\")"
   ]
  },
  {
   "cell_type": "code",
   "execution_count": 5,
   "metadata": {},
   "outputs": [
    {
     "name": "stdout",
     "output_type": "stream",
     "text": [
      "printing\n",
      "0\n",
      "printing\n",
      "1\n",
      "printing\n",
      "printing\n",
      "3\n",
      "printing\n",
      "4\n"
     ]
    }
   ],
   "source": [
    "for i in range(0,5):\n",
    "    print(\"printing\")\n",
    "    if i==2: #skips the iteration 2\n",
    "        continue\n",
    "    print(i)"
   ]
  },
  {
   "cell_type": "markdown",
   "metadata": {},
   "source": [
    "## Pass Statement"
   ]
  },
  {
   "cell_type": "markdown",
   "metadata": {},
   "source": [
    "It instructs to do nothing basically."
   ]
  },
  {
   "cell_type": "code",
   "execution_count": 6,
   "metadata": {},
   "outputs": [
    {
     "name": "stdout",
     "output_type": "stream",
     "text": [
      "all  iteration gets passed and gets out\n"
     ]
    }
   ],
   "source": [
    "l=[1,7,8]\n",
    "for i in l:\n",
    "    pass\n",
    "print(\"all  iteration gets passed and gets out\")\n",
    "\n"
   ]
  },
  {
   "cell_type": "markdown",
   "metadata": {},
   "source": [
    "# For loop"
   ]
  },
  {
   "cell_type": "markdown",
   "metadata": {},
   "source": [
    "A for loop is used to iterate a sequence like list, tuple or a string."
   ]
  },
  {
   "cell_type": "code",
   "execution_count": 7,
   "metadata": {},
   "outputs": [
    {
     "name": "stdout",
     "output_type": "stream",
     "text": [
      "1\n",
      "2\n",
      "3\n",
      "6\n",
      "9\n"
     ]
    }
   ],
   "source": [
    "l=[1,2,3,6,9]\n",
    "for item in l:\n",
    "    print(item)"
   ]
  },
  {
   "cell_type": "code",
   "execution_count": 8,
   "metadata": {},
   "outputs": [
    {
     "name": "stdout",
     "output_type": "stream",
     "text": [
      "1\n",
      "2\n",
      "3\n",
      "4\n",
      "5\n",
      "6\n",
      "7\n",
      "8\n",
      "9\n",
      "10\n",
      "[0, 1, 4, 9, 16, 25, 36, 49, 64, 81]\n"
     ]
    }
   ],
   "source": [
    "l=[]\n",
    "for i in range(10): # i will be zero initially\n",
    "    print(i+1)\n",
    "    l.append(i**2)\n",
    "print(l)"
   ]
  },
  {
   "cell_type": "markdown",
   "metadata": {},
   "source": [
    "# Range Function"
   ]
  },
  {
   "cell_type": "markdown",
   "metadata": {},
   "source": [
    "The function in pyton is used to generate a sequence of numbes.<br>\n",
    "We also specify the start, stop, and step size as follows:<br>\n",
    "range(start,stop,step_size)\n"
   ]
  },
  {
   "cell_type": "code",
   "execution_count": 9,
   "metadata": {},
   "outputs": [
    {
     "name": "stdout",
     "output_type": "stream",
     "text": [
      "0\n",
      "2\n",
      "4\n",
      "6\n",
      "8\n"
     ]
    }
   ],
   "source": [
    "for i in range(0,10,2):\n",
    "    print(i)"
   ]
  },
  {
   "cell_type": "markdown",
   "metadata": {},
   "source": [
    "# For loop with else"
   ]
  },
  {
   "cell_type": "markdown",
   "metadata": {},
   "source": [
    "An optional else can be used with a for loop if the code is to be executed when the loop exhausted."
   ]
  },
  {
   "cell_type": "code",
   "execution_count": 10,
   "metadata": {},
   "outputs": [
    {
     "name": "stdout",
     "output_type": "stream",
     "text": [
      "1\n",
      "2\n",
      "3\n",
      "4\n",
      "5\n",
      "6\n",
      "7\n",
      "8\n",
      "9\n",
      "done\n"
     ]
    }
   ],
   "source": [
    "L=[1,2,3,4,5,6,7,8,9]\n",
    "for item in L:\n",
    "    print(item)\n",
    "else:\n",
    "    print(\"done\")"
   ]
  },
  {
   "cell_type": "code",
   "execution_count": 11,
   "metadata": {},
   "outputs": [
    {
     "name": "stdout",
     "output_type": "stream",
     "text": [
      "music\n",
      "apple\n",
      "55.5\n",
      "Done Printing\n"
     ]
    }
   ],
   "source": [
    "S={\"apple\", 55.5, \"music\"} \n",
    "for i in S:\n",
    "    print(i)\n",
    "else:\n",
    "    print(\"Done Printing\") # it will print always, unless break"
   ]
  },
  {
   "cell_type": "code",
   "execution_count": 12,
   "metadata": {},
   "outputs": [
    {
     "name": "stdout",
     "output_type": "stream",
     "text": [
      "music\n",
      "apple\n"
     ]
    }
   ],
   "source": [
    "S={\"apple\", 55.5, \"music\"} \n",
    "i=1\n",
    "for x in S:\n",
    "    print(x)\n",
    "    i+=1\n",
    "    if i==3:\n",
    "        break\n",
    "    else:\n",
    "        pass\n",
    "else:\n",
    "    print(\"Done Printing\")"
   ]
  },
  {
   "cell_type": "code",
   "execution_count": 13,
   "metadata": {},
   "outputs": [
    {
     "name": "stdout",
     "output_type": "stream",
     "text": [
      "Python 10\n",
      "Java 20\n",
      "HTML No\n"
     ]
    }
   ],
   "source": [
    "D= {\"Python\":10, \"Java\":20, \"HTML\":\"No\"}\n",
    "for i in D:\n",
    "    print(i,D[i])"
   ]
  },
  {
   "cell_type": "markdown",
   "metadata": {},
   "source": [
    "# QUES: Take a list of unsorted numbers, make another list that contain all numbers but in ascending order?"
   ]
  },
  {
   "cell_type": "code",
   "execution_count": 14,
   "metadata": {},
   "outputs": [
    {
     "name": "stdout",
     "output_type": "stream",
     "text": [
      "[-10, -8, -5, -3, -1, 0, 1, 5, 7, 8, 9]\n"
     ]
    }
   ],
   "source": [
    "L=[-5,-8,-10,-3,-1,0,1,9,5,8,7]\n",
    "for j in range(len(L)):\n",
    "    m = L[j] # Finding the minimum element from the list\n",
    "    indx = j # Finding the minimum element index from the list\n",
    "    c=j\n",
    "    for i in range(j,len(L)):\n",
    "        if L[i]<m: \n",
    "            m = L[i]\n",
    "            indx = c\n",
    "        c+=1\n",
    "\n",
    "    #print(m,indx) # gives -10 the minimum value, and 2 for index of -10 in list\n",
    "\n",
    "    #swapping\n",
    "    temp=L[j]\n",
    "    L[j]=m\n",
    "    L[indx]=temp\n",
    "\n",
    "print(L)\n"
   ]
  },
  {
   "cell_type": "markdown",
   "metadata": {},
   "source": [
    "# is & in"
   ]
  },
  {
   "cell_type": "code",
   "execution_count": 15,
   "metadata": {},
   "outputs": [
    {
     "name": "stdout",
     "output_type": "stream",
     "text": [
      "n is None\n"
     ]
    }
   ],
   "source": [
    "n=None\n",
    "if (n is None): #checks the datatype here.\n",
    "    print(\"n is None\")\n",
    "else:\n",
    "    print(\"n is not None\")"
   ]
  },
  {
   "cell_type": "code",
   "execution_count": 16,
   "metadata": {},
   "outputs": [
    {
     "name": "stdout",
     "output_type": "stream",
     "text": [
      "True\n"
     ]
    }
   ],
   "source": [
    "m=[45,46,47,49,50]\n",
    "print(45 in m ) #in is used to iterate, here we used it to iterate list, mainly used in for loop"
   ]
  },
  {
   "cell_type": "code",
   "execution_count": null,
   "metadata": {},
   "outputs": [],
   "source": []
  }
 ],
 "metadata": {
  "kernelspec": {
   "display_name": "Python 3",
   "language": "python",
   "name": "python3"
  },
  "language_info": {
   "codemirror_mode": {
    "name": "ipython",
    "version": 3
   },
   "file_extension": ".py",
   "mimetype": "text/x-python",
   "name": "python",
   "nbconvert_exporter": "python",
   "pygments_lexer": "ipython3",
   "version": "3.8.3"
  }
 },
 "nbformat": 4,
 "nbformat_minor": 4
}
