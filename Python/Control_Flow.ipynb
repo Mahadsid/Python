{
 "cells": [
  {
   "cell_type": "markdown",
   "metadata": {},
   "source": [
    "# if condition"
   ]
  },
  {
   "cell_type": "code",
   "execution_count": 2,
   "metadata": {},
   "outputs": [
    {
     "name": "stdout",
     "output_type": "stream",
     "text": [
      "20\n",
      "10\n",
      "outside if\n"
     ]
    }
   ],
   "source": [
    "a=int(input())\n",
    "b=int(input())\n",
    "if b>a :\n",
    "    print(b) # this will only print only if b>a\n",
    "print(\"outside if\") # this is outside if block this gets print every time"
   ]
  },
  {
   "cell_type": "markdown",
   "metadata": {},
   "source": [
    "Q: if b is bigger than a print a or if a is bigger than b print a"
   ]
  },
  {
   "cell_type": "code",
   "execution_count": 3,
   "metadata": {},
   "outputs": [
    {
     "name": "stdout",
     "output_type": "stream",
     "text": [
      "10\n",
      "65\n",
      "65\n"
     ]
    }
   ],
   "source": [
    "a=int(input())\n",
    "b=int(input())\n",
    "if a>b:\n",
    "    print(a)\n",
    "if b>a:\n",
    "    print(b)"
   ]
  },
  {
   "cell_type": "markdown",
   "metadata": {},
   "source": [
    "### Better way to do it: if-else condition!"
   ]
  },
  {
   "cell_type": "code",
   "execution_count": 7,
   "metadata": {},
   "outputs": [
    {
     "name": "stdout",
     "output_type": "stream",
     "text": [
      "10\n",
      "15\n",
      "15\n"
     ]
    }
   ],
   "source": [
    "a=int(input())\n",
    "b=int(input())\n",
    "if a>b:\n",
    "    print(a)\n",
    "else:\n",
    "    print(b) # you dont have to write condition twice!"
   ]
  },
  {
   "cell_type": "markdown",
   "metadata": {},
   "source": [
    "what if both values are same!?"
   ]
  },
  {
   "cell_type": "code",
   "execution_count": 8,
   "metadata": {},
   "outputs": [
    {
     "name": "stdout",
     "output_type": "stream",
     "text": [
      "10\n",
      "10\n",
      "10\n",
      "else block\n"
     ]
    }
   ],
   "source": [
    "a=int(input())\n",
    "b=int(input())\n",
    "if a>b:\n",
    "    print(a)\n",
    "    print(\"if block\") # 10 is not equal to 10 \n",
    "else:\n",
    "    print(b) \n",
    "    print(\"else block\") # so else part gets printed directly"
   ]
  },
  {
   "cell_type": "markdown",
   "metadata": {},
   "source": [
    "## elif (else_if)"
   ]
  },
  {
   "cell_type": "markdown",
   "metadata": {},
   "source": [
    "you can add elif the number of times you like!"
   ]
  },
  {
   "cell_type": "code",
   "execution_count": 12,
   "metadata": {},
   "outputs": [
    {
     "name": "stdout",
     "output_type": "stream",
     "text": [
      "Enter first number:15.6545\n",
      "Enter second number:24.478\n",
      "24.478\n",
      "b is greater than a\n",
      "Thanq you!\n"
     ]
    }
   ],
   "source": [
    "a=float(input(\"Enter first number:\"))\n",
    "b=float(input(\"Enter second number:\"))\n",
    "if b>a:\n",
    "    print(b)\n",
    "    print(\"b is greater than a\")\n",
    "elif a==b:\n",
    "    print(\"a and b are equal\")\n",
    "else:\n",
    "    print(a)\n",
    "    print(\"a is grater than b\")\n",
    "print(\"Thanq you!\")"
   ]
  },
  {
   "cell_type": "markdown",
   "metadata": {},
   "source": [
    "#### short form of if elif else"
   ]
  },
  {
   "cell_type": "code",
   "execution_count": 13,
   "metadata": {},
   "outputs": [
    {
     "name": "stdout",
     "output_type": "stream",
     "text": [
      "t\n"
     ]
    }
   ],
   "source": [
    "r=10\n",
    "t=15\n",
    "print(\"r\") if r>t else print(\"equal\") if r==t else print(\"t\") "
   ]
  },
  {
   "cell_type": "code",
   "execution_count": 15,
   "metadata": {},
   "outputs": [
    {
     "name": "stdout",
     "output_type": "stream",
     "text": [
      "Enter subject marks: 50\n",
      "Below average\n"
     ]
    }
   ],
   "source": [
    "a= int(input(\"Enter subject marks: \"))\n",
    "if a>=80:\n",
    "    print(\"Grade A \")\n",
    "elif (a<80) and (a>70):\n",
    "    print(\"Grade B \")\n",
    "elif (a<70) and (a>60):\n",
    "    print(\"Grade C\")\n",
    "else:\n",
    "    print(\"Below average\")  # else is not neccessary, it can work without else"
   ]
  },
  {
   "cell_type": "markdown",
   "metadata": {},
   "source": [
    "## nested if"
   ]
  },
  {
   "cell_type": "code",
   "execution_count": 31,
   "metadata": {},
   "outputs": [
    {
     "name": "stdout",
     "output_type": "stream",
     "text": [
      "Enter a Number:35\n",
      "Number is larger than 10\n",
      "Number is larger than 30 also\n",
      "Number is larger than 30 but less than 50\n"
     ]
    }
   ],
   "source": [
    "x=float(input(\"Enter a Number:\"))\n",
    "if x>10:\n",
    "    print(\"Number is larger than 10\")\n",
    "    if x>30:\n",
    "        print(\"Number is larger than 30 also\")\n",
    "    if x>50:\n",
    "        print(\"Number is larger than 50 also\")\n",
    "    else:\n",
    "            print(\"Number is larger than 30 but less than 50\") # each if can or cannot have thier else\n",
    "else:\n",
    "    print(\"Number is less than 10\") # the indent descide which else is associated with its if (this else is associated with first if)"
   ]
  },
  {
   "cell_type": "markdown",
   "metadata": {},
   "source": [
    "## QUES: TAKE A NUMBER FROM USER AND FIND OUT IF THAT NUMBER IS EVEN OR ODD?"
   ]
  },
  {
   "cell_type": "code",
   "execution_count": 9,
   "metadata": {},
   "outputs": [
    {
     "name": "stdout",
     "output_type": "stream",
     "text": [
      "Enter a number: 65\n",
      "65\n",
      "ODD NUMBER\n"
     ]
    }
   ],
   "source": [
    "a=float(input(\"Enter a number: \"))\n",
    "b=round(a)\n",
    "if a>0: \n",
    "    if b>a:\n",
    "        c = b-1\n",
    "    else:\n",
    "        c = b\n",
    "\n",
    "else:\n",
    "    if b<a:\n",
    "        c = b+1\n",
    "    else:\n",
    "        c = b\n",
    "print(c)\n",
    "\n",
    "if c%2==0:\n",
    "    print(\"EVEN NUMBER\")\n",
    "else:\n",
    "    print(\"ODD NUMBER\")"
   ]
  },
  {
   "cell_type": "code",
   "execution_count": null,
   "metadata": {},
   "outputs": [],
   "source": []
  }
 ],
 "metadata": {
  "kernelspec": {
   "display_name": "Python 3",
   "language": "python",
   "name": "python3"
  },
  "language_info": {
   "codemirror_mode": {
    "name": "ipython",
    "version": 3
   },
   "file_extension": ".py",
   "mimetype": "text/x-python",
   "name": "python",
   "nbconvert_exporter": "python",
   "pygments_lexer": "ipython3",
   "version": "3.8.3"
  }
 },
 "nbformat": 4,
 "nbformat_minor": 4
}
