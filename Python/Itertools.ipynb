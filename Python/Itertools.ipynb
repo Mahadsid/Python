{
 "cells": [
  {
   "cell_type": "markdown",
   "metadata": {},
   "source": [
    "# Itertools"
   ]
  },
  {
   "cell_type": "markdown",
   "metadata": {},
   "source": [
    "# product"
   ]
  },
  {
   "cell_type": "code",
   "execution_count": 1,
   "metadata": {},
   "outputs": [
    {
     "name": "stdout",
     "output_type": "stream",
     "text": [
      "[(2, 6), (2, 9), (4, 6), (4, 9)]\n"
     ]
    }
   ],
   "source": [
    "from itertools import product\n",
    "a=[2,4] # combine elements as you can see in result\n",
    "b=[6,9]\n",
    "prd=product(a,b)\n",
    "print(list(prd))"
   ]
  },
  {
   "cell_type": "code",
   "execution_count": 2,
   "metadata": {},
   "outputs": [],
   "source": [
    "prd1=product(a,b, repeat=2)"
   ]
  },
  {
   "cell_type": "code",
   "execution_count": 3,
   "metadata": {},
   "outputs": [
    {
     "data": {
      "text/plain": [
       "[(2, 6, 2, 6),\n",
       " (2, 6, 2, 9),\n",
       " (2, 6, 4, 6),\n",
       " (2, 6, 4, 9),\n",
       " (2, 9, 2, 6),\n",
       " (2, 9, 2, 9),\n",
       " (2, 9, 4, 6),\n",
       " (2, 9, 4, 9),\n",
       " (4, 6, 2, 6),\n",
       " (4, 6, 2, 9),\n",
       " (4, 6, 4, 6),\n",
       " (4, 6, 4, 9),\n",
       " (4, 9, 2, 6),\n",
       " (4, 9, 2, 9),\n",
       " (4, 9, 4, 6),\n",
       " (4, 9, 4, 9)]"
      ]
     },
     "execution_count": 3,
     "metadata": {},
     "output_type": "execute_result"
    }
   ],
   "source": [
    "list(prd1)"
   ]
  },
  {
   "cell_type": "markdown",
   "metadata": {},
   "source": [
    "# permutations"
   ]
  },
  {
   "cell_type": "code",
   "execution_count": 4,
   "metadata": {},
   "outputs": [
    {
     "name": "stdout",
     "output_type": "stream",
     "text": [
      "[(2, 4, 6), (2, 6, 4), (4, 2, 6), (4, 6, 2), (6, 2, 4), (6, 4, 2)]\n"
     ]
    }
   ],
   "source": [
    "from itertools import permutations # return all possible ordering of an input\n",
    "c=[2,4,6]\n",
    "prm=permutations(c)\n",
    "print(list(prm))"
   ]
  },
  {
   "cell_type": "code",
   "execution_count": 5,
   "metadata": {},
   "outputs": [
    {
     "name": "stdout",
     "output_type": "stream",
     "text": [
      "[(2, 4), (2, 6), (4, 2), (4, 6), (6, 2), (6, 4)]\n"
     ]
    }
   ],
   "source": [
    "prm1=permutations(c,2) # with combination of 2\n",
    "print(list(prm1))"
   ]
  },
  {
   "cell_type": "markdown",
   "metadata": {},
   "source": [
    "# combinations"
   ]
  },
  {
   "cell_type": "code",
   "execution_count": 6,
   "metadata": {},
   "outputs": [
    {
     "name": "stdout",
     "output_type": "stream",
     "text": [
      "[(5, 8), (5, 9), (5, 7), (8, 9), (8, 7), (9, 7)]\n"
     ]
    }
   ],
   "source": [
    "from itertools import combinations\n",
    "d=[5,8,9,7]\n",
    "cmp=combinations(d,2) # second argument is mandotory\n",
    "print(list(cmp))"
   ]
  },
  {
   "cell_type": "code",
   "execution_count": 7,
   "metadata": {},
   "outputs": [
    {
     "name": "stdout",
     "output_type": "stream",
     "text": [
      "[(5, 5), (5, 8), (5, 9), (5, 7), (8, 8), (8, 9), (8, 7), (9, 9), (9, 7), (7, 7)]\n"
     ]
    }
   ],
   "source": [
    "from itertools import combinations_with_replacement\n",
    "cmp2=combinations_with_replacement(d,2)\n",
    "print(list(cmp2))"
   ]
  },
  {
   "cell_type": "markdown",
   "metadata": {},
   "source": [
    "# accumulate"
   ]
  },
  {
   "cell_type": "code",
   "execution_count": 8,
   "metadata": {},
   "outputs": [
    {
     "name": "stdout",
     "output_type": "stream",
     "text": [
      "[4, 5, 6, 7]\n",
      "[4, 9, 15, 22]\n"
     ]
    }
   ],
   "source": [
    "from itertools import accumulate #returns accumulated sum\n",
    "e=[4,5,6,7]\n",
    "ac=accumulate(e)\n",
    "print(e)\n",
    "print(list(ac)) # 4, 4+5=9, 9+6=15, 15+7=22 thats the answer"
   ]
  },
  {
   "cell_type": "code",
   "execution_count": 9,
   "metadata": {},
   "outputs": [
    {
     "name": "stdout",
     "output_type": "stream",
     "text": [
      "[4, 5, 6, 7]\n",
      "[4, 20, 120, 840]\n"
     ]
    }
   ],
   "source": [
    "# for multiplication\n",
    "import operator\n",
    "f=[4,5,6,7]\n",
    "am=accumulate(f, func=operator.mul) # 4, 4*5=20, 20*6=120, 120*7=840\n",
    "print(f)\n",
    "print(list(am))"
   ]
  },
  {
   "cell_type": "code",
   "execution_count": 10,
   "metadata": {},
   "outputs": [
    {
     "name": "stdout",
     "output_type": "stream",
     "text": [
      "[4, 5, 6, 7, 6, 2, 3]\n",
      "[4, 5, 6, 7, 7, 7, 7]\n"
     ]
    }
   ],
   "source": [
    "# fir maximum value\n",
    "import operator\n",
    "g=[4,5,6,7,6,2,3]\n",
    "maxx=accumulate(g, func=max) # find maximum vlaue and comapre it witch each element in list and print the max value in place of it\n",
    "print(g)\n",
    "print(list(maxx))"
   ]
  },
  {
   "cell_type": "code",
   "execution_count": 11,
   "metadata": {},
   "outputs": [
    {
     "name": "stdout",
     "output_type": "stream",
     "text": [
      "[4, 5, 6, 7, 6, 2, 3]\n",
      "[4, 4, 4, 4, 4, 2, 2]\n"
     ]
    }
   ],
   "source": [
    "# fir minimum value\n",
    "import operator\n",
    "h=[4,5,6,7,6,2,3]\n",
    "minn=accumulate(h, func=min) # find minimum vlaue and comapre it witch each element in list and print the min value in place of it\n",
    "print(h)\n",
    "print(list(minn))"
   ]
  },
  {
   "cell_type": "markdown",
   "metadata": {},
   "source": [
    "# groupby"
   ]
  },
  {
   "cell_type": "code",
   "execution_count": 12,
   "metadata": {},
   "outputs": [
    {
     "name": "stdout",
     "output_type": "stream",
     "text": [
      "True [1, 2]\n",
      "False [5, 6]\n"
     ]
    }
   ],
   "source": [
    "from itertools import groupby\n",
    "def smallerthn3(x):\n",
    "    return x<3\n",
    "i=[1,2,5,6]\n",
    "grp=groupby(i, key= smallerthn3) # we grouped our lsit into two 1 smaller than 3 true, second with not smaller than three or false \n",
    "for key, value in grp:\n",
    "    print(key,list(value))"
   ]
  },
  {
   "cell_type": "code",
   "execution_count": 13,
   "metadata": {},
   "outputs": [
    {
     "name": "stdout",
     "output_type": "stream",
     "text": [
      "True [1, 2]\n",
      "False [5, 6]\n"
     ]
    }
   ],
   "source": [
    "# using lamda function (we will see it in detail in next slide)\n",
    "from itertools import groupby\n",
    "def smallerthn3(x):\n",
    "    return x<3\n",
    "i=[1,2,5,6]\n",
    "grp=groupby(i, key=lambda x: x<3) # we grouped our lsit into two 1 smaller than 3 true, second with not smaller than three or false \n",
    "for key, value in grp:\n",
    "    print(key,list(value))"
   ]
  },
  {
   "cell_type": "code",
   "execution_count": 14,
   "metadata": {},
   "outputs": [
    {
     "name": "stdout",
     "output_type": "stream",
     "text": [
      "3 [{'name': 'Tesla', 'age': 3}]\n",
      "5 [{'name': 'Ford', 'age': 5}, {'name': 'bently', 'age': 5}]\n",
      "10 [{'name': 'mercedes', 'age': 10}]\n"
     ]
    }
   ],
   "source": [
    "from itertools import groupby\n",
    "\n",
    "company=[{\"name\":\"Tesla\", \"age\":3}, {\"name\":\"Ford\", \"age\": 5}, {\"name\":\"bently\", \"age\":5}, {\"name\":\"mercedes\", \"age\":10}]\n",
    "grp=groupby(company, key=lambda x: x['age']) # we grouped our lsit into two 1 smaller than 3 true, second with not smaller than three or false \n",
    "for key, value in grp:\n",
    "    print(key,list(value))"
   ]
  },
  {
   "cell_type": "markdown",
   "metadata": {},
   "source": [
    "# infinite iterators such as count,cycle,repeat"
   ]
  },
  {
   "cell_type": "code",
   "execution_count": 15,
   "metadata": {},
   "outputs": [
    {
     "name": "stdout",
     "output_type": "stream",
     "text": [
      "10\n",
      "11\n",
      "12\n",
      "13\n",
      "14\n",
      "15\n",
      "16\n",
      "17\n",
      "18\n",
      "19\n",
      "20\n"
     ]
    }
   ],
   "source": [
    "from itertools import count,cycle,repeat\n",
    "for i in count(10):\n",
    "    print(i)\n",
    "    if i == 20:\n",
    "        break"
   ]
  },
  {
   "cell_type": "code",
   "execution_count": 16,
   "metadata": {},
   "outputs": [
    {
     "name": "stdout",
     "output_type": "stream",
     "text": [
      "1\n",
      "2\n",
      "3\n",
      "4\n",
      "5\n"
     ]
    }
   ],
   "source": [
    "lst=[1,2,3,4,5]\n",
    "for i in cycle(lst): # giving break otherwise endless \n",
    "    print(i)\n",
    "    if i ==5:\n",
    "        break"
   ]
  },
  {
   "cell_type": "code",
   "execution_count": 17,
   "metadata": {},
   "outputs": [
    {
     "name": "stdout",
     "output_type": "stream",
     "text": [
      "1\n",
      "1\n",
      "1\n",
      "1\n",
      "1\n"
     ]
    }
   ],
   "source": [
    "for i in repeat(1,5): # repeat(what you want to repeat, stop condition)\n",
    "    print(i)"
   ]
  },
  {
   "cell_type": "code",
   "execution_count": null,
   "metadata": {},
   "outputs": [],
   "source": []
  }
 ],
 "metadata": {
  "kernelspec": {
   "display_name": "Python 3",
   "language": "python",
   "name": "python3"
  },
  "language_info": {
   "codemirror_mode": {
    "name": "ipython",
    "version": 3
   },
   "file_extension": ".py",
   "mimetype": "text/x-python",
   "name": "python",
   "nbconvert_exporter": "python",
   "pygments_lexer": "ipython3",
   "version": "3.8.3"
  }
 },
 "nbformat": 4,
 "nbformat_minor": 4
}
