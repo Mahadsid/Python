{
 "cells": [
  {
   "cell_type": "code",
   "execution_count": 2,
   "metadata": {},
   "outputs": [],
   "source": [
    "import numpy as np\n",
    "C = np.array([[[1,2,3],[4,5,6],[0,0,-1]],[[-1,-2,-3],[-4,-5,-6],[0,0,1]]]) #  array of , two dimensional arrays is 3d array"
   ]
  },
  {
   "cell_type": "code",
   "execution_count": 3,
   "metadata": {},
   "outputs": [
    {
     "data": {
      "text/plain": [
       "array([[[ 1,  2,  3],\n",
       "        [ 4,  5,  6],\n",
       "        [ 0,  0, -1]],\n",
       "\n",
       "       [[-1, -2, -3],\n",
       "        [-4, -5, -6],\n",
       "        [ 0,  0,  1]]])"
      ]
     },
     "execution_count": 3,
     "metadata": {},
     "output_type": "execute_result"
    }
   ],
   "source": [
    "C"
   ]
  },
  {
   "cell_type": "code",
   "execution_count": 8,
   "metadata": {},
   "outputs": [
    {
     "name": "stdout",
     "output_type": "stream",
     "text": [
      "FIRST COME FIRST SERVE SCHEDULLING\n",
      "Enter number of processes : 2\n",
      "Enter arrival time of process1: 1\n",
      "Enter burst time of process1: 1\n",
      "Enter arrival time of process2: 2\n",
      "Enter burst time of process2: 2\n",
      "{'P1': [1, 1], 'P2': [2, 2]}\n",
      "Process | Arrival | Burst | Exit | Turn Around | Wait |\n",
      "    P1    |    1  |     1  |     1   |     0   |    -1    |  \n",
      "    P2    |    2  |     2  |     3   |     1   |    -1    |  \n",
      "Average Waiting Time:  -1.0\n"
     ]
    }
   ],
   "source": [
    "print(\"FIRST COME FIRST SERVE SCHEDULLING\")\n",
    "n= int(input(\"Enter number of processes : \"))\n",
    "d = dict()\n",
    " \n",
    "for i in range(n):\n",
    "    key = \"P\"+str(i+1)\n",
    "    a = int(input(\"Enter arrival time of process\"+str(i+1)+\": \"))\n",
    "    b = int(input(\"Enter burst time of process\"+str(i+1)+\": \"))\n",
    "    l = []\n",
    "    l.append(a)\n",
    "    l.append(b)\n",
    "    d[key] = l\n",
    "print(d) \n",
    "\n",
    "d = sorted(d.items(), key=lambda item: item[1][0])\n",
    " \n",
    "ET = []\n",
    "for i in range(len(d)):\n",
    "    # first process\n",
    "    if(i==0):\n",
    "        ET.append(d[i][1][1])\n",
    " \n",
    "    # get prevET + newBT\n",
    "    else:\n",
    "        ET.append(ET[i-1] + d[i][1][1])\n",
    " \n",
    "TAT = []\n",
    "for i in range(len(d)):\n",
    "    TAT.append(ET[i] - d[i][1][0])\n",
    " \n",
    "WT = []\n",
    "for i in range(len(d)):\n",
    "    WT.append(TAT[i] - d[i][1][1])\n",
    " \n",
    "avg_WT = 0\n",
    "for i in WT:\n",
    "    avg_WT +=i\n",
    "avg_WT = (avg_WT/n)\n",
    " \n",
    "print(\"Process | Arrival | Burst | Exit | Turn Around | Wait |\")\n",
    "for i in range(n):\n",
    "      print(\"   \",d[i][0],\"   |   \",d[i][1][0],\" |    \",d[i][1][1],\" |    \",ET[i],\"  |    \",TAT[i],\"  |   \",WT[i],\"   |  \")\n",
    "print(\"Average Waiting Time: \",avg_WT)"
   ]
  },
  {
   "cell_type": "code",
   "execution_count": 1,
   "metadata": {},
   "outputs": [
    {
     "name": "stdout",
     "output_type": "stream",
     "text": [
      "First Come First Serve scheduling\n",
      "Enter The Number of Processes: 2\n",
      "Enter arrival time of process1: 4\n",
      "Enter burst time of process1: 5\n",
      "Enter arrival time of process2: 6\n",
      "Enter burst time of process2: 7\n",
      "[('P1', [4, 5]), ('P2', [6, 7])]\n",
      "1\n"
     ]
    }
   ],
   "source": [
    "print(\"First Come First Serve scheduling\")\n",
    "n= int(input(\"Enter The Number of Processes: \"))\n",
    "d=dict()\n",
    "\n",
    "for i in range(n):\n",
    "    key = \"P\"+str(i+1)\n",
    "    a = int(input(\"Enter arrival time of process\"+str(i+1)+\": \"))\n",
    "    b = int(input(\"Enter burst time of process\"+str(i+1)+\": \"))\n",
    "    l=[]\n",
    "    l.append(a)\n",
    "    l.append(b)\n",
    "    d[key] = l\n",
    "\n",
    "d=sorted(d.items())\n",
    "print(d)\n",
    "\n",
    "print(d[0][0][1])\n"
   ]
  },
  {
   "cell_type": "code",
   "execution_count": 6,
   "metadata": {},
   "outputs": [
    {
     "name": "stdout",
     "output_type": "stream",
     "text": [
      "FIRST COME FIRST SERVE SCHEDULLING\n",
      "Enter number of processes : 2\n",
      "Enter arrival time of process1: 6\n",
      "Enter burst time of process1: 7\n",
      "Enter arrival time of process2: 4\n",
      "Enter burst time of process2: 5\n",
      "[('P2', [4, 5]), ('P1', [6, 7])]\n",
      "('P2', [4, 5])\n"
     ]
    }
   ],
   "source": [
    "print(\"FIRST COME FIRST SERVE SCHEDULLING\")\n",
    "n= int(input(\"Enter number of processes : \"))\n",
    "d = dict()\n",
    " \n",
    "for i in range(n):\n",
    "    key = \"P\"+str(i+1)\n",
    "    a = int(input(\"Enter arrival time of process\"+str(i+1)+\": \"))\n",
    "    b = int(input(\"Enter burst time of process\"+str(i+1)+\": \"))\n",
    "    l = []\n",
    "    l.append(a)\n",
    "    l.append(b)\n",
    "    d[key] = l\n",
    "d = sorted(d.items(), key=lambda item: item[1][0])\n",
    "print(d) \n",
    "print(d[0])"
   ]
  },
  {
   "cell_type": "code",
   "execution_count": 8,
   "metadata": {},
   "outputs": [
    {
     "name": "stdout",
     "output_type": "stream",
     "text": [
      "Processes Burst time  Waiting time  Turn around time\n",
      " 1\t\t2\t 0\t\t 2\n",
      " 2\t\t2\t 2\t\t 4\n",
      " 3\t\t3\t 4\t\t 7\n",
      " 4\t\t4\t 7\t\t 11\n",
      "Average waiting time = 3.25\n",
      "Average turn around time = 6.0\n"
     ]
    }
   ],
   "source": [
    "# Python3 program for implementation\n",
    "# of FCFS scheduling\n",
    " \n",
    "# Function to find the waiting\n",
    "# time for all processes\n",
    "def findWaitingTime(processes, n,\n",
    "                    bt, wt):\n",
    " \n",
    "    # waiting time for\n",
    "    # first process is 0\n",
    "    wt[0] = 0\n",
    " \n",
    "    # calculating waiting time\n",
    "    for i in range(1, n ):\n",
    "        wt[i] = bt[i - 1] + wt[i - 1]\n",
    " \n",
    "# Function to calculate turn\n",
    "# around time\n",
    "def findTurnAroundTime(processes, n,\n",
    "                       bt, wt, tat):\n",
    " \n",
    "    # calculating turnaround\n",
    "    # time by adding bt[i] + wt[i]\n",
    "    for i in range(n):\n",
    "        tat[i] = bt[i] + wt[i]\n",
    " \n",
    "# Function to calculate\n",
    "# average time\n",
    "def findavgTime( processes, n, bt):\n",
    " \n",
    "    wt = [0] * n\n",
    "    tat = [0] * n\n",
    "    total_wt = 0\n",
    "    total_tat = 0\n",
    " \n",
    "    # Function to find waiting\n",
    "    # time of all processes\n",
    "    findWaitingTime(processes, n, bt, wt)\n",
    " \n",
    "    # Function to find turn around\n",
    "    # time for all processes\n",
    "    findTurnAroundTime(processes, n,\n",
    "                       bt, wt, tat)\n",
    " \n",
    "    # Display processes along\n",
    "    # with all details\n",
    "    print( \"Processes Burst time \" +\n",
    "                  \" Waiting time \" +\n",
    "                \" Turn around time\")\n",
    " \n",
    "    # Calculate total waiting time\n",
    "    # and total turn around time\n",
    "    for i in range(n):\n",
    "     \n",
    "        total_wt = total_wt + wt[i]\n",
    "        total_tat = total_tat + tat[i]\n",
    "        print(\" \" + str(i + 1) + \"\\t\\t\" +\n",
    "                    str(bt[i]) + \"\\t \" +\n",
    "                    str(wt[i]) + \"\\t\\t \" +\n",
    "                    str(tat[i]))\n",
    " \n",
    "    print( \"Average waiting time = \"+\n",
    "                   str(total_wt / n))\n",
    "    print(\"Average turn around time = \"+\n",
    "                     str(total_tat / n))\n",
    " \n",
    "# Driver code\n",
    "if __name__ ==\"__main__\":\n",
    "     \n",
    "    # process id's\n",
    "    processes = [ 1, 2, 3, 4]\n",
    "    n = len(processes)\n",
    " \n",
    "    # Burst time of all processes\n",
    "    burst_time = [2, 2, 3, 4]\n",
    " \n",
    "    findavgTime(processes, n, burst_time)\n",
    " \n",
    "# This code is contributed\n",
    "# by ChitraNayal"
   ]
  },
  {
   "cell_type": "code",
   "execution_count": null,
   "metadata": {},
   "outputs": [],
   "source": []
  },
  {
   "cell_type": "code",
   "execution_count": null,
   "metadata": {},
   "outputs": [],
   "source": []
  }
 ],
 "metadata": {
  "kernelspec": {
   "display_name": "Python 3",
   "language": "python",
   "name": "python3"
  },
  "language_info": {
   "codemirror_mode": {
    "name": "ipython",
    "version": 3
   },
   "file_extension": ".py",
   "mimetype": "text/x-python",
   "name": "python",
   "nbconvert_exporter": "python",
   "pygments_lexer": "ipython3",
   "version": "3.8.3"
  }
 },
 "nbformat": 4,
 "nbformat_minor": 4
}
